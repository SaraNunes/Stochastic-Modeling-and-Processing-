{
 "cells": [
  {
   "cell_type": "code",
   "execution_count": 2,
   "metadata": {},
   "outputs": [],
   "source": [
    "from scipy.stats import binom\n",
    "from scipy.stats import geom\n",
    "from scipy.stats import hypergeom\n",
    "from scipy.stats import poisson\n",
    "from scipy.stats import nbinom\n",
    "from scipy.stats import expon\n",
    "from scipy.stats import norm\n",
    "from scipy import stats\n",
    "import pandas as pd\n",
    "import sympy as sp\n",
    "from sympy import *\n",
    "sp.init_printing()\n",
    "import matplotlib.pyplot as plt\n",
    "import scipy.integrate as integrate\n",
    "import scipy.special as special\n",
    "from scipy.integrate import quad\n",
    "import numpy as np\n",
    "from scipy.misc import derivative\n",
    "import math\n",
    "from math import *\n",
    "from fractions import Fraction\n",
    "import fractions\n",
    "from IPython.display import display, Math, Latex\n",
    "from sympy.abc import x\n",
    "from sympy import Poly\n",
    "from sympy.solvers.inequalities import solve_rational_inequalities\n",
    "%matplotlib inline"
   ]
  },
  {
   "cell_type": "markdown",
   "metadata": {},
   "source": [
    "# Assignment 1"
   ]
  },
  {
   "cell_type": "markdown",
   "metadata": {},
   "source": [
    "A company claims that the amount of coffee from their coffee machine is normal distributed around 250 gram, with a standard deviation of 2.5 gram. "
   ]
  },
  {
   "cell_type": "code",
   "execution_count": 4,
   "metadata": {},
   "outputs": [],
   "source": [
    "#A buyer try the machine 25 times, and gets the following results \n",
    "\n",
    "X= np.array([252.0 , 253.0 , 249.0 , 248.1, 251.7, 245.5, 249.6, 250.4, 252.5, 250.6,\n",
    "             249.7, 248.2, 249.5, 247.6, 253.5, 247.6, 248.5, 252.3, 253.7, 255.7, 258.1, 252.9, 251.8, 252.3, 253.6])\n",
    " "
   ]
  },
  {
   "cell_type": "code",
   "execution_count": 5,
   "metadata": {},
   "outputs": [
    {
     "name": "stdout",
     "output_type": "stream",
     "text": [
      "[245.5 247.6 248.1 248.2 248.5 249.  249.5 249.6 249.7 250.4 250.6 251.7\n",
      " 251.8 252.  252.3 252.5 252.9 253.  253.5 253.6 253.7 255.7 258.1] [1 2 1 1 1 1 1 1 1 1 1 1 1 1 2 1 1 1 1 1 1 1 1]\n"
     ]
    },
    {
     "data": {
      "image/png": "[encoded data removed]",
      "text/plain": [
       "<Figure size 432x288 with 1 Axes>"
      ]
     },
     "metadata": {
      "needs_background": "light"
     },
     "output_type": "display_data"
    }
   ],
   "source": [
    "unique, counts = np.unique(X, return_counts=True) \n",
    "print(unique, counts)\n",
    "plt.hist(X, bins=30);"
   ]
  },
  {
   "cell_type": "code",
   "execution_count": 9,
   "metadata": {},
   "outputs": [
    {
     "data": {
      "image/png": "[encoded data removed]",
      "text/latex": [
       "$\\displaystyle 251.09600000000003$"
      ],
      "text/plain": [
       "251.09600000000003"
      ]
     },
     "execution_count": 9,
     "metadata": {},
     "output_type": "execute_result"
    }
   ],
   "source": [
    "# 1. What is the sample mean? \n",
    "X.mean()"
   ]
  },
  {
   "cell_type": "code",
   "execution_count": 10,
   "metadata": {},
   "outputs": [
    {
     "name": "stdout",
     "output_type": "stream",
     "text": [
      "The sample variance is =  8.092900000000018\n",
      "The sample variance is =  8.092900000000018\n"
     ]
    }
   ],
   "source": [
    "#2. What is the sample Variance? \n",
    "variance = np.sum((X-X.mean())**2)/(25-1)\n",
    "print(\"The sample variance is = \" , variance) \n",
    "print(\"The sample variance is = \" ,X.var(ddof=1)) "
   ]
  },
  {
   "cell_type": "code",
   "execution_count": 11,
   "metadata": {},
   "outputs": [
    {
     "data": {
      "image/png": "[encoded data removed]",
      "text/latex": [
       "$\\displaystyle 2.8448022778393613$"
      ],
      "text/plain": [
       "2.8448022778393613"
      ]
     },
     "execution_count": 11,
     "metadata": {},
     "output_type": "execute_result"
    }
   ],
   "source": [
    "#3. What is the sample standard deviation?\n",
    "stdev = sqrt(variance)\n",
    "stdev"
   ]
  },
  {
   "cell_type": "code",
   "execution_count": 12,
   "metadata": {},
   "outputs": [
    {
     "name": "stdout",
     "output_type": "stream",
     "text": [
      "p_value =  0.028379506632798757\n"
     ]
    }
   ],
   "source": [
    "#4. What is the P-value (2-tailed)? \n",
    "#This is the formula to do it without calculate z value:\n",
    "prob = norm.cdf(X.mean(), loc=250, scale=2.5/np.sqrt(len(X))) \n",
    "p_val = 2*min(prob, 1-prob) \n",
    "print('p_value = ', p_val) # p_value =  0.0283795"
   ]
  },
  {
   "cell_type": "code",
   "execution_count": 13,
   "metadata": {},
   "outputs": [
    {
     "data": {
      "image/png": "[encoded data removed]",
      "text/latex": [
       "$\\displaystyle 0.028379506632798757$"
      ],
      "text/plain": [
       "0.028379506632798757"
      ]
     },
     "execution_count": 13,
     "metadata": {},
     "output_type": "execute_result"
    }
   ],
   "source": [
    "#Calculating z value first, you can use it to ckeck.\n",
    "z = (X.mean()-250) / ((2.5)/sqrt(25))\n",
    "prob = norm.cdf(z)\n",
    "p_val = 2*min(prob, 1-prob) \n",
    "p_val"
   ]
  },
  {
   "cell_type": "code",
   "execution_count": 14,
   "metadata": {},
   "outputs": [],
   "source": [
    "#5. Can the buyer reject that it is correctly calibrated with significant level α, of 5% ? \n",
    "\n",
    "#yes as P_value is less than the significanse level 5% . To accept, the P-value needs to be bigger than alfa (0.05 in this case)"
   ]
  },
  {
   "cell_type": "markdown",
   "metadata": {},
   "source": [
    "After rejecting the hypothesis that the coffee machine is correctly calibrated, the buyer confronts the company. The company argues that it is correctly calibrated, but admits that they don’t know the true standard deviation. "
   ]
  },
  {
   "cell_type": "code",
   "execution_count": 15,
   "metadata": {},
   "outputs": [
    {
     "name": "stdout",
     "output_type": "stream",
     "text": [
      "p_value =  0.06598787079213086\n"
     ]
    }
   ],
   "source": [
    "#6) What is the P-value (2-tailed) when the variance is unknown? \n",
    "#Use this when variance/standart deviation is unknown\n",
    "prob = stats.t.cdf(X.mean(), df=len(X)-1, loc=250, scale=X.std(ddof=1)/np.sqrt(len(X))) \n",
    "p_val = 2*min(prob, 1-prob) \n",
    "print('p_value = ', p_val) #p_value =  0.06598787 "
   ]
  },
  {
   "cell_type": "code",
   "execution_count": 16,
   "metadata": {},
   "outputs": [
    {
     "name": "stdout",
     "output_type": "stream",
     "text": [
      "P_value =  6.5987870792130865  %\n"
     ]
    }
   ],
   "source": [
    "#same thing but with formula t value (sample mean - mean) / (sample std/sqrt(number of samples))\n",
    "t_value = (X.mean() - 250)/(stdev/sqrt(25))\n",
    "t_value \n",
    "prop = stats.t.cdf(t_value,24)\n",
    "P_val=2*min(prop,1-prop)\n",
    "print('P_value = ', P_val*100, ' %')"
   ]
  },
  {
   "cell_type": "code",
   "execution_count": 25,
   "metadata": {},
   "outputs": [],
   "source": [
    "# 7)Can the buyer reject that it is correctly calibrated with significant level α, of 5% ? \n",
    "#No, because the P value (0.065) is bigger than the significant livel (0.05) "
   ]
  },
  {
   "cell_type": "markdown",
   "metadata": {},
   "source": [
    "# Assignment 2"
   ]
  },
  {
   "cell_type": "markdown",
   "metadata": {},
   "source": [
    "A suspicious guy is gambling and winning lots of money by flipping a coin. Heads he wins, tails he looses. He is using his own coin. "
   ]
  },
  {
   "cell_type": "markdown",
   "metadata": {},
   "source": [
    "After a 15 observation he had 11 heads.  \n",
    "Make a hypothesis test, and see if you can reject it with #a significant level α, of 5%:  "
   ]
  },
  {
   "cell_type": "code",
   "execution_count": 3,
   "metadata": {},
   "outputs": [
    {
     "data": {
      "text/html": [
       "<div>\n",
       "<style scoped>\n",
       "    .dataframe tbody tr th:only-of-type {\n",
       "        vertical-align: middle;\n",
       "    }\n",
       "\n",
       "    .dataframe tbody tr th {\n",
       "        vertical-align: top;\n",
       "    }\n",
       "\n",
       "    .dataframe thead th {\n",
       "        text-align: right;\n",
       "    }\n",
       "</style>\n",
       "<table border=\"1\" class=\"dataframe\">\n",
       "  <thead>\n",
       "    <tr style=\"text-align: right;\">\n",
       "      <th></th>\n",
       "      <th>Gender</th>\n",
       "      <th>Smoker</th>\n",
       "      <th>Non-smoker</th>\n",
       "      <th>Total</th>\n",
       "    </tr>\n",
       "  </thead>\n",
       "  <tbody>\n",
       "    <tr>\n",
       "      <td>0</td>\n",
       "      <td>Male</td>\n",
       "      <td>72</td>\n",
       "      <td>44</td>\n",
       "      <td>116</td>\n",
       "    </tr>\n",
       "    <tr>\n",
       "      <td>1</td>\n",
       "      <td>Female</td>\n",
       "      <td>34</td>\n",
       "      <td>53</td>\n",
       "      <td>87</td>\n",
       "    </tr>\n",
       "    <tr>\n",
       "      <td>2</td>\n",
       "      <td>Total</td>\n",
       "      <td>106</td>\n",
       "      <td>97</td>\n",
       "      <td>203</td>\n",
       "    </tr>\n",
       "  </tbody>\n",
       "</table>\n",
       "</div>"
      ],
      "text/plain": [
       "   Gender  Smoker  Non-smoker  Total\n",
       "0    Male      72          44    116\n",
       "1  Female      34          53     87\n",
       "2   Total     106          97    203"
      ]
     },
     "execution_count": 3,
     "metadata": {},
     "output_type": "execute_result"
    }
   ],
   "source": [
    "# Hipothesis : In 15 observations we can have 11 heads\n",
    "\n",
    "#The probability of flippling a coin and getting either head or tail is 50-50 = 50% = 0.5\n",
    "#The suspicious guy is basically getting a higher probability for heads, so we test if the probability for heads can be\n",
    "#give that amount of successes \n",
    "\n",
    "#Ho = P(Head) <= 0.5  #NULL Hypothesis: the probability of getting heads is less or equals to 50% #1 tailed test\n",
    "#significance level 0.05"
   ]
  },
  {
   "cell_type": "code",
   "execution_count": 28,
   "metadata": {},
   "outputs": [
    {
     "name": "stdout",
     "output_type": "stream",
     "text": [
      "P_value =  0.059234619140624986\n",
      "P_value =  0.059234619140625173\n"
     ]
    }
   ],
   "source": [
    "#p= 0.5 #probability of getting head or tail\n",
    "#Let X be the number of heads obtained\n",
    "x= 10   #Using 10 because I want X >= 11 (Includying 11) \n",
    "#n=15 number of trials\n",
    "\n",
    "#binom uses x, n ,p\n",
    "p_val=binom.sf(k=10, n=15, p=0.5) \n",
    "print('P_value = ',p_val)\n",
    "\n",
    "# Can also be calculated in the following way but it is more complecated for me to understand: \n",
    "p_val=binom.pmf(k=[11,12,13,14,15], n=15, p=0.5) \n",
    "print('P_value = ',sum(p_val))"
   ]
  },
  {
   "cell_type": "code",
   "execution_count": 7,
   "metadata": {},
   "outputs": [],
   "source": [
    "#As the P-value > significance level we cannot reject the null-hypothesis. "
   ]
  },
  {
   "cell_type": "markdown",
   "metadata": {},
   "source": [
    "# Assignment 3"
   ]
  },
  {
   "cell_type": "markdown",
   "metadata": {},
   "source": [
    "In 1981 203 exchange students were asked if they smoked. \n",
    "Determine with a chi-square Contingency table test if there is an relation between gender and smoking habits. "
   ]
  },
  {
   "cell_type": "code",
   "execution_count": 4,
   "metadata": {},
   "outputs": [
    {
     "data": {
      "text/html": [
       "<div>\n",
       "<style scoped>\n",
       "    .dataframe tbody tr th:only-of-type {\n",
       "        vertical-align: middle;\n",
       "    }\n",
       "\n",
       "    .dataframe tbody tr th {\n",
       "        vertical-align: top;\n",
       "    }\n",
       "\n",
       "    .dataframe thead th {\n",
       "        text-align: right;\n",
       "    }\n",
       "</style>\n",
       "<table border=\"1\" class=\"dataframe\">\n",
       "  <thead>\n",
       "    <tr style=\"text-align: right;\">\n",
       "      <th></th>\n",
       "      <th>Gender</th>\n",
       "      <th>Smoker</th>\n",
       "      <th>Non-smoker</th>\n",
       "      <th>Total</th>\n",
       "    </tr>\n",
       "  </thead>\n",
       "  <tbody>\n",
       "    <tr>\n",
       "      <td>0</td>\n",
       "      <td>Male</td>\n",
       "      <td>72</td>\n",
       "      <td>44</td>\n",
       "      <td>116</td>\n",
       "    </tr>\n",
       "    <tr>\n",
       "      <td>1</td>\n",
       "      <td>Female</td>\n",
       "      <td>34</td>\n",
       "      <td>53</td>\n",
       "      <td>87</td>\n",
       "    </tr>\n",
       "    <tr>\n",
       "      <td>2</td>\n",
       "      <td>Total</td>\n",
       "      <td>106</td>\n",
       "      <td>97</td>\n",
       "      <td>203</td>\n",
       "    </tr>\n",
       "  </tbody>\n",
       "</table>\n",
       "</div>"
      ],
      "text/plain": [
       "   Gender  Smoker  Non-smoker  Total\n",
       "0    Male      72          44    116\n",
       "1  Female      34          53     87\n",
       "2   Total     106          97    203"
      ]
     },
     "execution_count": 4,
     "metadata": {},
     "output_type": "execute_result"
    }
   ],
   "source": [
    "#H0 hypothesis is that males don't smoke more than females (Somoking independent of gender)\n",
    "\n",
    "#Calculate expected values if the null hypothesis was true (with the totals) - Done in the notebook\n",
    "data = [[\"Male\",72,44,116],[\"Female\", 34,53,87],[\"Total\",106,97,203]]\n",
    "pd.DataFrame(data , columns=[\"Gender\",\"Smoker\", \"Non-smoker\",\"Total\"])"
   ]
  },
  {
   "cell_type": "code",
   "execution_count": 10,
   "metadata": {},
   "outputs": [
    {
     "data": {
      "image/png": "[encoded data removed]",
      "text/latex": [
       "$$10.524273162797883$$"
      ],
      "text/plain": [
       "10.524273162797883"
      ]
     },
     "execution_count": 10,
     "metadata": {},
     "output_type": "execute_result"
    }
   ],
   "source": [
    "X2 = (72-60.57)**2/60.57+(44-55.42)**2/55.42+(34-45.42)**2/45.42+(53-41.57)**2/41.57 \n",
    "X2"
   ]
  },
  {
   "cell_type": "code",
   "execution_count": 11,
   "metadata": {},
   "outputs": [
    {
     "name": "stdout",
     "output_type": "stream",
     "text": [
      "Degrees of freedom =  1\n",
      "P_value =  0.0011781674080243532\n"
     ]
    }
   ],
   "source": [
    "#Calculate degrees of freedom: \n",
    "# the Degrees of freedom is calculated: Dof = (rows-1)*(columns-1) \n",
    "dof = (2-1)*(2-1)  \n",
    "print('Degrees of freedom = ', dof) \n",
    "print('P_value = ',stats.chi2.sf(X2, df=1))"
   ]
  },
  {
   "cell_type": "code",
   "execution_count": 12,
   "metadata": {},
   "outputs": [],
   "source": [
    "# can also be calculated in the following way, but I think it is more complex: \n",
    "obs = [[72,44],[34,53]] \n",
    "chi2_stat, p_val, dof, ex2 = stats.chi2_contingency(obs, correction=False) \n",
    "print('P_value = ',p_val) \n",
    "\n",
    "# As the P-value is smaller than the significance level (0.05), \n",
    "#    we reject the null hypothesis. Your gender is dependent of your smoking habits. "
   ]
  },
  {
   "cell_type": "markdown",
   "metadata": {},
   "source": [
    "# Assignment 4"
   ]
  },
  {
   "cell_type": "markdown",
   "metadata": {},
   "source": [
    "100 Americans were asked what they voted. Create a chi-square Contingency table test on the following table: "
   ]
  },
  {
   "cell_type": "code",
   "execution_count": 19,
   "metadata": {},
   "outputs": [
    {
     "data": {
      "text/html": [
       "<div>\n",
       "<style scoped>\n",
       "    .dataframe tbody tr th:only-of-type {\n",
       "        vertical-align: middle;\n",
       "    }\n",
       "\n",
       "    .dataframe tbody tr th {\n",
       "        vertical-align: top;\n",
       "    }\n",
       "\n",
       "    .dataframe thead th {\n",
       "        text-align: right;\n",
       "    }\n",
       "</style>\n",
       "<table border=\"1\" class=\"dataframe\">\n",
       "  <thead>\n",
       "    <tr style=\"text-align: right;\">\n",
       "      <th></th>\n",
       "      <th>Gender</th>\n",
       "      <th>Trump voter</th>\n",
       "      <th>Hillary voter</th>\n",
       "      <th>Doesn't vote</th>\n",
       "    </tr>\n",
       "  </thead>\n",
       "  <tbody>\n",
       "    <tr>\n",
       "      <th>0</th>\n",
       "      <td>Male</td>\n",
       "      <td>26</td>\n",
       "      <td>13</td>\n",
       "      <td>5</td>\n",
       "    </tr>\n",
       "    <tr>\n",
       "      <th>1</th>\n",
       "      <td>Female</td>\n",
       "      <td>20</td>\n",
       "      <td>29</td>\n",
       "      <td>7</td>\n",
       "    </tr>\n",
       "  </tbody>\n",
       "</table>\n",
       "</div>"
      ],
      "text/plain": [
       "   Gender  Trump voter  Hillary voter  Doesn't vote\n",
       "0    Male           26             13             5\n",
       "1  Female           20             29             7"
      ]
     },
     "execution_count": 19,
     "metadata": {},
     "output_type": "execute_result"
    }
   ],
   "source": [
    "data = [[\"Male\",26, 13,5], [\"Female\",20, 29,7]]  #Each row is []\n",
    "pd.DataFrame(data, columns=[\"Gender\",\"Trump voter\", \"Hillary voter\", \"Doesn't vote\"])"
   ]
  },
  {
   "cell_type": "code",
   "execution_count": 20,
   "metadata": {},
   "outputs": [],
   "source": [
    "#H0 the gender doesn't affect the vote."
   ]
  },
  {
   "cell_type": "code",
   "execution_count": 21,
   "metadata": {},
   "outputs": [
    {
     "data": {
      "text/html": [
       "<div>\n",
       "<style scoped>\n",
       "    .dataframe tbody tr th:only-of-type {\n",
       "        vertical-align: middle;\n",
       "    }\n",
       "\n",
       "    .dataframe tbody tr th {\n",
       "        vertical-align: top;\n",
       "    }\n",
       "\n",
       "    .dataframe thead th {\n",
       "        text-align: right;\n",
       "    }\n",
       "</style>\n",
       "<table border=\"1\" class=\"dataframe\">\n",
       "  <thead>\n",
       "    <tr style=\"text-align: right;\">\n",
       "      <th></th>\n",
       "      <th>Gender</th>\n",
       "      <th>Trump voter</th>\n",
       "      <th>Hillary voter</th>\n",
       "      <th>Doesn't vote</th>\n",
       "      <th>Total</th>\n",
       "    </tr>\n",
       "  </thead>\n",
       "  <tbody>\n",
       "    <tr>\n",
       "      <th>0</th>\n",
       "      <td>Male</td>\n",
       "      <td>26</td>\n",
       "      <td>13</td>\n",
       "      <td>5</td>\n",
       "      <td>44</td>\n",
       "    </tr>\n",
       "    <tr>\n",
       "      <th>1</th>\n",
       "      <td>Female</td>\n",
       "      <td>20</td>\n",
       "      <td>29</td>\n",
       "      <td>7</td>\n",
       "      <td>56</td>\n",
       "    </tr>\n",
       "    <tr>\n",
       "      <th>2</th>\n",
       "      <td>Total</td>\n",
       "      <td>46</td>\n",
       "      <td>42</td>\n",
       "      <td>12</td>\n",
       "      <td>100</td>\n",
       "    </tr>\n",
       "  </tbody>\n",
       "</table>\n",
       "</div>"
      ],
      "text/plain": [
       "   Gender  Trump voter  Hillary voter  Doesn't vote  Total\n",
       "0    Male           26             13             5     44\n",
       "1  Female           20             29             7     56\n",
       "2   Total           46             42            12    100"
      ]
     },
     "execution_count": 21,
     "metadata": {},
     "output_type": "execute_result"
    }
   ],
   "source": [
    "# make the totals\n",
    "data = [[\"Male\",26,13,5,44 ],[\"Female\", 20,29,7,56],[\"Total\", 46 ,42,12,100]]\n",
    "pd.DataFrame(data , columns=[\"Gender\",\"Trump voter\", \"Hillary voter\",\"Doesn't vote\",\"Total\"])"
   ]
  },
  {
   "cell_type": "code",
   "execution_count": 22,
   "metadata": {},
   "outputs": [
    {
     "data": {
      "text/html": [
       "<div>\n",
       "<style scoped>\n",
       "    .dataframe tbody tr th:only-of-type {\n",
       "        vertical-align: middle;\n",
       "    }\n",
       "\n",
       "    .dataframe tbody tr th {\n",
       "        vertical-align: top;\n",
       "    }\n",
       "\n",
       "    .dataframe thead th {\n",
       "        text-align: right;\n",
       "    }\n",
       "</style>\n",
       "<table border=\"1\" class=\"dataframe\">\n",
       "  <thead>\n",
       "    <tr style=\"text-align: right;\">\n",
       "      <th></th>\n",
       "      <th>Gender</th>\n",
       "      <th>Trump voter</th>\n",
       "      <th>Hillary voter</th>\n",
       "      <th>Doesn't vote</th>\n",
       "      <th>Total</th>\n",
       "    </tr>\n",
       "  </thead>\n",
       "  <tbody>\n",
       "    <tr>\n",
       "      <th>0</th>\n",
       "      <td>Male</td>\n",
       "      <td>20.24</td>\n",
       "      <td>18.48</td>\n",
       "      <td>5.28</td>\n",
       "      <td>44</td>\n",
       "    </tr>\n",
       "    <tr>\n",
       "      <th>1</th>\n",
       "      <td>Female</td>\n",
       "      <td>25.76</td>\n",
       "      <td>23.52</td>\n",
       "      <td>6.72</td>\n",
       "      <td>56</td>\n",
       "    </tr>\n",
       "    <tr>\n",
       "      <th>2</th>\n",
       "      <td>Total</td>\n",
       "      <td>46.00</td>\n",
       "      <td>42.00</td>\n",
       "      <td>12.00</td>\n",
       "      <td>100</td>\n",
       "    </tr>\n",
       "  </tbody>\n",
       "</table>\n",
       "</div>"
      ],
      "text/plain": [
       "   Gender  Trump voter  Hillary voter  Doesn't vote  Total\n",
       "0    Male        20.24          18.48          5.28     44\n",
       "1  Female        25.76          23.52          6.72     56\n",
       "2   Total        46.00          42.00         12.00    100"
      ]
     },
     "execution_count": 22,
     "metadata": {},
     "output_type": "execute_result"
    }
   ],
   "source": [
    "# make the expected values\n",
    "data = [[\"Male\",46*44/100,42*44/100,12*44/100,44 ],[\"Female\", 46*56/100,42*56/100,12*56/100,56],[\"Total\", 46 ,42,12,100]]\n",
    "pd.DataFrame(data , columns=[\"Gender\",\"Trump voter\", \"Hillary voter\",\"Doesn't vote\",\"Total\"])"
   ]
  },
  {
   "cell_type": "code",
   "execution_count": 24,
   "metadata": {},
   "outputs": [
    {
     "name": "stdout",
     "output_type": "stream",
     "text": [
      "X2 =  5.855499314350248\n"
     ]
    }
   ],
   "source": [
    "X2 = (26-20.24)**2/20.24+(20-25.76)**2/25.76+(13-18.48)**2/18.48+(29-23.52)**2/23.52+(5-5.28)**2/5.28+(7-6.72)**2/6.72 \n",
    "print('X2 = ', X2)   "
   ]
  },
  {
   "cell_type": "code",
   "execution_count": 27,
   "metadata": {},
   "outputs": [
    {
     "name": "stdout",
     "output_type": "stream",
     "text": [
      "Degrees of freedom =  2\n",
      "P_value =  0.05351733509077519\n"
     ]
    }
   ],
   "source": [
    "# the Degrees of freedom is calculated: Dof = (rows-1)*(columns-1) \n",
    "dof = (2-1)*(3-1)  \n",
    "print('Degrees of freedom = ', dof) \n",
    "print('P_value = ',stats.chi2.sf(X2, df=dof))"
   ]
  },
  {
   "cell_type": "markdown",
   "metadata": {},
   "source": [
    " As the P-value is bigger than the significance level (0.05), we cannot reject the null hypothesis. \n",
    "    Therefore, the person who you vote for is independent of the gender."
   ]
  },
  {
   "cell_type": "code",
   "execution_count": null,
   "metadata": {},
   "outputs": [],
   "source": []
  }
 ],
 "metadata": {
  "kernelspec": {
   "display_name": "Python 3",
   "language": "python",
   "name": "python3"
  },
  "language_info": {
   "codemirror_mode": {
    "name": "ipython",
    "version": 3
   },
   "file_extension": ".py",
   "mimetype": "text/x-python",
   "name": "python",
   "nbconvert_exporter": "python",
   "pygments_lexer": "ipython3",
   "version": "3.7.4"
  }
 },
 "nbformat": 4,
 "nbformat_minor": 2
}
