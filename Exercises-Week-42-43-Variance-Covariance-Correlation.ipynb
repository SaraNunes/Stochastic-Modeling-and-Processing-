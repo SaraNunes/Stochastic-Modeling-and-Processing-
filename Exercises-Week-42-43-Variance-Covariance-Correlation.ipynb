{
 "cells": [
  {
   "cell_type": "code",
   "execution_count": 20,
   "metadata": {},
   "outputs": [],
   "source": [
    "from scipy.stats import binom\n",
    "from scipy.stats import geom\n",
    "from scipy.stats import hypergeom\n",
    "from scipy.stats import poisson\n",
    "from scipy.stats import nbinom\n",
    "from scipy.stats import expon\n",
    "import pandas as pd\n",
    "import sympy as sp\n",
    "from sympy import *\n",
    "sp.init_printing()\n",
    "import matplotlib.pyplot as plt\n",
    "import scipy.integrate as integrate\n",
    "import scipy.special as special\n",
    "from scipy.integrate import quad\n",
    "import numpy as np\n",
    "from scipy.misc import derivative\n",
    "import math\n",
    "from math import *\n",
    "from fractions import Fraction\n",
    "import fractions\n",
    "from IPython.display import display, Math, Latex\n",
    "from sympy.abc import x\n",
    "from sympy import Poly\n",
    "from sympy.solvers.inequalities import solve_rational_inequalities\n",
    "%matplotlib inline"
   ]
  },
  {
   "cell_type": "markdown",
   "metadata": {},
   "source": [
    "# Assignment 1"
   ]
  },
  {
   "cell_type": "markdown",
   "metadata": {},
   "source": [
    "Let the simultaneous probability mass function (also called simultaneous probability density function or pdf) for the two discreet random variables X and Y be given by the table: \n",
    "y"
   ]
  },
  {
   "cell_type": "code",
   "execution_count": 1,
   "metadata": {},
   "outputs": [
    {
     "ename": "SyntaxError",
     "evalue": "can't assign to function call (<ipython-input-1-8819755b01b4>, line 5)",
     "output_type": "error",
     "traceback": [
      "\u001b[1;36m  File \u001b[1;32m\"<ipython-input-1-8819755b01b4>\"\u001b[1;36m, line \u001b[1;32m5\u001b[0m\n\u001b[1;33m    fx(1) = 1/12 + 2/12 + 2/12 + 0 = 5/12\u001b[0m\n\u001b[1;37m                                         ^\u001b[0m\n\u001b[1;31mSyntaxError\u001b[0m\u001b[1;31m:\u001b[0m can't assign to function call\n"
     ]
    }
   ],
   "source": [
    "#Task 1\n",
    "\n",
    "#I am not sure if the fx(X) is written the following way, but the results are fine:\n",
    "#FOR X\n",
    "fx(1) = 1/12 + 2/12 + 2/12 + 0 = 5/12\n",
    "\n",
    "fx(2) = 0 + 0 + 1/12 + 2/12 = 3/12\n",
    "\n",
    "fx(3) = 0 + 2/12 + 2/12 = 4/12\n",
    "\n",
    "#FOR Y\n",
    "fy(5) = 1/12 + 0 + 0 = 1/12\n",
    "fy(6) = 2/12 + 0 + 2/12 = 4/12\n",
    "fy(7) = 2/12 + 1/12 + 2/12 = 5/12\n",
    "fy(8) = 0+2/12 + 0 = 2/12"
   ]
  },
  {
   "cell_type": "code",
   "execution_count": 3,
   "metadata": {},
   "outputs": [
    {
     "data": {
      "text/plain": [
       "1.9166666666666667"
      ]
     },
     "execution_count": 3,
     "metadata": {},
     "output_type": "execute_result"
    }
   ],
   "source": [
    "#Task 2\n",
    "#Show that\n",
    "\n",
    "#a) E[X] = 1.917\n",
    "\n",
    "EX = 1 * 5/12 + 2 * 3/12 + 3* 4/12 #(From the table in task 1)\n",
    "EX"
   ]
  },
  {
   "cell_type": "code",
   "execution_count": 4,
   "metadata": {},
   "outputs": [
    {
     "data": {
      "text/plain": [
       "6.666666666666666"
      ]
     },
     "execution_count": 4,
     "metadata": {},
     "output_type": "execute_result"
    }
   ],
   "source": [
    "#b) E[Y] = 6.667\n",
    "EY = 5* 1/12 + 6*4/12 + 7*5/12 + 8*2/12\n",
    "EY"
   ]
  },
  {
   "cell_type": "code",
   "execution_count": 7,
   "metadata": {},
   "outputs": [
    {
     "data": {
      "text/plain": [
       "12.916666666666666"
      ]
     },
     "execution_count": 7,
     "metadata": {},
     "output_type": "execute_result"
    }
   ],
   "source": [
    "#c) E[ Y * X ] = 12.917\n",
    "\n",
    "# x*y* corresponding value for those 2 + x*y* .... * .... for all values.\n",
    "\n",
    "EYX = 5*1*1/12 + 5*2*0 + 5*3*0 + 6*1*2/12 + 6*2*0 + 6*3*2/12 + 7*1*2/12 + 7*2*1/12 + 7*3*2/12 + 8*1*0 + 8*2*2/12 + 8*3*0\n",
    "EYX​EYX = 5*1*1/12 + 5*2*0 + 5*3*0 + 6*1*2/12 + 6*2*0 + 6*3*2/12 + 7*1*2/12 + 7*2*1/12 + 7*3*2/12 + 8*1*0 + 8*2*2/12 + 8*3*0\n",
    "EYX"
   ]
  },
  {
   "cell_type": "code",
   "execution_count": 10,
   "metadata": {},
   "outputs": [
    {
     "data": {
      "text/plain": [
       "4.416666666666667"
      ]
     },
     "execution_count": 10,
     "metadata": {},
     "output_type": "execute_result"
    }
   ],
   "source": [
    "#c) E[X**2] = 4.417\n",
    "\n",
    "EXPOW2 = 1**2 * 5/12 + 2**2 * 3/12 + 3**2 * 4/12 \n",
    "EXPOW2"
   ]
  },
  {
   "cell_type": "code",
   "execution_count": 11,
   "metadata": {},
   "outputs": [
    {
     "data": {
      "text/plain": [
       "45.166666666666664"
      ]
     },
     "execution_count": 11,
     "metadata": {},
     "output_type": "execute_result"
    }
   ],
   "source": [
    "#d) E[Y**2] = 45.167\n",
    "EYPOW2 = 5**2 * 1/12 + 6**2 * 4/12 + 7**2 * 5/12 + 8**2 * 2/12\n",
    "EYPOW2"
   ]
  },
  {
   "cell_type": "code",
   "execution_count": 15,
   "metadata": {},
   "outputs": [
    {
     "data": {
      "text/plain": [
       "0.13888888888888928"
      ]
     },
     "execution_count": 15,
     "metadata": {},
     "output_type": "execute_result"
    }
   ],
   "source": [
    "#Task 3 \n",
    "#Show that the covariance is 0.139 and the correlation coefficient is 0.1896\n",
    "#cov = E[XY]- MUx*MUy\n",
    "covariance = EYX - EX*EY\n",
    "covariance"
   ]
  },
  {
   "cell_type": "code",
   "execution_count": 17,
   "metadata": {},
   "outputs": [],
   "source": [
    "#calculating variance to include them in the correlation formula:\n",
    "VarX= EXPOW2 - EX**2\n",
    "VarY= EYPOW2 - EY**2"
   ]
  },
  {
   "cell_type": "code",
   "execution_count": 22,
   "metadata": {},
   "outputs": [
    {
     "data": {
      "image/png": "[encoded data removed]",
      "text/latex": [
       "$$0.18959262392869267$$"
      ],
      "text/plain": [
       "0.18959262392869267"
      ]
     },
     "execution_count": 22,
     "metadata": {},
     "output_type": "execute_result"
    }
   ],
   "source": [
    "corcoef = covariance/ sqrt(VarX*VarY)\n",
    "corcoef"
   ]
  },
  {
   "cell_type": "code",
   "execution_count": 23,
   "metadata": {},
   "outputs": [],
   "source": [
    "#Task 4\n",
    "#Specify whether X and Y are independent\n",
    "#They are not independent because the covariance is not equal to the correlation coefitient which is not equal to 0."
   ]
  },
  {
   "cell_type": "code",
   "execution_count": 24,
   "metadata": {},
   "outputs": [],
   "source": [
    "#Task 5 \n",
    "#Write down the conditional probability 𝑓𝑥|𝑦(𝑥|𝑦 = 6) \n",
    "#We just look at the line where y =6\n",
    "#We have 2/12 , 0 , 2/12\n",
    "#Their sume is not 1 therefore we have to scale 2/4 , 0 , 2/4\n",
    "\n",
    "#𝑓𝑥|𝑦(𝑥|𝑦 = 6) = 2/4 , 0 , 2/4\n",
    "\n",
    "#Or if we scale multipliying by 3 𝑓𝑥|𝑦(𝑥|𝑦 = 6) = 1/2 , 0 , 1/2"
   ]
  },
  {
   "cell_type": "code",
   "execution_count": 25,
   "metadata": {},
   "outputs": [
    {
     "name": "stdout",
     "output_type": "stream",
     "text": [
      "E[X] =  1.9079\n",
      "E[Y] =  6.6799\n",
      "E[X^2] =  4.3669\n",
      "E[Y^2] =  45.3559\n",
      "E[XY] =  12.894\n",
      "covariance =  0.14943373337333746\n",
      "Correlation coefficient =  0.20445479070286265\n",
      "Correlation coefficient =  0.2044547907028627\n"
     ]
    }
   ],
   "source": [
    "#Simulation:\n",
    "\n",
    "import numpy as np\n",
    "import random\n",
    "X = np.array([])\n",
    "Y = np.array([])\n",
    "N=10000\n",
    "for i in range(N):\n",
    "    random_number = random.randint(1,12)\n",
    "    #print (random_number)\n",
    "    if random_number==1:\n",
    "        y=5\n",
    "        x=1\n",
    "    if random_number==2 or random_number==3:\n",
    "        y=6\n",
    "        x=1\n",
    "    if random_number==4 or random_number==5:\n",
    "        y=7\n",
    "        x=1\n",
    "    if random_number==6:\n",
    "        y=7\n",
    "        x=2\n",
    "    if random_number==7 or random_number==8:\n",
    "        y=8\n",
    "        x=2\n",
    "    if random_number==9 or random_number==10:\n",
    "        y=6\n",
    "        x=3\n",
    "    if random_number==9 or random_number==10:\n",
    "        y=6\n",
    "        x=3\n",
    "    if random_number==11 or random_number==12:\n",
    "        y=7\n",
    "        x=3        \n",
    "    X=np.append(X, x)\n",
    "    Y=np.append(Y, y)\n",
    "print(\"E[X] = \",X.mean())\n",
    "print(\"E[Y] = \",Y.mean())\n",
    "\n",
    "X2 = X**2\n",
    "Y2 = Y**2\n",
    "print(\"E[X^2] = \",X2.mean())\n",
    "print(\"E[Y^2] = \",Y2.mean())\n",
    "\n",
    "XY = X*Y\n",
    "print(\"E[XY] = \",XY.mean())\n",
    "\n",
    "\n",
    "print(\"covariance = \",np.cov(X,Y)[0,1])\n",
    "\n",
    "\n",
    "print(\"Correlation coefficient = \",np.corrcoef(X,Y)[0,1])\n",
    "print(\"Correlation coefficient = \",np.cov(X,Y)[0,1]/(X.std(ddof=1)*Y.std(ddof=1)))"
   ]
  },
  {
   "cell_type": "markdown",
   "metadata": {},
   "source": [
    "# Assignment 2"
   ]
  },
  {
   "cell_type": "code",
   "execution_count": 26,
   "metadata": {},
   "outputs": [],
   "source": [
    "#Calculate the cross-correlation between X and Y, by hand: \n",
    "X=[1,2,3,2,1] \n",
    "Y=[2,4,1] "
   ]
  },
  {
   "cell_type": "code",
   "execution_count": 30,
   "metadata": {},
   "outputs": [
    {
     "data": {
      "text/plain": [
       "array([ 1,  6, 13, 18, 15,  8,  2])"
      ]
     },
     "execution_count": 30,
     "metadata": {},
     "output_type": "execute_result"
    }
   ],
   "source": [
    "crosscorr= np.correlate(X,Y, \"full\")\n",
    "crosscorr"
   ]
  },
  {
   "cell_type": "markdown",
   "metadata": {},
   "source": [
    "# Assignment 3"
   ]
  },
  {
   "cell_type": "code",
   "execution_count": 31,
   "metadata": {},
   "outputs": [],
   "source": [
    "#Find the Autocorrelation of X \n",
    "X=[4,3,1,2,6] "
   ]
  },
  {
   "cell_type": "code",
   "execution_count": 35,
   "metadata": {},
   "outputs": [
    {
     "data": {
      "text/plain": [
       "array([24, 26, 16, 29, 66, 29, 16, 26, 24])"
      ]
     },
     "execution_count": 35,
     "metadata": {},
     "output_type": "execute_result"
    }
   ],
   "source": [
    "#Autocorrelation is cross correlation with itself\n",
    "autocorr= np.correlate(X,X, \"full\")\n",
    "autocorr"
   ]
  },
  {
   "cell_type": "code",
   "execution_count": null,
   "metadata": {},
   "outputs": [],
   "source": []
  }
 ],
 "metadata": {
  "kernelspec": {
   "display_name": "Python 3",
   "language": "python",
   "name": "python3"
  },
  "language_info": {
   "codemirror_mode": {
    "name": "ipython",
    "version": 3
   },
   "file_extension": ".py",
   "mimetype": "text/x-python",
   "name": "python",
   "nbconvert_exporter": "python",
   "pygments_lexer": "ipython3",
   "version": "3.7.4"
  }
 },
 "nbformat": 4,
 "nbformat_minor": 2
}
