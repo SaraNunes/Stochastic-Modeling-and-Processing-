{
 "cells": [
  {
   "cell_type": "code",
   "execution_count": 1,
   "metadata": {},
   "outputs": [],
   "source": [
    "from scipy.stats import binom\n",
    "from scipy.stats import geom\n",
    "from scipy.stats import hypergeom\n",
    "from scipy.stats import poisson\n",
    "from scipy.stats import nbinom\n",
    "from scipy.stats import expon\n",
    "from scipy.stats import norm\n",
    "import pandas as pd\n",
    "import sympy as sp\n",
    "from sympy import *\n",
    "sp.init_printing()\n",
    "import matplotlib.pyplot as plt\n",
    "import scipy.integrate as integrate\n",
    "import scipy.special as special\n",
    "from scipy.integrate import quad\n",
    "import numpy as np\n",
    "from scipy.misc import derivative\n",
    "import math\n",
    "from math import *\n",
    "from fractions import Fraction\n",
    "import fractions\n",
    "from IPython.display import display, Math, Latex\n",
    "from sympy.abc import x\n",
    "from sympy import Poly\n",
    "from sympy.solvers.inequalities import solve_rational_inequalities\n",
    "%matplotlib inline"
   ]
  },
  {
   "cell_type": "markdown",
   "metadata": {},
   "source": [
    "# Assignment 1"
   ]
  },
  {
   "cell_type": "markdown",
   "metadata": {},
   "source": [
    "For a particular type of battery, the supplier specifies that the lifetime T for the batteries is normally distributed with a mean lifetime of 3000 hours with a standard deviation of 100 hours: T 𝑇~𝒩(3000 hours; (100hours)**2 )."
   ]
  },
  {
   "cell_type": "code",
   "execution_count": 3,
   "metadata": {},
   "outputs": [],
   "source": [
    "#Normal distribution\n",
    "#mu= 3.000 hours\n",
    "#standart deviation = 100 hours\n",
    "#There are randomly picked up 12 batteries of the type. In a test, the lifetime of these are measured as: "
   ]
  },
  {
   "cell_type": "markdown",
   "metadata": {},
   "source": [
    "a)Estimate the mean lifetime for the batteries \n"
   ]
  },
  {
   "cell_type": "code",
   "execution_count": 4,
   "metadata": {},
   "outputs": [
    {
     "data": {
      "image/png": "[encoded data removed]",
      "text/latex": [
       "$$2954.75$$"
      ],
      "text/plain": [
       "2954.75"
      ]
     },
     "execution_count": 4,
     "metadata": {},
     "output_type": "execute_result"
    }
   ],
   "source": [
    "X = np.array([3148,2956,2803,2933,2869,3111,2789,2995,2909,2929,3148,2867])\n",
    "X.mean()\n"
   ]
  },
  {
   "cell_type": "markdown",
   "metadata": {},
   "source": [
    "b) Calculate the z-score \n"
   ]
  },
  {
   "cell_type": "code",
   "execution_count": 5,
   "metadata": {},
   "outputs": [
    {
     "data": {
      "image/png": "[encoded data removed]",
      "text/latex": [
       "$$-1.5675059808498337$$"
      ],
      "text/plain": [
       "-1.5675059808498337"
      ]
     },
     "execution_count": 5,
     "metadata": {},
     "output_type": "execute_result"
    }
   ],
   "source": [
    "z = (X.mean()-3000)/(100/sqrt(12))\n",
    "z"
   ]
  },
  {
   "cell_type": "markdown",
   "metadata": {},
   "source": [
    "c) Calculate the P-value. Is it plausible that the battery lifetime has the distribution the supplier claims? "
   ]
  },
  {
   "cell_type": "code",
   "execution_count": 8,
   "metadata": {},
   "outputs": [
    {
     "data": {
      "image/png": "[encoded data removed]",
      "text/latex": [
       "$$0.11699646934229402$$"
      ],
      "text/plain": [
       "0.11699646934229402"
      ]
     },
     "execution_count": 8,
     "metadata": {},
     "output_type": "execute_result"
    }
   ],
   "source": [
    "prob = norm.cdf(z)   #norm.cdf(z, loc=0, scale=1) \n",
    "Pval = 2*min(prob, 1-prob)\n",
    "Pval"
   ]
  },
  {
   "cell_type": "markdown",
   "metadata": {},
   "source": [
    "d) Calculate the 95% confidence interval for the mean lifetime of the batteries."
   ]
  },
  {
   "cell_type": "code",
   "execution_count": 20,
   "metadata": {},
   "outputs": [
    {
     "data": {
      "image/png": "[encoded data removed]",
      "text/latex": [
       "$$2898.1707132961915$$"
      ],
      "text/plain": [
       "2898.1707132961915"
      ]
     },
     "execution_count": 20,
     "metadata": {},
     "output_type": "execute_result"
    }
   ],
   "source": [
    "N = 12\n",
    "low = X.mean() + norm.ppf(0.025)*100/sqrt(N)\n",
    "low"
   ]
  },
  {
   "cell_type": "code",
   "execution_count": 21,
   "metadata": {},
   "outputs": [
    {
     "data": {
      "image/png": "[encoded data removed]",
      "text/latex": [
       "$$3011.3292867038085$$"
      ],
      "text/plain": [
       "3011.3292867038085"
      ]
     },
     "execution_count": 21,
     "metadata": {},
     "output_type": "execute_result"
    }
   ],
   "source": [
    "high = X.mean() + norm.ppf(0.975)* 100/np.sqrt(N)\n",
    "high"
   ]
  },
  {
   "cell_type": "markdown",
   "metadata": {},
   "source": [
    "# Assignment 2"
   ]
  },
  {
   "cell_type": "markdown",
   "metadata": {},
   "source": [
    "31 coin flips is done with a coin, and it has the following distribution where 1=Head and 0=Tail.  "
   ]
  },
  {
   "cell_type": "code",
   "execution_count": 27,
   "metadata": {},
   "outputs": [],
   "source": [
    "X= np.array([1, 0, 1, 0, 0, 0, 1, 1, 0, 0, 0, 1, 1, 0, 1, 1, 0, 0, 1, 0, 1, 1, 0, 0, 0, 0, 0, 1, 0, 0, 0] )"
   ]
  },
  {
   "cell_type": "markdown",
   "metadata": {},
   "source": [
    "We assume that the true variance from the population is 0.25, and the true mean is 0.5.  "
   ]
  },
  {
   "cell_type": "markdown",
   "metadata": {},
   "source": [
    "1. Plot the realization"
   ]
  },
  {
   "cell_type": "code",
   "execution_count": 35,
   "metadata": {},
   "outputs": [
    {
     "data": {
      "image/png": "[encoded data removed]",
      "text/plain": [
       "<Figure size 432x288 with 1 Axes>"
      ]
     },
     "metadata": {
      "needs_background": "light"
     },
     "output_type": "display_data"
    }
   ],
   "source": [
    "plt.plot(X,'*') \n",
    "plt.show()"
   ]
  },
  {
   "cell_type": "markdown",
   "metadata": {},
   "source": [
    "2. Calculate the sample mean of the realization "
   ]
  },
  {
   "cell_type": "code",
   "execution_count": 36,
   "metadata": {},
   "outputs": [
    {
     "data": {
      "image/png": "[encoded data removed]",
      "text/latex": [
       "$$0.3870967741935484$$"
      ],
      "text/plain": [
       "0.3870967741935484"
      ]
     },
     "execution_count": 36,
     "metadata": {},
     "output_type": "execute_result"
    }
   ],
   "source": [
    "X.mean()"
   ]
  },
  {
   "cell_type": "markdown",
   "metadata": {},
   "source": [
    "3. Calculate the sample variance of the realization "
   ]
  },
  {
   "cell_type": "code",
   "execution_count": 37,
   "metadata": {},
   "outputs": [
    {
     "name": "stdout",
     "output_type": "stream",
     "text": [
      "The sample variance is =  0.24516129032258072\n",
      "The sample variance is =  0.24516129032258072\n"
     ]
    }
   ],
   "source": [
    "print(\"The sample variance is = \" , np.sum((X-X.mean())**2)/(31-1)) \n",
    "print(\"The sample variance is = \" ,X.var(ddof=1)) "
   ]
  },
  {
   "cell_type": "markdown",
   "metadata": {},
   "source": [
    "4. Can it be assumed that the sample mean of the realization is normal distributed? "
   ]
  },
  {
   "cell_type": "code",
   "execution_count": 34,
   "metadata": {},
   "outputs": [],
   "source": [
    "#Yes, because of the central limit theorem\n",
    "\n",
    "#The central limit theorem states that the sampling distribution of the sample-means approaches a normal distribution\n",
    "#as the sample gets larger.\n",
    "#As a general guideline, if n>30 the central limit will almost always apply.\n"
   ]
  },
  {
   "cell_type": "markdown",
   "metadata": {},
   "source": [
    "5) Find the z-score of the realization "
   ]
  },
  {
   "cell_type": "code",
   "execution_count": 38,
   "metadata": {},
   "outputs": [
    {
     "data": {
      "image/png": "[encoded data removed]",
      "text/latex": [
       "$$-1.2572371141874243$$"
      ],
      "text/plain": [
       "-1.2572371141874243"
      ]
     },
     "execution_count": 38,
     "metadata": {},
     "output_type": "execute_result"
    }
   ],
   "source": [
    "z = (X.mean()-0.5)/(sqrt(0.25)/sqrt(31))\n",
    "z"
   ]
  },
  {
   "cell_type": "markdown",
   "metadata": {},
   "source": [
    "6) Calculate the P-value "
   ]
  },
  {
   "cell_type": "code",
   "execution_count": 39,
   "metadata": {},
   "outputs": [
    {
     "data": {
      "image/png": "[encoded data removed]",
      "text/latex": [
       "$$0.2086677876982641$$"
      ],
      "text/plain": [
       "0.2086677876982641"
      ]
     },
     "execution_count": 39,
     "metadata": {},
     "output_type": "execute_result"
    }
   ],
   "source": [
    "prob = norm.cdf(z)   #norm.cdf(z, loc=0, scale=1) \n",
    "Pval = 2*min(prob, 1-prob)\n",
    "Pval"
   ]
  },
  {
   "cell_type": "markdown",
   "metadata": {},
   "source": [
    "7) Find the 95% confidence interval for the mean (lower and upper endpoint) "
   ]
  },
  {
   "cell_type": "code",
   "execution_count": 40,
   "metadata": {},
   "outputs": [
    {
     "data": {
      "image/png": "[encoded data removed]",
      "text/latex": [
       "$$0.21108681249108954$$"
      ],
      "text/plain": [
       "0.21108681249108954"
      ]
     },
     "execution_count": 40,
     "metadata": {},
     "output_type": "execute_result"
    }
   ],
   "source": [
    "N = 31\n",
    "low = X.mean() + norm.ppf(0.025)*sqrt(0.25)/sqrt(N)\n",
    "low"
   ]
  },
  {
   "cell_type": "code",
   "execution_count": 41,
   "metadata": {},
   "outputs": [
    {
     "data": {
      "image/png": "[encoded data removed]",
      "text/latex": [
       "$$0.5631067358960071$$"
      ],
      "text/plain": [
       "0.5631067358960071"
      ]
     },
     "execution_count": 41,
     "metadata": {},
     "output_type": "execute_result"
    }
   ],
   "source": [
    "high = X.mean() + norm.ppf(0.975)*sqrt(0.25)/np.sqrt(N)\n",
    "high"
   ]
  },
  {
   "cell_type": "markdown",
   "metadata": {},
   "source": [
    "Suddenly we do not trust the Central Limit Theorem. So instead of assuming that the sample mean comes from a normal distribution, the binomial distribution is assumed instead.  "
   ]
  },
  {
   "cell_type": "markdown",
   "metadata": {},
   "source": [
    "8) Calculate the new Pvalue using the binomial distribution (number of heads=12, and number of trials=31) "
   ]
  },
  {
   "cell_type": "code",
   "execution_count": 46,
   "metadata": {},
   "outputs": [
    {
     "data": {
      "image/png": "[encoded data removed]",
      "text/latex": [
       "$$0.28104151505976926$$"
      ],
      "text/plain": [
       "0.28104151505976926"
      ]
     },
     "execution_count": 46,
     "metadata": {},
     "output_type": "execute_result"
    }
   ],
   "source": [
    "#binom.cdf(x,n,p)\n",
    "#len(X) = 31\n",
    "# I am not sure why p= 0.5, it could be the mean or the probability of flipping a coin because there are only 2 possible results\n",
    "prob = binom.cdf(12,n=len(X),p=0.5)  \n",
    "Pval = 2*min(prob, 1-prob)\n",
    "Pval"
   ]
  },
  {
   "cell_type": "markdown",
   "metadata": {},
   "source": [
    "9)Find the new 95% confidence interval for the mean (lower and upper endpoint) "
   ]
  },
  {
   "cell_type": "code",
   "execution_count": 48,
   "metadata": {},
   "outputs": [
    {
     "name": "stdout",
     "output_type": "stream",
     "text": [
      "mu_lowb =  10.0\n",
      "mu_highb =  21.0\n"
     ]
    }
   ],
   "source": [
    "#In the answer of the exercises, it says this:\n",
    "mu_lowb = binom.ppf(0.025, n=31, p=0.5) \n",
    "mu_highb = binom.ppf(0.975, n=len(X), p=0.5) \n",
    "print('mu_lowb = ',mu_lowb) \n",
    "print('mu_highb = ',mu_highb) "
   ]
  },
  {
   "cell_type": "code",
   "execution_count": 49,
   "metadata": {},
   "outputs": [
    {
     "data": {
      "image/png": "[encoded data removed]",
      "text/latex": [
       "$$1.285123284327423$$"
      ],
      "text/plain": [
       "1.285123284327423"
      ]
     },
     "execution_count": 49,
     "metadata": {},
     "output_type": "execute_result"
    }
   ],
   "source": [
    "#But this would be the way it is done in the previous exercises: -- BUT IDK WHICH ONE IS CORRECT\n",
    "low = X.mean() + binom.ppf(0.025, n =31, p =0.5)*sqrt(0.25)/sqrt(N)\n",
    "low"
   ]
  },
  {
   "cell_type": "code",
   "execution_count": 50,
   "metadata": {},
   "outputs": [
    {
     "data": {
      "image/png": "[encoded data removed]",
      "text/latex": [
       "$$2.272952445474685$$"
      ],
      "text/plain": [
       "2.272952445474685"
      ]
     },
     "execution_count": 50,
     "metadata": {},
     "output_type": "execute_result"
    }
   ],
   "source": [
    "high = X.mean() + binom.ppf(0.975, n =31, p =0.5)*sqrt(0.25)/np.sqrt(N)\n",
    "high"
   ]
  },
  {
   "cell_type": "markdown",
   "metadata": {},
   "source": [
    "10) Discuss the difference in P-value. Is it big or small? And why? "
   ]
  },
  {
   "cell_type": "code",
   "execution_count": 51,
   "metadata": {},
   "outputs": [],
   "source": [
    "#0.20 - 0.28 = 0.08 difference\n",
    "\n",
    "#It is like this in the answer: # 10 an binomial trial is very non normal. So even though \n",
    "#?????????????"
   ]
  },
  {
   "cell_type": "markdown",
   "metadata": {},
   "source": [
    "# Assignment 3"
   ]
  },
  {
   "cell_type": "markdown",
   "metadata": {},
   "source": [
    "The speed of a file transfer from a server on campus to a personal computer at a student's home on a weekday evening is normally distributed with a mean of 60 kilobits per second and a standard deviation of 4 kilobits per second.  "
   ]
  },
  {
   "cell_type": "markdown",
   "metadata": {},
   "source": [
    "a) What is the probability that the file will transfer at a speed of 70 kilobits per second or more? "
   ]
  },
  {
   "cell_type": "code",
   "execution_count": 53,
   "metadata": {},
   "outputs": [],
   "source": [
    "#normal distribution\n",
    "#mean = 60 kilobits per second\n",
    "#std dev = 4 kilobits per second\n",
    "\n",
    "#P(X>=70)\n",
    "x=69 #because we include 70"
   ]
  },
  {
   "cell_type": "code",
   "execution_count": 55,
   "metadata": {},
   "outputs": [
    {
     "data": {
      "text/latex": [
       "$\\displaystyle P(X > = 70)= 0.012224$"
      ],
      "text/plain": [
       "<IPython.core.display.Math object>"
      ]
     },
     "metadata": {},
     "output_type": "display_data"
    }
   ],
   "source": [
    "#Function parameters: sf(x, loc=0, scale=1)  \n",
    "\n",
    "#loc is the mean = 60\n",
    "#scale = sigma = standard deviation = 4\n",
    "display(Math(\"P(X > = 70)= \" + repr(round(norm.sf(x, loc = 60, scale = 4),6) )))"
   ]
  },
  {
   "cell_type": "markdown",
   "metadata": {},
   "source": [
    "b) What is the probability that the file will transfer at a speed of less than 58 kilobits per second?  "
   ]
  },
  {
   "cell_type": "code",
   "execution_count": 58,
   "metadata": {},
   "outputs": [
    {
     "data": {
      "text/latex": [
       "$\\displaystyle P(X < 58)= 0.226627$"
      ],
      "text/plain": [
       "<IPython.core.display.Math object>"
      ]
     },
     "metadata": {},
     "output_type": "display_data"
    }
   ],
   "source": [
    "#P(X<58)\n",
    "x= 57 #because we don't use 1-cdf, we need less than 58 = 57\n",
    "display(Math(\"P(X < 58)= \" + repr(round(norm.cdf(x, loc = 60, scale = 4),6) )))"
   ]
  },
  {
   "cell_type": "markdown",
   "metadata": {},
   "source": [
    "c)If the file is 1 megabyte, what is the average time it will take to transfer the file? (Assume eight bits per byte.)"
   ]
  },
  {
   "cell_type": "code",
   "execution_count": 59,
   "metadata": {},
   "outputs": [
    {
     "data": {
      "image/png": "[encoded data removed]",
      "text/latex": [
       "$$133.33333333333334$$"
      ],
      "text/plain": [
       "133.33333333333334"
      ]
     },
     "execution_count": 59,
     "metadata": {},
     "output_type": "execute_result"
    }
   ],
   "source": [
    "#mean 60 kilobits per second\n",
    "#\n",
    "#1 kilobit = 1000 bits\n",
    "#1 megabyte = 8000 kilobits\n",
    "#1 megabyte = 1.000.000 bytes\n",
    "\n",
    "#60 kilobits.......1 second\n",
    "#8000 kilobits....x\n",
    "\n",
    "#8000/60 \n",
    "x=800/6\n",
    "x"
   ]
  },
  {
   "cell_type": "code",
   "execution_count": null,
   "metadata": {},
   "outputs": [],
   "source": [
    "#Another way:\n",
    "#print((8*1000000)/60000) "
   ]
  }
 ],
 "metadata": {
  "kernelspec": {
   "display_name": "Python 3",
   "language": "python",
   "name": "python3"
  },
  "language_info": {
   "codemirror_mode": {
    "name": "ipython",
    "version": 3
   },
   "file_extension": ".py",
   "mimetype": "text/x-python",
   "name": "python",
   "nbconvert_exporter": "python",
   "pygments_lexer": "ipython3",
   "version": "3.7.4"
  }
 },
 "nbformat": 4,
 "nbformat_minor": 2
}
