{
 "cells": [
  {
   "cell_type": "code",
   "execution_count": 133,
   "metadata": {},
   "outputs": [],
   "source": [
    "from sympy import *\n",
    "from fractions import Fraction\n",
    "from scipy.stats import binom\n",
    "from scipy.stats import poisson\n",
    "from scipy.stats import hypergeom\n",
    "from scipy.stats import expon\n",
    "import math\n",
    "import statsmodels.api as sm\n",
    "from scipy import stats\n",
    "import numpy as np\n",
    "import sympy as sp\n",
    "import pandas as pd\n",
    "from matplotlib import pyplot as plt\n",
    "import numpy as np\n",
    "from sklearn import linear_model\n",
    "%matplotlib inline"
   ]
  },
  {
   "cell_type": "code",
   "execution_count": 54,
   "metadata": {},
   "outputs": [],
   "source": [
    "#Exercie 2\n",
    "#Function when x>1\n",
    "def F(x):\n",
    "    y = 1/x**2\n",
    "    return y"
   ]
  },
  {
   "cell_type": "code",
   "execution_count": 55,
   "metadata": {},
   "outputs": [
    {
     "data": {
      "image/png": "[encoded data removed]",
      "text/latex": [
       "$$0.8999999999999999$$"
      ],
      "text/plain": [
       "0.8999999999999999"
      ]
     },
     "execution_count": 55,
     "metadata": {},
     "output_type": "execute_result"
    }
   ],
   "source": [
    "#INTEGRATE\n",
    "\n",
    "xmin = 1\n",
    "xmax = 10\n",
    "\n",
    "res1, err = quad(F, xmin, xmax) \n",
    "print('P')res1"
   ]
  },
  {
   "cell_type": "code",
   "execution_count": 56,
   "metadata": {},
   "outputs": [
    {
     "data": {
      "image/png": "[encoded data removed]",
      "text/latex": [
       "$$0.09090909090909091$$"
      ],
      "text/plain": [
       "0.09090909090909091"
      ]
     },
     "execution_count": 56,
     "metadata": {},
     "output_type": "execute_result"
    }
   ],
   "source": [
    "xmin = 11\n",
    "xmax = np.inf \n",
    "\n",
    "res2, err = quad(F, xmin, xmax) \n",
    "res2"
   ]
  },
  {
   "cell_type": "code",
   "execution_count": 78,
   "metadata": {},
   "outputs": [
    {
     "data": {
      "image/png": "[encoded data removed]",
      "text/latex": [
       "$$1 - \\frac{1}{x}$$"
      ],
      "text/plain": [
       "    1\n",
       "1 - ─\n",
       "    x"
      ]
     },
     "execution_count": 78,
     "metadata": {},
     "output_type": "execute_result"
    }
   ],
   "source": [
    "u= sp.Symbol('u')\n",
    "x=sp.Symbol('x')\n",
    "f= 1/u**2\n",
    "cdf = integrate(f, (u,1,x))\n",
    "cdf"
   ]
  },
  {
   "cell_type": "code",
   "execution_count": 79,
   "metadata": {},
   "outputs": [],
   "source": [
    "#Exercise 3\n",
    "#Assignment 1 in Exam 2015\n"
   ]
  },
  {
   "cell_type": "code",
   "execution_count": 82,
   "metadata": {},
   "outputs": [],
   "source": [
    "u= sp.Symbol('u')\n",
    "x=sp.Symbol('x')\n",
    "f= (1/2)*(u+1)"
   ]
  },
  {
   "cell_type": "code",
   "execution_count": 85,
   "metadata": {},
   "outputs": [],
   "source": [
    "#a P(-1/2 - 1/2)\n",
    "def F(u):\n",
    "    y = 1/2*(u+1)\n",
    "    return y"
   ]
  },
  {
   "cell_type": "code",
   "execution_count": 89,
   "metadata": {},
   "outputs": [
    {
     "name": "stdout",
     "output_type": "stream",
     "text": [
      "P(-1/2 =< X =< 1/2)= 0.5\n"
     ]
    }
   ],
   "source": [
    "print('P(-1/2 =< X =< 1/2)=',F(1/2)-F(-1/2))"
   ]
  },
  {
   "cell_type": "code",
   "execution_count": 90,
   "metadata": {},
   "outputs": [
    {
     "name": "stdout",
     "output_type": "stream",
     "text": [
      "P(X > 0.75)= 0.125\n"
     ]
    }
   ],
   "source": [
    "print('P(X > 0.75)=',1-F(0.75))"
   ]
  },
  {
   "cell_type": "code",
   "execution_count": 101,
   "metadata": {},
   "outputs": [
    {
     "data": {
      "image/png": "[encoded data removed]",
      "text/latex": [
       "$$0.5$$"
      ],
      "text/plain": [
       "0.500000000000000"
      ]
     },
     "execution_count": 101,
     "metadata": {},
     "output_type": "execute_result"
    }
   ],
   "source": [
    "#b) show that the density function f(x) for X is\n",
    "# b\n",
    "F = (1/2)*(x+1)\n",
    "diff(F,x)"
   ]
  },
  {
   "cell_type": "code",
   "execution_count": 97,
   "metadata": {},
   "outputs": [
    {
     "data": {
      "image/png": "[encoded data removed]",
      "text/latex": [
       "$$0$$"
      ],
      "text/plain": [
       "0"
      ]
     },
     "execution_count": 97,
     "metadata": {},
     "output_type": "execute_result"
    }
   ],
   "source": [
    "# 0 otherwise example:\n",
    "F = 0\n",
    "diff(F,x)"
   ]
  },
  {
   "cell_type": "code",
   "execution_count": 104,
   "metadata": {},
   "outputs": [
    {
     "data": {
      "image/png": "[encoded data removed]",
      "text/latex": [
       "$$0$$"
      ],
      "text/plain": [
       "0"
      ]
     },
     "execution_count": 104,
     "metadata": {},
     "output_type": "execute_result"
    }
   ],
   "source": [
    "#C) find the expected value and variance of X:\n",
    "#Expected value = integrate of x*function from - infinite to infinite\n",
    "u= sp.Symbol('u')\n",
    "x=sp.Symbol('x')\n",
    "\n",
    "#the answer uses the density function f(x)=1/2   \n",
    "\n",
    "f= u*(1/2)\n",
    "E = integrate(f, (u,-1,1))\n",
    "E"
   ]
  },
  {
   "cell_type": "code",
   "execution_count": 107,
   "metadata": {},
   "outputs": [
    {
     "data": {
      "image/png": "[encoded data removed]",
      "text/latex": [
       "$$0.333333333333333$$"
      ],
      "text/plain": [
       "0.333333333333333"
      ]
     },
     "execution_count": 107,
     "metadata": {},
     "output_type": "execute_result"
    }
   ],
   "source": [
    "#variance integrate of (  (x**2 * function)  - Expected value\n",
    "#THEY USED THE DENSITY FUNCTION AS THE FUNCTION HERE AS WELL\n",
    "f= u**2*(1/2)\n",
    "O = integrate(f, (u,-1,1))\n",
    "O"
   ]
  },
  {
   "cell_type": "code",
   "execution_count": 166,
   "metadata": {},
   "outputs": [
    {
     "data": {
      "image/png": "[encoded data removed]",
      "text/latex": [
       "$$\\frac{c x^{5}}{5} + \\frac{c}{5}$$"
      ],
      "text/plain": [
       "   5    \n",
       "c⋅x    c\n",
       "──── + ─\n",
       " 5     5"
      ]
     },
     "execution_count": 166,
     "metadata": {},
     "output_type": "execute_result"
    }
   ],
   "source": [
    "#Exercise 4\n",
    "#Assignment 1 in SMP 2014\n",
    "u= sp.Symbol('u')\n",
    "x=sp.Symbol('x')\n",
    "c=sp.Symbol('c')\n",
    "f = c*u**4\n",
    "cdf = integrate(f, (u,-1,x))\n",
    "cdf"
   ]
  },
  {
   "cell_type": "code",
   "execution_count": 167,
   "metadata": {},
   "outputs": [
    {
     "data": {
      "image/png": "[encoded data removed]",
      "text/latex": [
       "$$c x^{4}$$"
      ],
      "text/plain": [
       "   4\n",
       "c⋅x "
      ]
     },
     "execution_count": 167,
     "metadata": {},
     "output_type": "execute_result"
    }
   ],
   "source": [
    "#If you want to prove it you can derivate and it gives the same as it is in the density function.\n",
    "diff(cdf,x)"
   ]
  },
  {
   "cell_type": "code",
   "execution_count": 168,
   "metadata": {},
   "outputs": [
    {
     "data": {
      "image/png": "[encoded data removed]",
      "text/latex": [
       "$$\\frac{2 c}{5}$$"
      ],
      "text/plain": [
       "2⋅c\n",
       "───\n",
       " 5 "
      ]
     },
     "execution_count": 168,
     "metadata": {},
     "output_type": "execute_result"
    }
   ],
   "source": [
    "#b) Determine the constant c and restate both the probability density function and the cumulative probability function \n",
    "#using the actual value of c\n",
    "\n",
    "#The probability of everything should be 1, and the only interval where the numbers give results different than 0 is\n",
    "#between -1 and 1. So to get the area (probability) in that interval we integrate and the result should be one so:\n",
    "f = c*u**4\n",
    "integration = integrate(f, (u,-1,1))\n",
    "integration"
   ]
  },
  {
   "cell_type": "code",
   "execution_count": 169,
   "metadata": {},
   "outputs": [
    {
     "data": {
      "image/png": "[encoded data removed]",
      "text/latex": [
       "$$\\left [ \\frac{5}{2}\\right ]$$"
      ],
      "text/plain": [
       "[5/2]"
      ]
     },
     "execution_count": 169,
     "metadata": {},
     "output_type": "execute_result"
    }
   ],
   "source": [
    "#The previous value is the probability between -1 and 1 therefore it is equal to 1. 2c/5=1  => 2c/5-1=0  we solve the equation\n",
    "cc=solve(2*c/5-1,c)\n",
    "cc"
   ]
  },
  {
   "cell_type": "code",
   "execution_count": 146,
   "metadata": {},
   "outputs": [
    {
     "data": {
      "image/png": "[encoded data removed]",
      "text/latex": [
       "$$2.5 x^{4}$$"
      ],
      "text/plain": [
       "     4\n",
       "2.5⋅x "
      ]
     },
     "execution_count": 146,
     "metadata": {},
     "output_type": "execute_result"
    }
   ],
   "source": [
    "#Restating the probability density function:\n",
    "f= (5/2)*(x**4)\n",
    "f"
   ]
  },
  {
   "cell_type": "code",
   "execution_count": 170,
   "metadata": {},
   "outputs": [
    {
     "data": {
      "image/png": "[encoded data removed]",
      "text/latex": [
       "$$0.5 x^{5} + 0.5$$"
      ],
      "text/plain": [
       "     5      \n",
       "0.5⋅x  + 0.5"
      ]
     },
     "execution_count": 170,
     "metadata": {},
     "output_type": "execute_result"
    }
   ],
   "source": [
    "#Restating the cumulative density function:\n",
    "f= (1/5)*5/2*(x**5+1)\n",
    "f"
   ]
  },
  {
   "cell_type": "code",
   "execution_count": 172,
   "metadata": {},
   "outputs": [
    {
     "data": {
      "image/png": "[encoded data removed]",
      "text/latex": [
       "$$0.03125$$"
      ],
      "text/plain": [
       "0.03125"
      ]
     },
     "execution_count": 172,
     "metadata": {},
     "output_type": "execute_result"
    }
   ],
   "source": [
    "#Compute P(-1/2 < X  <1/2 ) and P(X>0)  -- Using cummulative F(x2)-F(x1)\n",
    "Fx2= 0.5*((1/2)**5)+0.5\n",
    "Fx1 = 0.5*((-1/2)**5)+0.5\n",
    "Fx2-Fx1  #P(-1/2 < X  <1/2 )"
   ]
  },
  {
   "cell_type": "code",
   "execution_count": 175,
   "metadata": {},
   "outputs": [
    {
     "data": {
      "image/png": "[encoded data removed]",
      "text/latex": [
       "$$0.5$$"
      ],
      "text/plain": [
       "0.5"
      ]
     },
     "execution_count": 175,
     "metadata": {},
     "output_type": "execute_result"
    }
   ],
   "source": [
    "#P(X>0)  => 1-F(x) => 1-F(0)\n",
    "x=1-(0.5*(0**5)+0.5)\n",
    "x"
   ]
  },
  {
   "cell_type": "code",
   "execution_count": 176,
   "metadata": {},
   "outputs": [
    {
     "data": {
      "image/png": "[encoded data removed]",
      "text/latex": [
       "$$0$$"
      ],
      "text/plain": [
       "0"
      ]
     },
     "execution_count": 176,
     "metadata": {},
     "output_type": "execute_result"
    }
   ],
   "source": [
    "#find the expected value and variance\n",
    "\n",
    "#Expected value E\n",
    "\n",
    "f= u*(5/2)*(u**4)\n",
    "E = integrate(f, (u,-1,1))\n",
    "E"
   ]
  },
  {
   "cell_type": "code",
   "execution_count": 177,
   "metadata": {},
   "outputs": [
    {
     "data": {
      "image/png": "[encoded data removed]",
      "text/latex": [
       "$$0.714285714285714$$"
      ],
      "text/plain": [
       "0.714285714285714"
      ]
     },
     "execution_count": 177,
     "metadata": {},
     "output_type": "execute_result"
    }
   ],
   "source": [
    "#Variance\n",
    "\n",
    "f= (u**2)*(5/2)*(u**4)\n",
    "O = (integrate(f, (u,-1,1)))-E\n",
    "O"
   ]
  },
  {
   "cell_type": "code",
   "execution_count": null,
   "metadata": {},
   "outputs": [],
   "source": []
  }
 ],
 "metadata": {
  "kernelspec": {
   "display_name": "Python 3",
   "language": "python",
   "name": "python3"
  },
  "language_info": {
   "codemirror_mode": {
    "name": "ipython",
    "version": 3
   },
   "file_extension": ".py",
   "mimetype": "text/x-python",
   "name": "python",
   "nbconvert_exporter": "python",
   "pygments_lexer": "ipython3",
   "version": "3.7.3"
  }
 },
 "nbformat": 4,
 "nbformat_minor": 2
}
