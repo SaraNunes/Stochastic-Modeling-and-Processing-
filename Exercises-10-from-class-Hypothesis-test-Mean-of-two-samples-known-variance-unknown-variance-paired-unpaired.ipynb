{
 "cells": [
  {
   "cell_type": "code",
   "execution_count": 1,
   "metadata": {},
   "outputs": [],
   "source": [
    "from scipy.stats import binom\n",
    "from scipy.stats import geom\n",
    "from scipy.stats import hypergeom\n",
    "from scipy.stats import poisson\n",
    "from scipy.stats import nbinom\n",
    "from scipy.stats import expon\n",
    "from scipy.stats import norm\n",
    "from scipy import stats\n",
    "import pandas as pd\n",
    "import sympy as sp\n",
    "from sympy import *\n",
    "sp.init_printing()\n",
    "import matplotlib.pyplot as plt\n",
    "import scipy.integrate as integrate\n",
    "import scipy.special as special\n",
    "from scipy.integrate import quad\n",
    "import numpy as np\n",
    "from scipy.misc import derivative\n",
    "import math\n",
    "from math import *\n",
    "from fractions import Fraction\n",
    "import fractions\n",
    "from IPython.display import display, Math, Latex\n",
    "from sympy.abc import x\n",
    "from sympy import Poly\n",
    "from sympy.solvers.inequalities import solve_rational_inequalities\n",
    "%matplotlib inline"
   ]
  },
  {
   "cell_type": "markdown",
   "metadata": {},
   "source": [
    "Two coffee machines are placed at VIA and some students want to know which one gives the most coffee. They take measure 20 cups from machine 1 and 15 measurements from machine 2. The standard deviation of both machines is 2.5 gram.  "
   ]
  },
  {
   "cell_type": "code",
   "execution_count": 2,
   "metadata": {},
   "outputs": [],
   "source": [
    "coff1 = np.array([252.1, 250.7, 250.6, 250.2, 248.9, 252.5, 250.3, 252.2, 251.7, 249.9, 246.0, 247.5, 248.9, 246.9, 250.2, 247.6, 249.6, 250.3, 245.2, 246. ]) \n",
    "coff2 = np.array([251.1, 253.1, 252.2, 251.5, 249.2, 252.7, 250.0, 249.7, 250.0, 253.9, 247.5, 250.0, 246.9, 247.0, 251.9]) "
   ]
  },
  {
   "cell_type": "markdown",
   "metadata": {},
   "source": [
    "a) Estimate the mean of the two samples"
   ]
  },
  {
   "cell_type": "code",
   "execution_count": 3,
   "metadata": {},
   "outputs": [
    {
     "data": {
      "image/png": "[encoded data removed]",
      "text/latex": [
       "$$249.365$$"
      ],
      "text/plain": [
       "249.365"
      ]
     },
     "execution_count": 3,
     "metadata": {},
     "output_type": "execute_result"
    }
   ],
   "source": [
    "coff1.mean()"
   ]
  },
  {
   "cell_type": "code",
   "execution_count": 4,
   "metadata": {},
   "outputs": [
    {
     "data": {
      "image/png": "[encoded data removed]",
      "text/latex": [
       "$$250.4466666666667$$"
      ],
      "text/plain": [
       "250.4466666666667"
      ]
     },
     "execution_count": 4,
     "metadata": {},
     "output_type": "execute_result"
    }
   ],
   "source": [
    "coff2.mean()"
   ]
  },
  {
   "cell_type": "markdown",
   "metadata": {},
   "source": [
    "b) Estimate the mean difference between the two samples"
   ]
  },
  {
   "cell_type": "code",
   "execution_count": 7,
   "metadata": {},
   "outputs": [
    {
     "data": {
      "image/png": "[encoded data removed]",
      "text/latex": [
       "$$1.0816666666666777$$"
      ],
      "text/plain": [
       "1.0816666666666777"
      ]
     },
     "execution_count": 7,
     "metadata": {},
     "output_type": "execute_result"
    }
   ],
   "source": [
    "coff2.mean()-coff1.mean()"
   ]
  },
  {
   "cell_type": "markdown",
   "metadata": {},
   "source": [
    "c) Formulate a NULL-hypothesis test and an alternative hypothesis test to test if the two means differs. "
   ]
  },
  {
   "cell_type": "code",
   "execution_count": 11,
   "metadata": {},
   "outputs": [
    {
     "name": "stdout",
     "output_type": "stream",
     "text": [
      "H0: Diff = 0 \n",
      "H1: Diff != 0\n"
     ]
    }
   ],
   "source": [
    "# H0: coff1.mean() = coff2.mean()\n",
    "# H1: coff1.mean() != coff2.mean()\n",
    "\n",
    "#Another way of writing it:\n",
    "print('H0: Diff = 0 \\nH1: Diff != 0')"
   ]
  },
  {
   "cell_type": "markdown",
   "metadata": {},
   "source": [
    "d) Which statistical test could be used to test the hypothesis? (Paired or unpaired? t-test or z-test?)"
   ]
  },
  {
   "cell_type": "code",
   "execution_count": 13,
   "metadata": {},
   "outputs": [
    {
     "name": "stdout",
     "output_type": "stream",
     "text": [
      "its unpaired as a sample in one machine cannot be paired with a sample from the other machine. It can also be unpaired since, the number of observation are different in the two samples. \n",
      "As the standard deviation is given we will do a z-test. \n"
     ]
    }
   ],
   "source": [
    "#Unpaired test\n",
    "print('its unpaired as a sample in one machine cannot be paired with a sample from the other machine. It can also be unpaired since, the number of observation are different in the two samples. \\nAs the standard deviation is given we will do a z-test. ') "
   ]
  },
  {
   "cell_type": "markdown",
   "metadata": {},
   "source": [
    "e) What is the p-value? "
   ]
  },
  {
   "cell_type": "code",
   "execution_count": 23,
   "metadata": {},
   "outputs": [
    {
     "name": "stdout",
     "output_type": "stream",
     "text": [
      "z-score =  1.266718294687209\n",
      "p-value =  0.20525603605613363\n"
     ]
    }
   ],
   "source": [
    "z =  (coff2.mean()-coff1.mean())/(2.5*((1/20+1/15)**0.5)) \n",
    "print('z-score = ',z) \n",
    "prob = stats.norm.sf(z) \n",
    "print('p-value = ', 2*min(prob,1-prob))"
   ]
  },
  {
   "cell_type": "markdown",
   "metadata": {},
   "source": [
    "f) Can you reject the null-hypothesis with significance level of 0.05? "
   ]
  },
  {
   "cell_type": "markdown",
   "metadata": {},
   "source": [
    "No, because the p-value is bigger than the significance levle"
   ]
  },
  {
   "cell_type": "markdown",
   "metadata": {},
   "source": [
    "# Assignment 2"
   ]
  },
  {
   "cell_type": "markdown",
   "metadata": {},
   "source": [
    "Engineers at a large automobile manufacturing company are trying to decide whether to purchase brand A or brand B tires for the company's new models. To help them arrive at a decision, an experiment is conducted using 12 of each brand. The tires are run until they wear out. The results are as follows: \n"
   ]
  },
  {
   "cell_type": "markdown",
   "metadata": {},
   "source": [
    "Brand A: Mean = 37,900 kilometers, standard deviation = 5100 kilometers \n"
   ]
  },
  {
   "cell_type": "markdown",
   "metadata": {},
   "source": [
    "Brand B: Mean = 39,800 kilometers, standard deviation = 5900 kilometers "
   ]
  },
  {
   "cell_type": "markdown",
   "metadata": {},
   "source": [
    "Can it be rejected that there is no difference in the average wear of the two brands of tires?\n",
    "Assume the populations to be approximately normally distributed. "
   ]
  },
  {
   "cell_type": "code",
   "execution_count": 27,
   "metadata": {},
   "outputs": [],
   "source": [
    "#We’ll have to use unpaired as unpaired test as the samples aren’t paired. \n",
    "#The standard deviation is estimated by the automobile manufacturing company based on their 12 tires.\n",
    "#Since they are estimated a t test should be performed.\n",
    "#(because we cannot calculate z score because we don't have the real variance or standart deviation)"
   ]
  },
  {
   "cell_type": "code",
   "execution_count": 2,
   "metadata": {},
   "outputs": [],
   "source": [
    "#to calculate the t test we need s**2 see the formula in powerpoint lecture 10\n",
    "#s**2 = (1/(n1+n2-2)) * ( (n1-1)*(s1**2)  +  (n2-1)*(s2**2))\n",
    "\n",
    "#s1 = standard dev 1\n",
    "#s2 = standard dev 2\n",
    "\n",
    "s2_pooled = 1/(12+12-2) * ( (12-1)*5100**2 + (12-1)*5900**2) "
   ]
  },
  {
   "cell_type": "code",
   "execution_count": 3,
   "metadata": {},
   "outputs": [],
   "source": [
    "#with that we calculate t\n",
    "\n",
    "# t = (x1 - x2) / (sqrt( (s**2)*(1/n1+1/n2) )\n",
    "t=(39800-37900)/np.sqrt((s2_pooled)*(1/12+1/12)) "
   ]
  },
  {
   "cell_type": "code",
   "execution_count": 4,
   "metadata": {},
   "outputs": [
    {
     "name": "stdout",
     "output_type": "stream",
     "text": [
      "P_value =  0.40777634121808304\n"
     ]
    }
   ],
   "source": [
    "#Unpaired = 2 tail test so use df = n1 + n2 -2\n",
    "prob = stats.t.cdf(t, df=22) #in the class the teacher used 22 as df and that is correct n1 + n2 -2\n",
    "print('P_value = ',2*min(prob,1-prob)) "
   ]
  },
  {
   "cell_type": "markdown",
   "metadata": {},
   "source": [
    "# Assignment 3"
   ]
  },
  {
   "cell_type": "markdown",
   "metadata": {},
   "source": [
    "Two different machines, A and B, which are used to measure blood pressure, are tested on 12 different patients such that each patient has his/her blood pressure measured by both machines. The results for the systolic blood pressure are displayed in the table below: "
   ]
  },
  {
   "cell_type": "code",
   "execution_count": 31,
   "metadata": {},
   "outputs": [],
   "source": [
    "m1 = np.array([119,130,141,123,149,156,134,108,123,138,119,156])\n",
    "m2 = np.array([112,126,145,112,138,156,130,112,112,119,112,152])"
   ]
  },
  {
   "cell_type": "markdown",
   "metadata": {},
   "source": [
    "a. Determine the mean and the standard deviation for both sets of data. "
   ]
  },
  {
   "cell_type": "code",
   "execution_count": 32,
   "metadata": {},
   "outputs": [
    {
     "name": "stdout",
     "output_type": "stream",
     "text": [
      "133.0\n",
      "127.16666666666667\n"
     ]
    }
   ],
   "source": [
    "#a\n",
    "mean1 = m1.mean()\n",
    "print(mean1)\n",
    "mean2 = m2.mean()\n",
    "print(mean2)"
   ]
  },
  {
   "cell_type": "code",
   "execution_count": 34,
   "metadata": {},
   "outputs": [
    {
     "name": "stdout",
     "output_type": "stream",
     "text": [
      "239.0909090909091\n",
      "The sample variance for m1 is =  239.0909090909091\n"
     ]
    }
   ],
   "source": [
    "var1 = np.sum((m1-m1.mean())**2)/(12-1)\n",
    "#check:\n",
    "print(var1) \n",
    "print(\"The sample variance for m1 is = \" ,m1.var(ddof=1)) "
   ]
  },
  {
   "cell_type": "code",
   "execution_count": 35,
   "metadata": {},
   "outputs": [
    {
     "name": "stdout",
     "output_type": "stream",
     "text": [
      "282.6969696969697\n",
      "The sample variance for m2 is =  282.6969696969697\n"
     ]
    }
   ],
   "source": [
    "var2 = np.sum((m2-m2.mean())**2)/(12-1)\n",
    "#check:\n",
    "print(var2) \n",
    "print(\"The sample variance for m2 is = \" ,m2.var(ddof=1))"
   ]
  },
  {
   "cell_type": "code",
   "execution_count": 37,
   "metadata": {},
   "outputs": [
    {
     "name": "stdout",
     "output_type": "stream",
     "text": [
      "Machine 1, standard deviation =  15.462564764323838\n",
      "Machine 2, standard deviation =  16.81359478805677\n",
      "15.462564764323838\n",
      "16.81359478805677\n"
     ]
    }
   ],
   "source": [
    "print('Machine 1, standard deviation = ', m1.std(ddof=1)) \n",
    "print('Machine 2, standard deviation = ', m2.std(ddof=1))  \n",
    "#or use:\n",
    "stdev1 = sqrt(var1)\n",
    "stdev2 = sqrt(var2)\n",
    "print(stdev1)\n",
    "print(stdev2)"
   ]
  },
  {
   "cell_type": "markdown",
   "metadata": {},
   "source": [
    "b. Is it possible to conclude with statistical significance that the two machines give different measurement? \n",
    "Design appropriate test to answer this question. \n"
   ]
  },
  {
   "cell_type": "code",
   "execution_count": 41,
   "metadata": {},
   "outputs": [
    {
     "name": "stdout",
     "output_type": "stream",
     "text": [
      "[ 7  4 -4 11 11  0  4 -4 11 19  7  4]\n"
     ]
    }
   ],
   "source": [
    "#It is not possible to conclude now, it is necessary to run a statistical test, let's use 5% significance\n",
    "\n",
    "# H0: your blood pressure is independent of what machine you use\n",
    "# H1: its not independet\n",
    "\n",
    "#A paired test should be used, as each observation is paired with another observation. Not many factor disturbs the test \n",
    "diff = m1-m2 \n",
    "print(diff) "
   ]
  },
  {
   "cell_type": "code",
   "execution_count": 42,
   "metadata": {},
   "outputs": [
    {
     "name": "stdout",
     "output_type": "stream",
     "text": [
      "p_value =  0.011731236155998916\n"
     ]
    }
   ],
   "source": [
    "#t uses a different a different formula for paired tests:\n",
    "# t = D - delta0 / ((standard deviation of the difference)/sqrt(number of samples))\n",
    "#delta 0 is not used in the answer. I GUESS it is because the means are considered the same so their difference would be 0.\n",
    "# D is the sample average of the n differences D1,D2   (diff.mean())\n",
    "t=diff.mean()/(diff.std(ddof=1)/np.sqrt(len(diff))) \n",
    "prob = stats.t.sf(t, df=len(diff)-1) \n",
    "print('p_value = ',2*min(prob,1-prob)) "
   ]
  },
  {
   "cell_type": "markdown",
   "metadata": {},
   "source": [
    "c. Explain what the P-value obtained in b) actually means. "
   ]
  },
  {
   "cell_type": "markdown",
   "metadata": {},
   "source": [
    "It means that if the two machines have the same average, \n",
    "there is a 1.17% (it said 11.7% in the answer but I think that is wrong) percent chance that we \n",
    "would get a bigger difference (more extreme) in our sample set. \n",
    "???????\n",
    "\n",
    "My answer: we reject the null hypothesis because the p_value is smaller than the significance (0.011 < 0.05).\n",
    "That means the blood pressure depends on the machine you use."
   ]
  },
  {
   "cell_type": "markdown",
   "metadata": {},
   "source": [
    "# Assignment 4"
   ]
  },
  {
   "cell_type": "markdown",
   "metadata": {},
   "source": [
    "In a study we test the lifespan of 10 pairs of twins. Where one have been smoking and the other have not. \n",
    "(see table in the exercise)"
   ]
  },
  {
   "cell_type": "markdown",
   "metadata": {},
   "source": [
    "a) Formulate the NULL-hypothesis to test if smoking influences your lifespan"
   ]
  },
  {
   "cell_type": "code",
   "execution_count": 5,
   "metadata": {},
   "outputs": [],
   "source": [
    "# H0: The lifespam is independent of smoking\n",
    "# H1: The lifespam is dependent of smoking\n",
    "Nonsmoker = np.array([100, 84, 82, 70, 88, 62, 91, 84, 75, 81]); \n",
    "Smoker    = np.array([45,  84, 54, 67, 89, 53, 85, 81, 62, 74]); "
   ]
  },
  {
   "cell_type": "code",
   "execution_count": 6,
   "metadata": {},
   "outputs": [],
   "source": [
    "# H0: mean_lifespan_smoker=mean_lifespan_nonsmoker \n",
    "#H1: mean_lifespan_smoker!=mean_lifespan_nonsmoker"
   ]
  },
  {
   "cell_type": "markdown",
   "metadata": {},
   "source": [
    "b) Should the data be paired or unpaired? "
   ]
  },
  {
   "cell_type": "markdown",
   "metadata": {},
   "source": [
    "#b) #The arguments for doing a paired test: The twin pairs are paired together, \n",
    "and as they have similar genes, it might be argued that this eliminate the genefactor of the lifespan. \n",
    "#However, I think that unpaired testing is the right answer, \n",
    "as many other factors also influence your lifespan (healthy food, exercise, getting hit by a car etc.)."
   ]
  },
  {
   "cell_type": "markdown",
   "metadata": {},
   "source": [
    "c)  Calculate the p-value using an unpaired test. Can the null-hypothesis be rejected with significance? "
   ]
  },
  {
   "cell_type": "code",
   "execution_count": 7,
   "metadata": {},
   "outputs": [
    {
     "name": "stdout",
     "output_type": "stream",
     "text": [
      "pooled estimated variance 177.80555555555551\n"
     ]
    }
   ],
   "source": [
    "#s**2 = (1/(n1+n2-2)) * ( (n1-1)*(s1**2)  +  (n2-1)*(s2**2))\n",
    "\n",
    "#s1 = standard dev 1\n",
    "#s2 = standard dev 2\n",
    "\n",
    "s2_pooled = 1/(10+10-2) * ( (10-1)*Nonsmoker.std(ddof=1)**2 + (10-1)*Smoker.std(ddof=1)**2) \n",
    "print('pooled estimated variance',s2_pooled)"
   ]
  },
  {
   "cell_type": "code",
   "execution_count": 8,
   "metadata": {},
   "outputs": [
    {
     "data": {
      "image/png": "[encoded data removed]",
      "text/latex": [
       "$$2.062611574008436$$"
      ],
      "text/plain": [
       "2.062611574008436"
      ]
     },
     "execution_count": 8,
     "metadata": {},
     "output_type": "execute_result"
    }
   ],
   "source": [
    "#with that we calculate t\n",
    "\n",
    "# t = (x1 - x2) / (sqrt( (s**2)*(1/n1+1/n2) )\n",
    "t=(Nonsmoker.mean()-Smoker.mean())/(np.sqrt(s2_pooled*(1/10+1/10)) )\n",
    "t"
   ]
  },
  {
   "cell_type": "code",
   "execution_count": 9,
   "metadata": {},
   "outputs": [
    {
     "name": "stdout",
     "output_type": "stream",
     "text": [
      "P_value =  0.053883745387762305\n"
     ]
    }
   ],
   "source": [
    "#Unpaired = 2 tail test so use df = n1 + n2 -2\n",
    "prob = stats.t.cdf(t, df=10+10-2) #The teacher had 10+10-2 .\n",
    "print('P_value = ',2*min(prob,1-prob)) "
   ]
  },
  {
   "cell_type": "code",
   "execution_count": null,
   "metadata": {},
   "outputs": [],
   "source": [
    "# H0 cannot be rejected, as the p-value> 0.05 "
   ]
  },
  {
   "cell_type": "markdown",
   "metadata": {},
   "source": [
    "d) Calculate the p-value using a paired test. Can the null-hypothesis be rejected with significance? "
   ]
  },
  {
   "cell_type": "code",
   "execution_count": 10,
   "metadata": {},
   "outputs": [
    {
     "name": "stdout",
     "output_type": "stream",
     "text": [
      "difference in the lifespan of the twinpairs:  [55  0 28  3 -1  9  6  3 13  7]\n",
      "p_value =  0.04962958783935001\n"
     ]
    }
   ],
   "source": [
    "diff=Nonsmoker-Smoker \n",
    "print('difference in the lifespan of the twinpairs: ', diff)   \n",
    "t=diff.mean()/(diff.std(ddof=1)/np.sqrt(10)) \n",
    "#degrees of freedom df FOR PAIRED TESTS = sample length -1\n",
    "prob = stats.t.cdf(t, df=10-1) \n",
    "print('p_value = ', 2*min(prob,1-prob)) \n",
    "#p_value =  0.0496 \n",
    "# H0 can be rejected, as the p-value<0.05"
   ]
  }
 ],
 "metadata": {
  "kernelspec": {
   "display_name": "Python 3",
   "language": "python",
   "name": "python3"
  },
  "language_info": {
   "codemirror_mode": {
    "name": "ipython",
    "version": 3
   },
   "file_extension": ".py",
   "mimetype": "text/x-python",
   "name": "python",
   "nbconvert_exporter": "python",
   "pygments_lexer": "ipython3",
   "version": "3.7.4"
  }
 },
 "nbformat": 4,
 "nbformat_minor": 2
}
