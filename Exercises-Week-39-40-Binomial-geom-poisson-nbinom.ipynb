{
 "cells": [
  {
   "cell_type": "code",
   "execution_count": 2,
   "metadata": {},
   "outputs": [],
   "source": [
    "from scipy.stats import binom\n",
    "from scipy.stats import geom\n",
    "from scipy.stats import hypergeom\n",
    "from scipy.stats import poisson\n",
    "from scipy.stats import nbinom\n",
    "import pandas as pd\n",
    "import sympy as sp\n",
    "from sympy import *\n",
    "sp.init_printing()\n",
    "import matplotlib.pyplot as plt\n",
    "import scipy.integrate as integrate\n",
    "import scipy.special as special\n",
    "from scipy.integrate import quad\n",
    "import numpy as np\n",
    "from scipy.misc import derivative\n",
    "import math\n",
    "from math import *\n",
    "from fractions import Fraction\n",
    "import fractions\n",
    "from IPython.display import display, Math, Latex\n",
    "from sympy.abc import x\n",
    "from sympy import Poly\n",
    "from sympy.solvers.inequalities import solve_rational_inequalities\n",
    "%matplotlib inline"
   ]
  },
  {
   "cell_type": "markdown",
   "metadata": {},
   "source": [
    "# Exercise 1"
   ]
  },
  {
   "cell_type": "code",
   "execution_count": 5,
   "metadata": {},
   "outputs": [],
   "source": [
    "#passwords:  six characters  _ _ _ _ _ _  each char is one of the 16 letters (a-z) OR 10 ints (0-9). \n",
    "#Users (10.000) have unique passwords.\n",
    "#A hacker selects with replacement 100.000 passwords from potential set.\n",
    "#A match is called a hit\n",
    "#a) What is the distribution of the number of matches?\n"
   ]
  },
  {
   "cell_type": "code",
   "execution_count": 3,
   "metadata": {},
   "outputs": [],
   "source": [
    "#number of passwords = (10+26)**6 = 36**6\n",
    "\n",
    "\n",
    "#probability of hitting some user's password at random is:\n",
    "# p = 10.000 / 36**6"
   ]
  },
  {
   "cell_type": "code",
   "execution_count": 16,
   "metadata": {},
   "outputs": [
    {
     "name": "stdout",
     "output_type": "stream",
     "text": [
      "n (number of trials)= 100000\n",
      "p (prob of success)= 4.5939365799778335e-06\n"
     ]
    }
   ],
   "source": [
    "#Answer a, it is a binomial distribution with parameters:\n",
    "print('n (number of trials)=', 100000)\n",
    "n=100000\n",
    "print('p (prob of success)=', 10000 / (36**6))\n",
    "p=10000 / (36**6)"
   ]
  },
  {
   "cell_type": "code",
   "execution_count": 17,
   "metadata": {},
   "outputs": [
    {
     "data": {
      "text/plain": [
       "0.6316658688181821"
      ]
     },
     "execution_count": 17,
     "metadata": {},
     "output_type": "execute_result"
    }
   ],
   "source": [
    "#Answer b, probability of NO hits.The probability of hits is taken from the function of binomial\n",
    "prob = (1-(10000 / (36**6)))**100000\n",
    "prob"
   ]
  },
  {
   "cell_type": "code",
   "execution_count": 21,
   "metadata": {},
   "outputs": [
    {
     "data": {
      "text/plain": [
       "0.45939365799778337"
      ]
     },
     "execution_count": 21,
     "metadata": {},
     "output_type": "execute_result"
    }
   ],
   "source": [
    "#C) mean and variance for the number of hits:\n",
    "#Mean: E(x = n x p)\n",
    "mean = n*p\n",
    "mean"
   ]
  },
  {
   "cell_type": "code",
   "execution_count": 19,
   "metadata": {},
   "outputs": [
    {
     "data": {
      "text/plain": [
       "0.45939154757245326"
      ]
     },
     "execution_count": 19,
     "metadata": {},
     "output_type": "execute_result"
    }
   ],
   "source": [
    "variance = n*p*(1-p)\n",
    "variance"
   ]
  },
  {
   "cell_type": "markdown",
   "metadata": {},
   "source": [
    "# Exercise 2"
   ]
  },
  {
   "cell_type": "code",
   "execution_count": 10,
   "metadata": {},
   "outputs": [
    {
     "data": {
      "text/latex": [
       "$\\displaystyle P(X \\geq 5)= 0.9961$"
      ],
      "text/plain": [
       "<IPython.core.display.Math object>"
      ]
     },
     "metadata": {},
     "output_type": "display_data"
    },
    {
     "data": {
      "text/latex": [
       "$\\displaystyle P(X \\geq 5)= 0.9961$"
      ],
      "text/plain": [
       "<IPython.core.display.Math object>"
      ]
     },
     "metadata": {},
     "output_type": "display_data"
    }
   ],
   "source": [
    "#Airline sells 125 tickets for a flight with 120 passengers. The probability that a passenger doesnt show up is 0.10.\n",
    "#The passengers behave independently\n",
    "\n",
    "# A = Event passenger does not show up\n",
    "#P(A) = 0.10\n",
    "\n",
    "#a) What is the probability that every passener who shows up can take the flight?\n",
    "\n",
    "#X has the binomial distribution with parameters n = 125, p = 0.1\n",
    "#Since the airline sold 125 tickers, then 125 could show up that is why n=125\n",
    "\n",
    "#Use binomial formula\n",
    "\n",
    "#Let X be the random variable of number of people who do not show up for the flight.\n",
    "\n",
    "#a) If everybody who shows up can take the flight then it must be X>= 5. \n",
    "\n",
    "# Example with cdf\n",
    "p= 0.1\n",
    "x= 4   #Using 4 because I want X >= 5 (Includying five) \n",
    "n=125\n",
    "\n",
    "#cdf cause it is >=. The cdf calculates the probability until 4 so we need to do 1 - that to get the probability for X>=5\n",
    "display(Math(\"P(X \\geq 5)= \" + repr(round(1 - binom.cdf(x,n,p),4) )))\n",
    "\n",
    "#we can also use the sf function and then we DON'T need 1 - \n",
    "display(Math(\"P(X \\geq 5)= \" + repr(round(binom.sf(x,n,p),4) )))"
   ]
  },
  {
   "cell_type": "code",
   "execution_count": 11,
   "metadata": {},
   "outputs": [
    {
     "data": {
      "text/latex": [
       "$\\displaystyle P(X > 5)= 0.9886$"
      ],
      "text/plain": [
       "<IPython.core.display.Math object>"
      ]
     },
     "metadata": {},
     "output_type": "display_data"
    }
   ],
   "source": [
    "#b) What is the probability that the fliht departs with empty seats.\n",
    "\n",
    "#People who do not show up should be more than 5\n",
    "#Calculate P(X>5)\n",
    "x = 5  #Use 5 because you want 6, because if 6 people don't show up there is one empty seat.\n",
    "display(Math(\"P(X > 5)= \" + repr(round(binom.sf(x,n,p),4) )))"
   ]
  },
  {
   "cell_type": "markdown",
   "metadata": {},
   "source": [
    "# Exercise 3"
   ]
  },
  {
   "cell_type": "markdown",
   "metadata": {},
   "source": [
    " A player of a video game is confronted with a series of opponents and has an 80% probability of defeating each one. Success with any opponent is independent of previous encounters. Until defeated, the player continues to contest opponents.\n"
   ]
  },
  {
   "cell_type": "code",
   "execution_count": 34,
   "metadata": {},
   "outputs": [
    {
     "data": {
      "image/png": "[encoded data removed]",
      "text/latex": [
       "$$0.2 \\cdot 0.8^{x - 1}$$"
      ],
      "text/plain": [
       "       x - 1\n",
       "0.2⋅0.8     "
      ]
     },
     "execution_count": 34,
     "metadata": {},
     "output_type": "execute_result"
    }
   ],
   "source": [
    "#a. What is the probability mass function of the number of opponents contested in a game?\n",
    "\n",
    "#The distribution of a variable that measures the number of trials until the \n",
    "#first success (defeat or lose) is a geometric distribution!!!\n",
    "\n",
    "#The probability 0.8 BUT this is not the p we should use, we should use 1-0.8 because\n",
    "#we want the probabylity of being defeated!!\n",
    "#X number of opponents\n",
    "p=1-0.8  #\n",
    "x=sp.Symbol('x')\n",
    "f = ((1-p)**(x-1))*p\n",
    "f"
   ]
  },
  {
   "cell_type": "code",
   "execution_count": 48,
   "metadata": {},
   "outputs": [
    {
     "data": {
      "text/latex": [
       "$\\displaystyle P(X = 1)= 0.2$"
      ],
      "text/plain": [
       "<IPython.core.display.Math object>"
      ]
     },
     "metadata": {},
     "output_type": "display_data"
    },
    {
     "data": {
      "text/latex": [
       "$\\displaystyle P(X = 2)= 0.16$"
      ],
      "text/plain": [
       "<IPython.core.display.Math object>"
      ]
     },
     "metadata": {},
     "output_type": "display_data"
    }
   ],
   "source": [
    "#b  What is the probability that a player defeats at least two opponents in a game?\n",
    "#X number of opponents encountered\n",
    "#P(X > 2)  #You need 2 because in order to win at least 2 you need to encounter 3 (die in the third one)\n",
    "\n",
    "#The formula in a) calculates the probability of dying, so in order to calculate the probability of win we use the complement:\n",
    "# P(not A) = 1-P(A)\n",
    "#The player defeats two opponents if the player is defeated in the third game or a later game.\n",
    "#So to calculate P(A) we evalue when x=1 and x=2\n",
    "\n",
    "p=0.2\n",
    "x=1    #We evaluate X=1\n",
    "\n",
    "#geom takes p as shape parameter.\n",
    "display(Math(\"P(X = 1)= \" + repr(round(geom.pmf(x,p),4) )))\n",
    "\n",
    "x=2 #We evaluate X=2\n",
    "#geom takes p as shape parameter.\n",
    "display(Math(\"P(X = 2)= \" + repr(round(geom.pmf(x,p),4) )))"
   ]
  },
  {
   "cell_type": "code",
   "execution_count": 49,
   "metadata": {},
   "outputs": [
    {
     "data": {
      "text/latex": [
       "$\\displaystyle P(X \\geq 3)= 0.64$"
      ],
      "text/plain": [
       "<IPython.core.display.Math object>"
      ]
     },
     "metadata": {},
     "output_type": "display_data"
    }
   ],
   "source": [
    "#You don't really need the previous two steps, you can already use p(X>=3)\n",
    "\n",
    "#Then we use the complement rule \n",
    "#p(X>=3)\n",
    "p=0.2    #Because X>= 3 is the number of encounters when defeated.\n",
    "x=2    #We evaluate X=2 because we want to include 3.\n",
    "display(Math(\"P(X \\geq 3)= \" + repr(round(1-geom.cdf(x,p),4) )))"
   ]
  },
  {
   "cell_type": "code",
   "execution_count": 57,
   "metadata": {},
   "outputs": [
    {
     "data": {
      "image/png": "[encoded data removed]",
      "text/latex": [
       "$$5.0$$"
      ],
      "text/plain": [
       "5.0"
      ]
     },
     "execution_count": 57,
     "metadata": {},
     "output_type": "execute_result"
    }
   ],
   "source": [
    "#c What is the expected number of opponents contested in a game?\n",
    "#In here we are calculating the expected value (mean)\n",
    "#For geometric distribution it is: 1/p\n",
    "#We use the same p (0.2) because that one includes all the opponents, includying the one you die with.\n",
    "E = 1/p\n",
    "E"
   ]
  },
  {
   "cell_type": "code",
   "execution_count": 59,
   "metadata": {},
   "outputs": [
    {
     "data": {
      "text/latex": [
       "$\\displaystyle P(X \\geq 3)= 0.512$"
      ],
      "text/plain": [
       "<IPython.core.display.Math object>"
      ]
     },
     "metadata": {},
     "output_type": "display_data"
    }
   ],
   "source": [
    "#d  What is the probability that a player contests four or more opponents in a game?\n",
    "# P(X>=4)\n",
    "x=3 #Because we want 4\n",
    "p=0.2\n",
    "display(Math(\"P(X \\geq 3)= \" + repr(round(geom.sf(x,p),4) )))"
   ]
  },
  {
   "cell_type": "code",
   "execution_count": 60,
   "metadata": {},
   "outputs": [
    {
     "data": {
      "image/png": "[encoded data removed]",
      "text/latex": [
       "$$1.953125$$"
      ],
      "text/plain": [
       "1.953125"
      ]
     },
     "execution_count": 60,
     "metadata": {},
     "output_type": "execute_result"
    }
   ],
   "source": [
    "#e What is the expected number of game plays until a player contests four or more opponents?\n",
    "#We use the result from d\n",
    "p=0.512\n",
    "#Expected value for geometric 1/p\n",
    "E=1/p\n",
    "E\n",
    "#We expect about 2 games play."
   ]
  },
  {
   "cell_type": "markdown",
   "metadata": {},
   "source": [
    "# Exercise 4"
   ]
  },
  {
   "cell_type": "markdown",
   "metadata": {},
   "source": [
    "Astronomers treat the number of stars in a given volume of space as a Poisson random variable. The density in the Milky Way Galaxy in the vicinity of our solar system is one star per 16 cubic light-years.\n",
    "\n"
   ]
  },
  {
   "cell_type": "code",
   "execution_count": 62,
   "metadata": {},
   "outputs": [
    {
     "data": {
      "text/latex": [
       "$\\displaystyle P(X \\geq 2)= 0.2642$"
      ],
      "text/plain": [
       "<IPython.core.display.Math object>"
      ]
     },
     "metadata": {},
     "output_type": "display_data"
    }
   ],
   "source": [
    "#a. What is the probability of two or more stars in 16 cubic light-years?\n",
    "mu = 1 #lambda = 1 star/16 cubic light-years\n",
    "x=1 #because you want two\n",
    "#poisson.pmf(x, mu, loc)\n",
    "display(Math(\"P(X \\geq 2)= \" + repr(round(poisson.sf(x,mu),4) )))"
   ]
  },
  {
   "cell_type": "code",
   "execution_count": 64,
   "metadata": {},
   "outputs": [
    {
     "data": {
      "image/png": "[encoded data removed]",
      "text/latex": [
       "$$\\left [ 2.99573227355399\\right ]$$"
      ],
      "text/plain": [
       "[2.99573227355399]"
      ]
     },
     "execution_count": 64,
     "metadata": {},
     "output_type": "execute_result"
    }
   ],
   "source": [
    "#b) How many cubic light-years of space must be studied so that the probability of one or more stars exceeds 0.95?\n",
    "#p>0.95     \n",
    "#How many cubic light years?? = How many mu? (lambda)\n",
    "#P(X>=1)  exceeds 0.95\n",
    "l = Symbol('λ')\n",
    "e= np.exp(1)\n",
    "\n",
    "#The poisson equation is solved:\n",
    "solve(1-0.95-(e**-l),l)"
   ]
  },
  {
   "cell_type": "code",
   "execution_count": 65,
   "metadata": {},
   "outputs": [
    {
     "data": {
      "image/png": "[encoded data removed]",
      "text/latex": [
       "$$48$$"
      ],
      "text/plain": [
       "48"
      ]
     },
     "execution_count": 65,
     "metadata": {},
     "output_type": "execute_result"
    }
   ],
   "source": [
    "#We need approx 3.\n",
    "3*16"
   ]
  },
  {
   "cell_type": "code",
   "execution_count": 66,
   "metadata": {},
   "outputs": [],
   "source": [
    "#We need 48 cubic light-years of space"
   ]
  },
  {
   "cell_type": "markdown",
   "metadata": {},
   "source": [
    "# Exercise 5"
   ]
  },
  {
   "cell_type": "markdown",
   "metadata": {},
   "source": [
    " A congested computer network has a 1% chance of losing a data packet that must be resent, and packet losses are independent events. An e-mail message requires 100 packets."
   ]
  },
  {
   "cell_type": "code",
   "execution_count": 69,
   "metadata": {},
   "outputs": [],
   "source": [
    "#a) What is the distribution of the number of packets in an e-mail message that must be resent? Include the parameter values.\n",
    "#Binomial distribution with paremeters:\n",
    "p=0.01 #probability of losing a a data packe\n",
    "n=100"
   ]
  },
  {
   "cell_type": "code",
   "execution_count": 70,
   "metadata": {},
   "outputs": [
    {
     "data": {
      "text/latex": [
       "$\\displaystyle P(X \\geq 1)= 0.634$"
      ],
      "text/plain": [
       "<IPython.core.display.Math object>"
      ]
     },
     "metadata": {},
     "output_type": "display_data"
    }
   ],
   "source": [
    "#b)What is the probability that at least one packet is resent?\n",
    "#P(X=>1)\n",
    "x=0 #because we include 1\n",
    "display(Math(\"P(X \\geq 1)= \" + repr(round(binom.sf(x,n,p),4) )))"
   ]
  },
  {
   "cell_type": "code",
   "execution_count": 72,
   "metadata": {},
   "outputs": [
    {
     "data": {
      "text/latex": [
       "$\\displaystyle P(X \\geq 2)= 0.2642$"
      ],
      "text/plain": [
       "<IPython.core.display.Math object>"
      ]
     },
     "metadata": {},
     "output_type": "display_data"
    }
   ],
   "source": [
    "#c) What is the probability that two or more packets are resent?\n",
    "#P(X=>2)\n",
    "x=1 #because we include 2\n",
    "display(Math(\"P(X \\geq 2)= \" + repr(round(binom.sf(x,n,p),4) )))"
   ]
  },
  {
   "cell_type": "code",
   "execution_count": 74,
   "metadata": {},
   "outputs": [
    {
     "data": {
      "image/png": "[encoded data removed]",
      "text/latex": [
       "$$1.0$$"
      ],
      "text/plain": [
       "1.0"
      ]
     },
     "execution_count": 74,
     "metadata": {},
     "output_type": "execute_result"
    }
   ],
   "source": [
    "#d) What are the mean and standard deviation of the number of packets that are resent?\n",
    "#Mean = n*p\n",
    "mean = n*p\n",
    "mean"
   ]
  },
  {
   "cell_type": "code",
   "execution_count": 75,
   "metadata": {},
   "outputs": [
    {
     "data": {
      "image/png": "[encoded data removed]",
      "text/latex": [
       "$$0.99498743710662$$"
      ],
      "text/plain": [
       "0.99498743710662"
      ]
     },
     "execution_count": 75,
     "metadata": {},
     "output_type": "execute_result"
    }
   ],
   "source": [
    "#standard deviation = square root of variance. Variance = np(1-p)\n",
    "sd= sqrt(n*p*(1-p))\n",
    "sd"
   ]
  },
  {
   "cell_type": "code",
   "execution_count": 81,
   "metadata": {},
   "outputs": [
    {
     "data": {
      "text/latex": [
       "$\\displaystyle P(X \\geq 2)= 0.2349$"
      ],
      "text/plain": [
       "<IPython.core.display.Math object>"
      ]
     },
     "metadata": {},
     "output_type": "display_data"
    }
   ],
   "source": [
    "#e) If there are 10 messages and each contains 100 packets, what is the probability that at least one message \n",
    "#requires that two or more packets be resent?\n",
    "\n",
    "#From c we have the probability of two or more packets be resend which is P(𝑋≥2)0.2642\n",
    "#Let Y = number of messages that require two or more packets to be resent\n",
    "#Y is binomial distributed with n=10, p= 0.2642/10  because there are 10 messages\n",
    "#P(Y>=1)\n",
    "p=0.2642/10\n",
    "n=10\n",
    "x=0 #because we include 1\n",
    "p1= display(Math(\"P(X \\geq 2)= \" + repr(round(binom.sf(x,n,p),4) )))"
   ]
  },
  {
   "cell_type": "markdown",
   "metadata": {},
   "source": [
    "# Exercise 6"
   ]
  },
  {
   "cell_type": "markdown",
   "metadata": {},
   "source": [
    "A manufacturer of a consumer electronics product expects 2% of units to fail during the warranty period. A sample of 500 independent units is tracked for warranty performance.\n"
   ]
  },
  {
   "cell_type": "code",
   "execution_count": 88,
   "metadata": {},
   "outputs": [
    {
     "data": {
      "text/latex": [
       "$\\displaystyle P(X = 0)= 4.1e-05$"
      ],
      "text/plain": [
       "<IPython.core.display.Math object>"
      ]
     },
     "metadata": {},
     "output_type": "display_data"
    }
   ],
   "source": [
    "#a)What is the probability that none fails during the warranty period?\n",
    "p=0.02 \n",
    "n=500\n",
    "#Let X be the number of units that fail\n",
    "#P(X=0)\n",
    "x=0\n",
    "display(Math(\"P(X = 0)= \" + repr(round(binom.pmf(x,n,p),6))))"
   ]
  },
  {
   "cell_type": "code",
   "execution_count": 89,
   "metadata": {},
   "outputs": [
    {
     "data": {
      "image/png": "[encoded data removed]",
      "text/latex": [
       "$$10.0$$"
      ],
      "text/plain": [
       "10.0"
      ]
     },
     "execution_count": 89,
     "metadata": {},
     "output_type": "execute_result"
    }
   ],
   "source": [
    "#b) What is the expected number of failures during the warranty period?\n",
    "E=n*p\n",
    "E"
   ]
  },
  {
   "cell_type": "code",
   "execution_count": 92,
   "metadata": {},
   "outputs": [
    {
     "data": {
      "text/latex": [
       "$\\displaystyle P(X > 2)= 0.9974$"
      ],
      "text/plain": [
       "<IPython.core.display.Math object>"
      ]
     },
     "metadata": {},
     "output_type": "display_data"
    }
   ],
   "source": [
    "#What is the probability that more than two units fail during the warranty period?\n",
    "#P(X>2)\n",
    "x=2 #We include from 3\n",
    "display(Math(\"P(X > 2)= \" + repr(round(binom.sf(x,n,p),4))))"
   ]
  },
  {
   "cell_type": "markdown",
   "metadata": {},
   "source": [
    "# Exercise 7 "
   ]
  },
  {
   "cell_type": "markdown",
   "metadata": {},
   "source": [
    "The probability that a patient recovers from a rare blood disease is 0.4. If 15 people are known to have contracted this disease, what is the probability that\n"
   ]
  },
  {
   "cell_type": "code",
   "execution_count": 17,
   "metadata": {},
   "outputs": [
    {
     "data": {
      "text/latex": [
       "$\\displaystyle P(X > 2)= 0.0338$"
      ],
      "text/plain": [
       "<IPython.core.display.Math object>"
      ]
     },
     "metadata": {},
     "output_type": "display_data"
    }
   ],
   "source": [
    "#a)  at least 10 survive\n",
    "#X person recovers\n",
    "n=15\n",
    "p=0.4\n",
    "#P(X>=10)\n",
    "x=9 #because we include 10\n",
    "display(Math(\"P(X > 2)= \" + repr(round(binom.sf(x,n,p),4))))"
   ]
  },
  {
   "cell_type": "code",
   "execution_count": 18,
   "metadata": {},
   "outputs": [
    {
     "data": {
      "image/png": "[encoded data removed]",
      "text/latex": [
       "$$0.8779$$"
      ],
      "text/plain": [
       "0.8779"
      ]
     },
     "execution_count": 18,
     "metadata": {},
     "output_type": "execute_result"
    }
   ],
   "source": [
    "#b. from 3 to 8 survive\n",
    "#P(3=<X=<8)\n",
    "#Idk the formula to get the result directly so do pmf for each from 3 to 8 and sum them\n",
    "a3 = round(binom.pmf(3,n,p),4)\n",
    "a4 = round(binom.pmf(4,n,p),4)\n",
    "a5 = round(binom.pmf(5,n,p),4)\n",
    "a6 = round(binom.pmf(6,n,p),4)\n",
    "a7 = round(binom.pmf(7,n,p),4)\n",
    "a8 = round(binom.pmf(8,n,p),4)\n",
    "p3to8=a3+a4+a5+a6+a7+a8\n",
    "p3to8"
   ]
  },
  {
   "cell_type": "markdown",
   "metadata": {},
   "source": []
  },
  {
   "cell_type": "code",
   "execution_count": 19,
   "metadata": {},
   "outputs": [
    {
     "data": {
      "image/png": "[encoded data removed]",
      "text/latex": [
       "$$0.8779$$"
      ],
      "text/plain": [
       "0.8779"
      ]
     },
     "execution_count": 19,
     "metadata": {},
     "output_type": "execute_result"
    }
   ],
   "source": [
    "#NOTE!! RIGHT WAY OF DOING IT: \n",
    "#When we want less than we use cdf (the normal cdf, without 1-)and x is the number we want to include.\n",
    "a3 = round(binom.cdf(2,n,p),4)\n",
    "a8 = round(binom.cdf(8,n,p),4)\n",
    "res=a8-a3\n",
    "res"
   ]
  },
  {
   "cell_type": "code",
   "execution_count": 97,
   "metadata": {},
   "outputs": [
    {
     "data": {
      "text/latex": [
       "$\\displaystyle P(X = 5)= 0.1859$"
      ],
      "text/plain": [
       "<IPython.core.display.Math object>"
      ]
     },
     "metadata": {},
     "output_type": "display_data"
    }
   ],
   "source": [
    "#EXACTLY 5 SURVIVE\n",
    "x=5\n",
    "display(Math(\"P(X = 5)= \" + repr(round(binom.pmf(x,n,p),4))))"
   ]
  },
  {
   "cell_type": "code",
   "execution_count": 98,
   "metadata": {},
   "outputs": [
    {
     "data": {
      "image/png": "[encoded data removed]",
      "text/latex": [
       "$$6.0$$"
      ],
      "text/plain": [
       "6.0"
      ]
     },
     "execution_count": 98,
     "metadata": {},
     "output_type": "execute_result"
    }
   ],
   "source": [
    "#d)Mean and variance\n",
    "mean=n*p\n",
    "mean"
   ]
  },
  {
   "cell_type": "code",
   "execution_count": 100,
   "metadata": {},
   "outputs": [
    {
     "data": {
      "image/png": "[encoded data removed]",
      "text/latex": [
       "$$3.5999999999999996$$"
      ],
      "text/plain": [
       "3.5999999999999996"
      ]
     },
     "execution_count": 100,
     "metadata": {},
     "output_type": "execute_result"
    }
   ],
   "source": [
    "variance= n*p*(1-p)\n",
    "variance"
   ]
  },
  {
   "cell_type": "markdown",
   "metadata": {},
   "source": [
    "# Exercise 8 "
   ]
  },
  {
   "cell_type": "markdown",
   "metadata": {},
   "source": [
    "A large chain retailer purchases a certain kind of electronic device from a manufacturer. The manufacturer indicates that the defective rate of the device is 3%\n"
   ]
  },
  {
   "cell_type": "code",
   "execution_count": 109,
   "metadata": {},
   "outputs": [
    {
     "data": {
      "text/latex": [
       "$\\displaystyle P(X >= 1)= 0.4562$"
      ],
      "text/plain": [
       "<IPython.core.display.Math object>"
      ]
     },
     "metadata": {},
     "output_type": "display_data"
    }
   ],
   "source": [
    "#a) The inspector of the retailer randomly picks 20 items from a shipment.\n",
    "#What is the probability that there will be at least one defective item among them?\n",
    "n=20\n",
    "p=0.03\n",
    "#Let X be number of defective items\n",
    "#P(X>=1)\n",
    "x=0\n",
    "display(Math(\"P(X >= 1)= \" + repr(round(binom.sf(x,n,p),4))))"
   ]
  },
  {
   "cell_type": "code",
   "execution_count": 113,
   "metadata": {},
   "outputs": [
    {
     "data": {
      "text/latex": [
       "$\\displaystyle P(X = 3)= 0.1602$"
      ],
      "text/plain": [
       "<IPython.core.display.Math object>"
      ]
     },
     "metadata": {},
     "output_type": "display_data"
    }
   ],
   "source": [
    "#b)Suppose that the retailer receives 10 shipments in a month and the inspector randomly tests \n",
    "#20 devices per shipment. What is the probability that there will be 3 shipments containing at least one defective device?\n",
    "\n",
    "#from the previous we know the probability of getting at least on defective in one shipment is 0.4562\n",
    "p=0.4562\n",
    "n=10\n",
    "#Let X be number of shipments with defective\n",
    "#P(X=3)\n",
    "x=3\n",
    "display(Math(\"P(X = 3)= \" + repr(round(binom.pmf(x,n,p),4))))"
   ]
  },
  {
   "cell_type": "markdown",
   "metadata": {},
   "source": [
    "# Exercise 9"
   ]
  },
  {
   "cell_type": "markdown",
   "metadata": {},
   "source": [
    "High ﬂows result in the closure of a causeway. From past records, the road is closed for this reason on 10 days during a 20-year period. At an adjoining village, there is concern about the closure of the causeway because it provides the only access. The villagers assume that the probability of a closure of the road for more than one day during a year is less than 0.10. Is this correct? Please show using the Poisson distribution.\n"
   ]
  },
  {
   "cell_type": "code",
   "execution_count": 8,
   "metadata": {},
   "outputs": [
    {
     "data": {
      "text/latex": [
       "$\\displaystyle P(X \\geq 2)= 0.0902$"
      ],
      "text/plain": [
       "<IPython.core.display.Math object>"
      ]
     },
     "metadata": {},
     "output_type": "display_data"
    }
   ],
   "source": [
    "#The road is closed 10 days in 20 year\n",
    "\n",
    "#They assume the probability of a closure for more than one day during a year is less than 0.10\n",
    "#Let X be\n",
    "\n",
    "mu = 10/20  #lambda, 10 days (number of events)/interval\n",
    "#Let X be the number of days when the road is closed\n",
    "#P(X>=2)\n",
    "x = 1 #because we include 2\n",
    "display(Math(\"P(X \\geq 2)= \" + repr(round(poisson.sf(x,mu),4) )))"
   ]
  },
  {
   "cell_type": "code",
   "execution_count": 9,
   "metadata": {},
   "outputs": [],
   "source": [
    "#The answer is correct because the probability of a closure of the road for more than one day during a year is less than 0.10 \n",
    "#because it is 0.09"
   ]
  },
  {
   "cell_type": "markdown",
   "metadata": {},
   "source": [
    "# Exercise 10"
   ]
  },
  {
   "cell_type": "markdown",
   "metadata": {},
   "source": [
    "A company performs inspection on shipments from suppliers in order to detect nonconforming products. Assume a lot contains 1000 items and 1% is nonconforming. Assuming that the number of nonconforming products in the sample is binomial, what sample size is needed so that the probability of choosing at least one nonconforming item in the sample is at least 0.9?\n"
   ]
  },
  {
   "cell_type": "code",
   "execution_count": 14,
   "metadata": {},
   "outputs": [],
   "source": [
    "#lot contains 1000 items\n",
    "#in that case n=1000\n",
    "#p=0.01 is nonconforming\n",
    "\n",
    "#What sample size is needed? Discover n\n",
    "#p=0.01\n",
    "#Let X denote the number of nonconforming items\n",
    "#P(X>=1)=0.9\n",
    "x=0 #because we include 1\n",
    "\n",
    "#Answer in the notebook"
   ]
  },
  {
   "cell_type": "markdown",
   "metadata": {},
   "source": [
    "# Exercise 11"
   ]
  },
  {
   "cell_type": "markdown",
   "metadata": {},
   "source": [
    "The number of errors in a textbook follows a Poisson distribution with a mean of 0.01 error per page. What is the probability that there are three or less errors in 100 pages?\n"
   ]
  },
  {
   "cell_type": "code",
   "execution_count": 15,
   "metadata": {},
   "outputs": [
    {
     "data": {
      "text/latex": [
       "$\\displaystyle P(X \\geq 3)= 0.9982$"
      ],
      "text/plain": [
       "<IPython.core.display.Math object>"
      ]
     },
     "metadata": {},
     "output_type": "display_data"
    }
   ],
   "source": [
    "#mean 0.01 = lambda\n",
    "#mean = number of errors/1 page = 0.01 \n",
    "#Let X be the number of errors\n",
    "#In 100 pages lambda is 1 (0.01*100=1)\n",
    "#Calculate P(X<=3)\n",
    "x=3 #We include 3 but X should be 3 in this case because it is <= so we use cdf, without 1 - \n",
    "display(Math(\"P(X \\geq 3)= \" + repr(round(poisson.cdf(x,mu),4) )))"
   ]
  },
  {
   "cell_type": "code",
   "execution_count": null,
   "metadata": {},
   "outputs": [],
   "source": []
  }
 ],
 "metadata": {
  "kernelspec": {
   "display_name": "Python 3",
   "language": "python",
   "name": "python3"
  },
  "language_info": {
   "codemirror_mode": {
    "name": "ipython",
    "version": 3
   },
   "file_extension": ".py",
   "mimetype": "text/x-python",
   "name": "python",
   "nbconvert_exporter": "python",
   "pygments_lexer": "ipython3",
   "version": "3.7.4"
  }
 },
 "nbformat": 4,
 "nbformat_minor": 2
}
