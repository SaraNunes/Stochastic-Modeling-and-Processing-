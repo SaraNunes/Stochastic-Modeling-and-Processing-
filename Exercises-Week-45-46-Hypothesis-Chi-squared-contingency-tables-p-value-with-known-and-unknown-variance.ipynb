{
 "cells": [
  {
   "cell_type": "code",
   "execution_count": 2,
   "metadata": {},
   "outputs": [],
   "source": [
    "from scipy.stats import binom\n",
    "from scipy.stats import geom\n",
    "from scipy.stats import hypergeom\n",
    "from scipy.stats import poisson\n",
    "from scipy.stats import nbinom\n",
    "from scipy.stats import expon\n",
    "from scipy.stats import norm\n",
    "from scipy import stats\n",
    "import pandas as pd\n",
    "import sympy as sp\n",
    "from sympy import *\n",
    "sp.init_printing()\n",
    "import matplotlib.pyplot as plt\n",
    "import scipy.integrate as integrate\n",
    "import scipy.special as special\n",
    "from scipy.integrate import quad\n",
    "import numpy as np\n",
    "from scipy.misc import derivative\n",
    "import math\n",
    "from math import *\n",
    "from fractions import Fraction\n",
    "import fractions\n",
    "from IPython.display import display, Math, Latex\n",
    "from sympy.abc import x\n",
    "from sympy import Poly\n",
    "from sympy.solvers.inequalities import solve_rational_inequalities\n",
    "%matplotlib inline"
   ]
  },
  {
   "cell_type": "markdown",
   "metadata": {},
   "source": [
    "# Assignment 1"
   ]
  },
  {
   "cell_type": "markdown",
   "metadata": {},
   "source": [
    "A company purchases tires from two different suppliers, 1 and 2. Records show that 10% of the tires from supplier 1 and 5% of the tires from supplier 2 are defective. 40% of the company’s current tire inventory stems from supplier 1, and the remaining from supplier 2. The company has a total inventory of 1000 tires. \n",
    "\n",
    "a. Based on this information, construct a contingency table of the company’s tire inventory situation (2x2 contingency table). \n"
   ]
  },
  {
   "cell_type": "code",
   "execution_count": 3,
   "metadata": {},
   "outputs": [
    {
     "data": {
      "text/html": [
       "<div>\n",
       "<style scoped>\n",
       "    .dataframe tbody tr th:only-of-type {\n",
       "        vertical-align: middle;\n",
       "    }\n",
       "\n",
       "    .dataframe tbody tr th {\n",
       "        vertical-align: top;\n",
       "    }\n",
       "\n",
       "    .dataframe thead th {\n",
       "        text-align: right;\n",
       "    }\n",
       "</style>\n",
       "<table border=\"1\" class=\"dataframe\">\n",
       "  <thead>\n",
       "    <tr style=\"text-align: right;\">\n",
       "      <th></th>\n",
       "      <th>Condition</th>\n",
       "      <th>Supplier 1</th>\n",
       "      <th>Supplier 2</th>\n",
       "      <th>Total</th>\n",
       "    </tr>\n",
       "  </thead>\n",
       "  <tbody>\n",
       "    <tr>\n",
       "      <th>0</th>\n",
       "      <td>Good</td>\n",
       "      <td>360</td>\n",
       "      <td>570</td>\n",
       "      <td>930</td>\n",
       "    </tr>\n",
       "    <tr>\n",
       "      <th>1</th>\n",
       "      <td>Defective</td>\n",
       "      <td>40</td>\n",
       "      <td>30</td>\n",
       "      <td>70</td>\n",
       "    </tr>\n",
       "    <tr>\n",
       "      <th>2</th>\n",
       "      <td>Total</td>\n",
       "      <td>400</td>\n",
       "      <td>600</td>\n",
       "      <td>1000</td>\n",
       "    </tr>\n",
       "  </tbody>\n",
       "</table>\n",
       "</div>"
      ],
      "text/plain": [
       "   Condition  Supplier 1  Supplier 2  Total\n",
       "0       Good         360         570    930\n",
       "1  Defective          40          30     70\n",
       "2      Total         400         600   1000"
      ]
     },
     "execution_count": 3,
     "metadata": {},
     "output_type": "execute_result"
    }
   ],
   "source": [
    "#the table\n",
    "data = [[\"Good\",360,570,930 ],[\"Defective\", 40,30,70],[\"Total\", 400 ,600,1000]]\n",
    "pd.DataFrame(data , columns=[\"Condition\",\"Supplier 1\", \"Supplier 2\",\"Total\"])"
   ]
  },
  {
   "cell_type": "markdown",
   "metadata": {},
   "source": [
    "b. If a randomly chosen tires from the company’s inventory is chosen and turns out to be defective, what is the probability that the tire is from supplier 1? "
   ]
  },
  {
   "cell_type": "code",
   "execution_count": 5,
   "metadata": {},
   "outputs": [
    {
     "data": {
      "image/png": "[encoded data removed]",
      "text/latex": [
       "$$0.5714285714285714$$"
      ],
      "text/plain": [
       "0.5714285714285714"
      ]
     },
     "execution_count": 5,
     "metadata": {},
     "output_type": "execute_result"
    }
   ],
   "source": [
    "#Probability of supplier 1, GIVEN that the tire is defective: \n",
    "# P(Supplier 1 | Defective)\n",
    "p = 40/70\n",
    "p"
   ]
  },
  {
   "cell_type": "markdown",
   "metadata": {},
   "source": [
    "c. Is there sufficient evidence to support the claim that the rate of defectives depends very significantly on supplier?"
   ]
  },
  {
   "cell_type": "code",
   "execution_count": 9,
   "metadata": {},
   "outputs": [
    {
     "data": {
      "text/html": [
       "<div>\n",
       "<style scoped>\n",
       "    .dataframe tbody tr th:only-of-type {\n",
       "        vertical-align: middle;\n",
       "    }\n",
       "\n",
       "    .dataframe tbody tr th {\n",
       "        vertical-align: top;\n",
       "    }\n",
       "\n",
       "    .dataframe thead th {\n",
       "        text-align: right;\n",
       "    }\n",
       "</style>\n",
       "<table border=\"1\" class=\"dataframe\">\n",
       "  <thead>\n",
       "    <tr style=\"text-align: right;\">\n",
       "      <th></th>\n",
       "      <th>Condition</th>\n",
       "      <th>Supplier 1</th>\n",
       "      <th>Supplier 2</th>\n",
       "      <th>Total</th>\n",
       "    </tr>\n",
       "  </thead>\n",
       "  <tbody>\n",
       "    <tr>\n",
       "      <th>0</th>\n",
       "      <td>Good</td>\n",
       "      <td>372.0</td>\n",
       "      <td>558.0</td>\n",
       "      <td>930</td>\n",
       "    </tr>\n",
       "    <tr>\n",
       "      <th>1</th>\n",
       "      <td>Defective</td>\n",
       "      <td>28.0</td>\n",
       "      <td>42.0</td>\n",
       "      <td>70</td>\n",
       "    </tr>\n",
       "    <tr>\n",
       "      <th>2</th>\n",
       "      <td>Total</td>\n",
       "      <td>400.0</td>\n",
       "      <td>600.0</td>\n",
       "      <td>1000</td>\n",
       "    </tr>\n",
       "  </tbody>\n",
       "</table>\n",
       "</div>"
      ],
      "text/plain": [
       "   Condition  Supplier 1  Supplier 2  Total\n",
       "0       Good       372.0       558.0    930\n",
       "1  Defective        28.0        42.0     70\n",
       "2      Total       400.0       600.0   1000"
      ]
     },
     "execution_count": 9,
     "metadata": {},
     "output_type": "execute_result"
    }
   ],
   "source": [
    "# H0 = The chances of getting a defective tire is independent of the supplier.\n",
    "# H1 = The chances of getting a defective tire is dependent of the supplier.\n",
    "\n",
    "# calc the expected values\n",
    "data = [[\"Good\",400*930/1000,600*930/1000,930 ],[\"Defective\", 400*70/1000,600*70/1000,70],[\"Total\", 400 ,600,1000]]\n",
    "pd.DataFrame(data , columns=[\"Condition\",\"Supplier 1\", \"Supplier 2\",\"Total\"])"
   ]
  },
  {
   "cell_type": "code",
   "execution_count": 8,
   "metadata": {},
   "outputs": [
    {
     "name": "stdout",
     "output_type": "stream",
     "text": [
      "X2 =  9.216589861751153\n",
      "Degrees of freedom =  1\n",
      "P_value =  0.0023983184964129424\n",
      "P_value =  0.0023983184964129424\n"
     ]
    }
   ],
   "source": [
    "# clculte x pow 2\n",
    "X2 = (360-372)**2/372+(570-558)**2/558+(40-28)**2/28+(30-42)**2/42\n",
    "print('X2 = ', X2)\n",
    "\n",
    "# the Degrees of freedom is calculated: Dof = (rows-1)*(columns-1)\n",
    "dof = (2-1)*(2-1)\n",
    "print('Degrees of freedom = ', dof)\n",
    "print('P_value = ',stats.chi2.sf(X2, dof))\n",
    "\n",
    "# can also be calculated in the following way:\n",
    "obs = [[360,570],[40,30]]\n",
    "chi2_stat, p_val, dof, ex2 = stats.chi2_contingency(obs, correction=False)\n",
    "print('P_value = ',p_val)"
   ]
  },
  {
   "cell_type": "markdown",
   "metadata": {},
   "source": [
    "As the P-value is smaller than the significance value (0.0024<0.01), we can reject the null hypothesis. \n",
    "\n",
    "The chance of getting a defective tire does depend on the supplier. "
   ]
  },
  {
   "cell_type": "markdown",
   "metadata": {},
   "source": [
    "# Assignment 2"
   ]
  },
  {
   "cell_type": "markdown",
   "metadata": {},
   "source": [
    "A SMP-teacher believes that the average height in his SMP class is normal distributed with an average of 1.7 meter and with a standard deviation of 10 cm. \n",
    "He then measure 5 students and get the following results: "
   ]
  },
  {
   "cell_type": "code",
   "execution_count": 4,
   "metadata": {},
   "outputs": [],
   "source": [
    "Height = np.array([1.83, 1.96, 1.76, 1.78, 1.68])"
   ]
  },
  {
   "cell_type": "markdown",
   "metadata": {},
   "source": [
    "1. What is the sample mean? "
   ]
  },
  {
   "cell_type": "code",
   "execution_count": 5,
   "metadata": {},
   "outputs": [
    {
     "data": {
      "image/png": "[encoded data removed]",
      "text/latex": [
       "$\\displaystyle 1.802$"
      ],
      "text/plain": [
       "1.802"
      ]
     },
     "execution_count": 5,
     "metadata": {},
     "output_type": "execute_result"
    }
   ],
   "source": [
    "mean = Height.mean()\n",
    "mean"
   ]
  },
  {
   "cell_type": "markdown",
   "metadata": {},
   "source": [
    "2. What is the sample variance? "
   ]
  },
  {
   "cell_type": "code",
   "execution_count": 7,
   "metadata": {},
   "outputs": [
    {
     "name": "stdout",
     "output_type": "stream",
     "text": [
      "0.01072\n",
      "0.01072\n"
     ]
    }
   ],
   "source": [
    "#Two ways of doing it:\n",
    "variance = np.sum((Height-Height.mean())**2)/(5-1)\n",
    "variance2 = Height.var(ddof=1)\n",
    "print(variance)\n",
    "print(variance2)"
   ]
  },
  {
   "cell_type": "markdown",
   "metadata": {},
   "source": [
    "3. What is the sample standard deviation? "
   ]
  },
  {
   "cell_type": "code",
   "execution_count": 28,
   "metadata": {},
   "outputs": [
    {
     "name": "stdout",
     "output_type": "stream",
     "text": [
      "0.10353743284435828\n",
      "0.10353743284435828\n"
     ]
    }
   ],
   "source": [
    "stdev = sqrt(variance)\n",
    "print(stdev)\n",
    "stdev2 = Height.std(ddof=1)\n",
    "print(stdev2)"
   ]
  },
  {
   "cell_type": "markdown",
   "metadata": {},
   "source": [
    "4. What is the P-value (2-tailed)? "
   ]
  },
  {
   "cell_type": "code",
   "execution_count": 29,
   "metadata": {},
   "outputs": [
    {
     "name": "stdout",
     "output_type": "stream",
     "text": [
      "p_value =  0.022560915657808822\n"
     ]
    }
   ],
   "source": [
    "#This is the formula to do it without calculate z value:\n",
    "#the scale is the standard deviation, we are using meters so we convert 10 cm in meters (0.1)\n",
    "#loc is the mean/average/normally distributed around..\n",
    "#5 is the amount of students/sample amount\n",
    "prob = norm.cdf(Height.mean(), loc=1.7, scale=0.1/np.sqrt(5)) \n",
    "p_val = 2*min(prob, 1-prob) \n",
    "print('p_value = ', p_val) # p_value =  0.0283795"
   ]
  },
  {
   "cell_type": "code",
   "execution_count": 30,
   "metadata": {},
   "outputs": [
    {
     "data": {
      "image/png": "[encoded data removed]",
      "text/latex": [
       "$$0.022560915657808822$$"
      ],
      "text/plain": [
       "0.022560915657808822"
      ]
     },
     "execution_count": 30,
     "metadata": {},
     "output_type": "execute_result"
    }
   ],
   "source": [
    "#Calculating z value first, you can use it to check.\n",
    "z = (Height.mean()-1.7) / ((0.1)/sqrt(5))\n",
    "prob = norm.cdf(z)\n",
    "p_val = 2*min(prob, 1-prob) \n",
    "p_val"
   ]
  },
  {
   "cell_type": "markdown",
   "metadata": {},
   "source": [
    "5. Can the belief of the SMP-teacher be rejected with a significant level α, of 5% ? "
   ]
  },
  {
   "cell_type": "code",
   "execution_count": 31,
   "metadata": {},
   "outputs": [],
   "source": [
    "#Yes because the P value is lower than the significant level (0.0225 < 0.05)"
   ]
  },
  {
   "cell_type": "markdown",
   "metadata": {},
   "source": [
    "After rejecting the hypothesis the SMP teacher argues that the average height is 1.7m and it is normal distributed, but admits that he don’t know the true standard deviation. "
   ]
  },
  {
   "cell_type": "markdown",
   "metadata": {},
   "source": [
    "6. What is the P-value (2-tailed) when the standard deviation is unknown? "
   ]
  },
  {
   "cell_type": "code",
   "execution_count": 32,
   "metadata": {},
   "outputs": [
    {
     "name": "stdout",
     "output_type": "stream",
     "text": [
      "p_value =  0.09235730899034578\n"
     ]
    }
   ],
   "source": [
    "#Use this when variance/standart deviation is unknown\n",
    "prob = stats.t.cdf(Height.mean(), df=len(Height)-1, loc=1.7, scale=Height.std(ddof=1)/np.sqrt(len(Height))) \n",
    "p_val = 2*min(prob, 1-prob) \n",
    "print('p_value = ', p_val) #p_value =  0.092357 "
   ]
  },
  {
   "cell_type": "markdown",
   "metadata": {},
   "source": [
    "7. Can the belief of the SMP-teacher be rejected with a significant level α, of 5% ? "
   ]
  },
  {
   "cell_type": "code",
   "execution_count": 33,
   "metadata": {},
   "outputs": [],
   "source": [
    "#No because the P value is higher than the significance level (0.09 > 0.05).  The SMP-teacher might be right.  "
   ]
  },
  {
   "cell_type": "markdown",
   "metadata": {},
   "source": [
    "# Assignment 3"
   ]
  },
  {
   "cell_type": "markdown",
   "metadata": {},
   "source": [
    "An urban community would like to show that the incidence of breast cancer is higher in their area than in a nearby rural area. (PCB levels were found to be higher in the soil of the urban community.) If it is found that 20 of 200 adult women in the urban community have breast cancer and 10 of 150 adult women in the rural community have breast can we conclude at the 0.05 level of significance that breast cancer is more prevalent in the urban community? "
   ]
  },
  {
   "cell_type": "code",
   "execution_count": 34,
   "metadata": {},
   "outputs": [],
   "source": [
    "# H0 : Breast cancer is independent of the living area\n",
    "# H1 : Breast cancer is dependent of the living area"
   ]
  },
  {
   "cell_type": "code",
   "execution_count": 37,
   "metadata": {},
   "outputs": [
    {
     "data": {
      "text/html": [
       "<div>\n",
       "<style scoped>\n",
       "    .dataframe tbody tr th:only-of-type {\n",
       "        vertical-align: middle;\n",
       "    }\n",
       "\n",
       "    .dataframe tbody tr th {\n",
       "        vertical-align: top;\n",
       "    }\n",
       "\n",
       "    .dataframe thead th {\n",
       "        text-align: right;\n",
       "    }\n",
       "</style>\n",
       "<table border=\"1\" class=\"dataframe\">\n",
       "  <thead>\n",
       "    <tr style=\"text-align: right;\">\n",
       "      <th></th>\n",
       "      <th>Condition</th>\n",
       "      <th>urban</th>\n",
       "      <th>rural</th>\n",
       "      <th>Total</th>\n",
       "    </tr>\n",
       "  </thead>\n",
       "  <tbody>\n",
       "    <tr>\n",
       "      <th>0</th>\n",
       "      <td>Women without cancer</td>\n",
       "      <td>180</td>\n",
       "      <td>140</td>\n",
       "      <td>320</td>\n",
       "    </tr>\n",
       "    <tr>\n",
       "      <th>1</th>\n",
       "      <td>Women with cancer</td>\n",
       "      <td>20</td>\n",
       "      <td>10</td>\n",
       "      <td>30</td>\n",
       "    </tr>\n",
       "    <tr>\n",
       "      <th>2</th>\n",
       "      <td>Total</td>\n",
       "      <td>200</td>\n",
       "      <td>150</td>\n",
       "      <td>350</td>\n",
       "    </tr>\n",
       "  </tbody>\n",
       "</table>\n",
       "</div>"
      ],
      "text/plain": [
       "              Condition  urban  rural  Total\n",
       "0  Women without cancer    180    140    320\n",
       "1     Women with cancer     20     10     30\n",
       "2                 Total    200    150    350"
      ]
     },
     "execution_count": 37,
     "metadata": {},
     "output_type": "execute_result"
    }
   ],
   "source": [
    "# h0 the sickness is independent of the place of living\n",
    "# make the table\n",
    "data = [[\"Women without cancer\",180,140,320],[\"Women with cancer\", 20,10,30],[\"Total\", 200 ,150,350]]\n",
    "pd.DataFrame(data , columns=[\"Condition\",\"urban\", \"rural\",\"Total\"])"
   ]
  },
  {
   "cell_type": "code",
   "execution_count": 38,
   "metadata": {},
   "outputs": [
    {
     "data": {
      "text/html": [
       "<div>\n",
       "<style scoped>\n",
       "    .dataframe tbody tr th:only-of-type {\n",
       "        vertical-align: middle;\n",
       "    }\n",
       "\n",
       "    .dataframe tbody tr th {\n",
       "        vertical-align: top;\n",
       "    }\n",
       "\n",
       "    .dataframe thead th {\n",
       "        text-align: right;\n",
       "    }\n",
       "</style>\n",
       "<table border=\"1\" class=\"dataframe\">\n",
       "  <thead>\n",
       "    <tr style=\"text-align: right;\">\n",
       "      <th></th>\n",
       "      <th>Condition</th>\n",
       "      <th>urban</th>\n",
       "      <th>rural</th>\n",
       "      <th>Total</th>\n",
       "    </tr>\n",
       "  </thead>\n",
       "  <tbody>\n",
       "    <tr>\n",
       "      <th>0</th>\n",
       "      <td>Women without cancer</td>\n",
       "      <td>182.857143</td>\n",
       "      <td>137.142857</td>\n",
       "      <td>320</td>\n",
       "    </tr>\n",
       "    <tr>\n",
       "      <th>1</th>\n",
       "      <td>Women with cancer</td>\n",
       "      <td>17.142857</td>\n",
       "      <td>12.857143</td>\n",
       "      <td>30</td>\n",
       "    </tr>\n",
       "    <tr>\n",
       "      <th>2</th>\n",
       "      <td>Total</td>\n",
       "      <td>200.000000</td>\n",
       "      <td>150.000000</td>\n",
       "      <td>350</td>\n",
       "    </tr>\n",
       "  </tbody>\n",
       "</table>\n",
       "</div>"
      ],
      "text/plain": [
       "              Condition       urban       rural  Total\n",
       "0  Women without cancer  182.857143  137.142857    320\n",
       "1     Women with cancer   17.142857   12.857143     30\n",
       "2                 Total  200.000000  150.000000    350"
      ]
     },
     "execution_count": 38,
     "metadata": {},
     "output_type": "execute_result"
    }
   ],
   "source": [
    "# calc the expected values\n",
    "data = [[\"Women without cancer\",200*320/350,150*320/350,320],[\"Women with cancer\", 200*30/350,150*30/350,30],[\"Total\", 200 ,150,350]]\n",
    "pd.DataFrame(data , columns=[\"Condition\",\"urban\", \"rural\",\"Total\"])"
   ]
  },
  {
   "cell_type": "code",
   "execution_count": 41,
   "metadata": {},
   "outputs": [
    {
     "name": "stdout",
     "output_type": "stream",
     "text": [
      "X2 =  1.2271104872026553\n",
      "Degrees of freedom =  1\n",
      "P_value =  0.26796971633132877\n",
      "P_value =  0.2702893848016953\n"
     ]
    }
   ],
   "source": [
    "# clculte x pow 2\n",
    "X2 = (180-182.8)**2/182.8+(140-137.2)**2/137.2+(20-17.1)**2/17.7+(10-12.9)**2/12.9\n",
    "print('X2 = ', X2)\n",
    "\n",
    "# the Degrees of freedom is calculated: Dof = (rows-1)*(columns-1)\n",
    "dof = (2-1)*(2-1)\n",
    "print('Degrees of freedom = ', dof)\n",
    "print('P_value = ',stats.chi2.sf(X2, dof))\n",
    "\n",
    "# can also be calculated in the following way, if you have a lot of data use this!:\n",
    "obs = [[20,10],[180,140]] \n",
    "chi2_stat, p_val, dof, ex2 = stats.chi2_contingency(obs, correction=False)\n",
    "print('P_value = ',p_val)"
   ]
  },
  {
   "cell_type": "code",
   "execution_count": 42,
   "metadata": {},
   "outputs": [],
   "source": [
    "#We cannot reject the null hypothesis because the P value is higher than the significance level (0.27 > 0.05). \n",
    "#The breast cancer is independent of the living area."
   ]
  },
  {
   "cell_type": "markdown",
   "metadata": {},
   "source": [
    "# Assignment 4"
   ]
  },
  {
   "cell_type": "markdown",
   "metadata": {},
   "source": [
    "Different screens and their hue bias were tested and the result is displayed in the following table: "
   ]
  },
  {
   "cell_type": "code",
   "execution_count": 43,
   "metadata": {},
   "outputs": [
    {
     "data": {
      "text/html": [
       "<div>\n",
       "<style scoped>\n",
       "    .dataframe tbody tr th:only-of-type {\n",
       "        vertical-align: middle;\n",
       "    }\n",
       "\n",
       "    .dataframe tbody tr th {\n",
       "        vertical-align: top;\n",
       "    }\n",
       "\n",
       "    .dataframe thead th {\n",
       "        text-align: right;\n",
       "    }\n",
       "</style>\n",
       "<table border=\"1\" class=\"dataframe\">\n",
       "  <thead>\n",
       "    <tr style=\"text-align: right;\">\n",
       "      <th></th>\n",
       "      <th>display</th>\n",
       "      <th>blueish</th>\n",
       "      <th>reddish</th>\n",
       "      <th>greenish</th>\n",
       "      <th>total</th>\n",
       "    </tr>\n",
       "  </thead>\n",
       "  <tbody>\n",
       "    <tr>\n",
       "      <th>0</th>\n",
       "      <td>display1</td>\n",
       "      <td>46</td>\n",
       "      <td>82</td>\n",
       "      <td>72</td>\n",
       "      <td>200</td>\n",
       "    </tr>\n",
       "    <tr>\n",
       "      <th>1</th>\n",
       "      <td>display2</td>\n",
       "      <td>42</td>\n",
       "      <td>38</td>\n",
       "      <td>20</td>\n",
       "      <td>100</td>\n",
       "    </tr>\n",
       "    <tr>\n",
       "      <th>2</th>\n",
       "      <td>display3</td>\n",
       "      <td>52</td>\n",
       "      <td>40</td>\n",
       "      <td>8</td>\n",
       "      <td>100</td>\n",
       "    </tr>\n",
       "    <tr>\n",
       "      <th>3</th>\n",
       "      <td>total</td>\n",
       "      <td>140</td>\n",
       "      <td>160</td>\n",
       "      <td>100</td>\n",
       "      <td>400</td>\n",
       "    </tr>\n",
       "  </tbody>\n",
       "</table>\n",
       "</div>"
      ],
      "text/plain": [
       "    display  blueish  reddish  greenish  total\n",
       "0  display1       46       82        72    200\n",
       "1  display2       42       38        20    100\n",
       "2  display3       52       40         8    100\n",
       "3     total      140      160       100    400"
      ]
     },
     "execution_count": 43,
     "metadata": {},
     "output_type": "execute_result"
    }
   ],
   "source": [
    "data = [[\"display1\",46,82,72,200 ],[\"display2\", 42,38,20,100], [\"display3\", 52,40,8,100], [\"total\",140,160,100,400]]\n",
    "pd.DataFrame(data , columns=[\"display\",\"blueish\", \"reddish\",\"greenish\", \"total\"])"
   ]
  },
  {
   "cell_type": "markdown",
   "metadata": {},
   "source": [
    "Is there sufficient evidence to conclude that screens and hue bias depend significantly? \n",
    "Design an appropriate test to answer this question. "
   ]
  },
  {
   "cell_type": "code",
   "execution_count": 44,
   "metadata": {},
   "outputs": [],
   "source": [
    "# H0: The hue bias is independent of the screen\n",
    "# H1: The hue bias is dependent of the screen"
   ]
  },
  {
   "cell_type": "code",
   "execution_count": 46,
   "metadata": {},
   "outputs": [
    {
     "name": "stdout",
     "output_type": "stream",
     "text": [
      "Expected values = \n",
      " [[ 17.14285714  12.85714286]\n",
      " [182.85714286 137.14285714]]\n",
      "Degrees of freedom =  4\n",
      "chi2 =  1.2152777777777786\n",
      "P_value =  3.795777297500132e-08\n"
     ]
    }
   ],
   "source": [
    "obs = [[46,82,72],[42,38,20], [52,40,8]] \n",
    "chi2_stat, p_val, dof, ex2 = stats.chi2_contingency(obs, correction=False)\n",
    "print('Expected values = \\n',ex) # Expected values =  [[70. 80. 50.] [35. 40. 25.] [35. 40. 25.]] \n",
    "print('Degrees of freedom = ',dof) # Degrees of freedom =  4 \n",
    "print('chi2 = ',chi2)   # chi2 =  40.2757142 print\n",
    "print('P_value = ',p_val)"
   ]
  },
  {
   "cell_type": "code",
   "execution_count": null,
   "metadata": {},
   "outputs": [],
   "source": [
    "#As the P-value is lower than the significance level (let’s say 0.05) the null-hypothesis can be rejected. \n",
    "#We reject the null hypothesis because p value is lower than 0.05. The hue bias depends of the screen."
   ]
  }
 ],
 "metadata": {
  "kernelspec": {
   "display_name": "Python 3",
   "language": "python",
   "name": "python3"
  },
  "language_info": {
   "codemirror_mode": {
    "name": "ipython",
    "version": 3
   },
   "file_extension": ".py",
   "mimetype": "text/x-python",
   "name": "python",
   "nbconvert_exporter": "python",
   "pygments_lexer": "ipython3",
   "version": "3.7.4"
  }
 },
 "nbformat": 4,
 "nbformat_minor": 2
}
