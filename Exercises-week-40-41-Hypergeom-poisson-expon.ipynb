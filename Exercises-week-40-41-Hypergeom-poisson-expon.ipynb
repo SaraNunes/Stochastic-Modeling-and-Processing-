{
 "cells": [
  {
   "cell_type": "code",
   "execution_count": 38,
   "metadata": {},
   "outputs": [],
   "source": [
    "from scipy.stats import binom\n",
    "from scipy.stats import geom\n",
    "from scipy.stats import hypergeom\n",
    "from scipy.stats import poisson\n",
    "from scipy.stats import nbinom\n",
    "from scipy.stats import expon\n",
    "import pandas as pd\n",
    "import sympy as sp\n",
    "from sympy import *\n",
    "sp.init_printing()\n",
    "import matplotlib.pyplot as plt\n",
    "import scipy.integrate as integrate\n",
    "import scipy.special as special\n",
    "from scipy.integrate import quad\n",
    "import numpy as np\n",
    "from scipy.misc import derivative\n",
    "import math\n",
    "from math import *\n",
    "from fractions import Fraction\n",
    "import fractions\n",
    "from IPython.display import display, Math, Latex\n",
    "from sympy.abc import x\n",
    "from sympy import Poly\n",
    "from sympy.solvers.inequalities import solve_rational_inequalities\n",
    "%matplotlib inline"
   ]
  },
  {
   "cell_type": "markdown",
   "metadata": {},
   "source": [
    "# Exercise 1"
   ]
  },
  {
   "cell_type": "markdown",
   "metadata": {},
   "source": [
    "Each main bearing cap in an engine contains four bolts. The bolts are selected at random,without replacement, from a parts bin that contains 30 bolts from one supplier and 70bolts from another supplier."
   ]
  },
  {
   "cell_type": "code",
   "execution_count": 7,
   "metadata": {},
   "outputs": [
    {
     "data": {
      "text/latex": [
       "$\\displaystyle P(x1=4 U x2=4)= 0.240818$"
      ],
      "text/plain": [
       "<IPython.core.display.Math object>"
      ]
     },
     "metadata": {},
     "output_type": "display_data"
    }
   ],
   "source": [
    "#a. What is the probability that a main bearing cap contains all bolts from the samesupplier?\n",
    "\n",
    "#This is hypergeometrical because it is not something with success or failure\n",
    "\n",
    "#let X be the number of bolts from one supplier\n",
    "#P(X=4)\n",
    "N=100\n",
    "x=4\n",
    "r1=30\n",
    "n=4\n",
    "\n",
    "#the probability needs to be calculated for each supplier. r1 is used to calculate the probability for the first supplier\n",
    "#containing 30 bolts\n",
    "#we create r2 to use it to calculate the probability for the second supplier\n",
    "r2=70\n",
    "#For the hypergeom function it is hypergeom(N, n, r1) and then you call pmf or cdf with the x you want to use \n",
    "#hypergeom(N, n, r1).pmf(x)\n",
    "display(Math(\"P(x1=4 U x2=4)= \" + repr(round(hypergeom(N, n, r1).pmf(x),6) + round(hypergeom(N, n, r2).pmf(x),6) )))"
   ]
  },
  {
   "cell_type": "code",
   "execution_count": 8,
   "metadata": {},
   "outputs": [
    {
     "data": {
      "text/latex": [
       "$\\displaystyle P(x1=3 U x2=3)= 0.491275$"
      ],
      "text/plain": [
       "<IPython.core.display.Math object>"
      ]
     },
     "metadata": {},
     "output_type": "display_data"
    }
   ],
   "source": [
    "#b What is the probability that exactly three bolts are from the same supplier?\n",
    "#the same procedure but with x=3 for both suppliers\n",
    "#P(X=3)\n",
    "x=3\n",
    "display(Math(\"P(x1=3 U x2=3)= \" + repr(round(hypergeom(N, n, r1).pmf(x),6) + round(hypergeom(N, n, r2).pmf(x),6) )))"
   ]
  },
  {
   "cell_type": "markdown",
   "metadata": {},
   "source": [
    "# Exercise 2"
   ]
  },
  {
   "cell_type": "markdown",
   "metadata": {},
   "source": [
    "Lots of 40 components each are called unacceptable if they contain as many as 3 defectivesor more. The procedure for sampling the lot is to select 5 components at random and toreject the lot if a defective is found. What is the probability that exactly 1 defective isfound in the sample if there are 3 defectives in the entire lot?"
   ]
  },
  {
   "cell_type": "code",
   "execution_count": 10,
   "metadata": {},
   "outputs": [
    {
     "data": {
      "text/latex": [
       "$\\displaystyle P(X=1)=0.3011$"
      ],
      "text/plain": [
       "<IPython.core.display.Math object>"
      ]
     },
     "metadata": {},
     "output_type": "display_data"
    }
   ],
   "source": [
    "#lots of 40 unacceptable if contains 3 defective or more\n",
    "#\n",
    "#Let X be the number of defective components\n",
    "#select 5 and reject if one is found\n",
    "\n",
    "#probability of 1 defective if there are 3 defect\n",
    "#P(X=1)\n",
    "\n",
    "N=40\n",
    "n=5\n",
    "r=3\n",
    "x=1\n",
    "display(Math(\"P(X=1)=\" + repr(round(hypergeom(N, n, r).pmf(x),4))))"
   ]
  },
  {
   "cell_type": "markdown",
   "metadata": {},
   "source": [
    "# Exercise 3"
   ]
  },
  {
   "cell_type": "markdown",
   "metadata": {},
   "source": [
    "# Re-exam SMP E-2018, assignment 2"
   ]
  },
  {
   "cell_type": "markdown",
   "metadata": {},
   "source": [
    "You arrive at a train station at 10 o’clock, knowing that the train will arrive at some time uniformly distributed between 10 and 10:30. "
   ]
  },
  {
   "cell_type": "code",
   "execution_count": 19,
   "metadata": {},
   "outputs": [
    {
     "name": "stdout",
     "output_type": "stream",
     "text": [
      "P(X>10)= 0.667\n"
     ]
    }
   ],
   "source": [
    "#a. What is the probability that you will have to wait longer than 10 minutes until the train arrives?\n",
    "#Let X be the amount of minutes waiting for the train between 10 and 10:30\n",
    "\n",
    "#One way of doing it: The probability from 10:00 to 10:30 is 1. \n",
    "#Then, the probability that the train arrives from 10:10 (wait 10 minutes) is the probability between 10:10 and 10:30\n",
    "#that would be 20/30.\n",
    "#The teacher used the probability of the train not coming in the first 10 minutes = 1 - probability in those 10 minutes (10/30)\n",
    "print(\"P(X>10)=\",round(1-10/30,3))"
   ]
  },
  {
   "cell_type": "code",
   "execution_count": 18,
   "metadata": {},
   "outputs": [
    {
     "name": "stdout",
     "output_type": "stream",
     "text": [
      "P(X>10)= 0.667\n"
     ]
    }
   ],
   "source": [
    "#Another way of doing it: integrate from 10 to 30 (Probability of the train arriving in that time)\n",
    "\n",
    "def F(x):\n",
    "    y = 1/30\n",
    "    return y\n",
    "xmin = 10\n",
    "xmax = 30\n",
    "res1, err = quad(F, xmin, xmax) \n",
    "print(\"P(X>10)=\",round(res1,3))"
   ]
  },
  {
   "cell_type": "code",
   "execution_count": 29,
   "metadata": {},
   "outputs": [
    {
     "name": "stdout",
     "output_type": "stream",
     "text": [
      "A = P(X>25)= 0.1667\n",
      "B = P(X>15)= 0.5\n"
     ]
    }
   ],
   "source": [
    "#b. If at 10:15 the train has no yet arrived, what is the probability that you will have\n",
    "#to wait at least an additional 10 minutes?\n",
    "#P(X>25 | Train did not arrive at 10:15)\n",
    "\n",
    "#03\n",
    "#P(X>25 | X>15) = \n",
    "A= round(1-25/30,4)\n",
    "print(\"A = P(X>25)=\",round(1-25/30,4))\n",
    "B=round(1-15/30,4)\n",
    "print(\"B = P(X>15)=\",round(1-15/30,4))"
   ]
  },
  {
   "cell_type": "code",
   "execution_count": 30,
   "metadata": {},
   "outputs": [
    {
     "name": "stdout",
     "output_type": "stream",
     "text": [
      "P(A|B)= 0.3334\n"
     ]
    }
   ],
   "source": [
    "# P(A|B) = P(A INTERSECTS B)/P(B)\n",
    "#from 15 to 25\n",
    "#The intersection between A and B is the probability between 25 and 30, which is A\n",
    "print(\"P(A|B)=\",round(A/B,4))"
   ]
  },
  {
   "cell_type": "markdown",
   "metadata": {},
   "source": [
    "# Exercise 4  Exam SMP E-2017, assignment 3"
   ]
  },
  {
   "cell_type": "markdown",
   "metadata": {},
   "source": [
    "Empirical evidence suggests that the number of battery charges of a Tesla Model S (85 kWh) follows a Poisson distribution with an average of 2.1 charges per 1,000 km. "
   ]
  },
  {
   "cell_type": "code",
   "execution_count": 32,
   "metadata": {},
   "outputs": [
    {
     "data": {
      "text/latex": [
       "$\\displaystyle P(X > 5)= 0.2469$"
      ],
      "text/plain": [
       "<IPython.core.display.Math object>"
      ]
     },
     "metadata": {},
     "output_type": "display_data"
    }
   ],
   "source": [
    "#2.1 charges per 1000 km\n",
    "#mu= 2.1 for 1000 km\n",
    "\n",
    "#a)  What is the probability that you will need to charge the Tesla more than five times during a 2000 km trip? \n",
    "\n",
    "mu=2.1*2 #because it is 2000 km\n",
    "\n",
    "#Let X denote the number of charges\n",
    "#P(X>5)\n",
    "x=5\n",
    "display(Math(\"P(X > 5)= \" + repr(round(poisson.sf(x,mu),4) )))"
   ]
  },
  {
   "cell_type": "code",
   "execution_count": 37,
   "metadata": {},
   "outputs": [
    {
     "data": {
      "text/latex": [
       "$\\displaystyle P(X =0)= 0.3499$"
      ],
      "text/plain": [
       "<IPython.core.display.Math object>"
      ]
     },
     "metadata": {},
     "output_type": "display_data"
    }
   ],
   "source": [
    "#b) What is the probability that you will not need to charge the Tesla during a 500 km trip? \n",
    "mu= 2.1/2 #For 500 km\n",
    "x=0\n",
    "display(Math(\"P(X =0)= \" + repr(round(poisson.pmf(x,mu),4) )))"
   ]
  },
  {
   "cell_type": "code",
   "execution_count": 39,
   "metadata": {},
   "outputs": [
    {
     "data": {
      "image/png": "[encoded data removed]",
      "text/latex": [
       "$$476.19047619047615$$"
      ],
      "text/plain": [
       "476.19047619047615"
      ]
     },
     "execution_count": 39,
     "metadata": {},
     "output_type": "execute_result"
    }
   ],
   "source": [
    "#c) Now, let K denote the range in kilometers between charges. \n",
    "#Which distribution must be used to model K and what is the average range in kilometers between charges?\n",
    "\n",
    "#Exponential because it models waiting (kilometers) between charges\n",
    "#K=Number of kilometers/2.1\n",
    "#K = 1000/2.1\n",
    "\n",
    "K = 1000/2.1\n",
    "K"
   ]
  },
  {
   "cell_type": "code",
   "execution_count": 36,
   "metadata": {},
   "outputs": [
    {
     "data": {
      "text/latex": [
       "$\\displaystyle P(X =0)= 0.5672$"
      ],
      "text/plain": [
       "<IPython.core.display.Math object>"
      ]
     },
     "metadata": {},
     "output_type": "display_data"
    }
   ],
   "source": [
    "#d) Suppose someone has to travel from Horsens to Copenhagen – a distance of 270 km. \n",
    "#What is the probability that the person will be able to complete the trip without having to charge the car battery? \n",
    "#1000 km ------ mu=2.1\n",
    "#270 km ------- x       => mu=270*2.1/1000\n",
    "\n",
    "mu = 270*2.1/1000\n",
    "x=0\n",
    "display(Math(\"P(X =0)= \" + repr(round(poisson.pmf(x,mu),4) )))"
   ]
  },
  {
   "cell_type": "markdown",
   "metadata": {},
   "source": [
    "# Exercise 5 Exam SMP E-2018, assignment 3"
   ]
  },
  {
   "cell_type": "markdown",
   "metadata": {},
   "source": [
    "It is believed that the number of years a certain laptop functions is exponentially distributed with parameter lambda = 1/8 . If a person buys a used laptop, what is the probability that it will be working after an additional 8 years, i.e. will be working more than 8 years after the person buys it used? Does the exponential distribution seem as a plausible distribution to model durability of laptops? Explain why/why not. "
   ]
  },
  {
   "cell_type": "code",
   "execution_count": 46,
   "metadata": {},
   "outputs": [
    {
     "data": {
      "text/latex": [
       "$\\displaystyle P(X >8)= 0.367879$"
      ],
      "text/plain": [
       "<IPython.core.display.Math object>"
      ]
     },
     "metadata": {},
     "output_type": "display_data"
    }
   ],
   "source": [
    "mu=1/8\n",
    "#Let X denote the years after the person buys it used\n",
    "x=8 \n",
    "\n",
    "#The expon function uses a scale: #if lamba is 1/8 then the scale is the opposite 1/lambda = 8\n",
    "\n",
    "display(Math(\"P(X >8)= \" + repr(round(expon.sf(x,scale=8),6) )))"
   ]
  }
 ],
 "metadata": {
  "kernelspec": {
   "display_name": "Python 3",
   "language": "python",
   "name": "python3"
  },
  "language_info": {
   "codemirror_mode": {
    "name": "ipython",
    "version": 3
   },
   "file_extension": ".py",
   "mimetype": "text/x-python",
   "name": "python",
   "nbconvert_exporter": "python",
   "pygments_lexer": "ipython3",
   "version": "3.7.4"
  }
 },
 "nbformat": 4,
 "nbformat_minor": 2
}
