{
 "cells": [
  {
   "cell_type": "code",
   "execution_count": 1,
   "metadata": {},
   "outputs": [],
   "source": [
    "from scipy.stats import binom\n",
    "from scipy.stats import geom\n",
    "from scipy.stats import hypergeom\n",
    "from scipy.stats import poisson\n",
    "from scipy.stats import nbinom\n",
    "from scipy.stats import expon\n",
    "from scipy.stats import norm\n",
    "from scipy import stats\n",
    "import pandas as pd\n",
    "import sympy as sp\n",
    "from sympy import *\n",
    "sp.init_printing()\n",
    "import matplotlib.pyplot as plt\n",
    "import scipy.integrate as integrate\n",
    "import scipy.special as special\n",
    "from scipy.integrate import quad\n",
    "import numpy as np\n",
    "from scipy.misc import derivative\n",
    "import math\n",
    "from math import *\n",
    "from fractions import Fraction\n",
    "import fractions\n",
    "from IPython.display import display, Math, Latex\n",
    "from sympy.abc import x\n",
    "from sympy import Poly\n",
    "from sympy.solvers.inequalities import solve_rational_inequalities\n",
    "%matplotlib inline "
   ]
  },
  {
   "cell_type": "markdown",
   "metadata": {},
   "source": [
    "# Assignment 1"
   ]
  },
  {
   "cell_type": "markdown",
   "metadata": {},
   "source": [
    "You are given the assignment to verify Ohm’s law in the lab. In one form, Ohm’s Law states that voltage divided by resistance is equal to current:   \n",
    "𝑈 / 𝑅 = 𝐼 \n",
    "\n",
    "You have a R = 100Ω Resistor, and measure the current going through the resistor at different voltages:"
   ]
  },
  {
   "cell_type": "code",
   "execution_count": 3,
   "metadata": {},
   "outputs": [
    {
     "name": "stdout",
     "output_type": "stream",
     "text": [
      "The Voltage U is the independent variable. Make a full linear regression analysis.\n"
     ]
    }
   ],
   "source": [
    "U = [-10,-5, 0, 5, 10, 15, 20, 25, 30, 35, 40, 45, 50, 55, 60, 65, 70, 75, 100] \n",
    "I = [0.15, -0.1 , -0.1 ,  0.1 ,  0.15,  0.25,  0.25,  0.4 ,  0.4 , 0.55,  0.35,  0.35,  0.65,  0.7,  4.2 ,  0.75,  0.6, 0.7,  0.9 ] \n",
    "print('The Voltage U is the independent variable. Make a full linear regression analysis.')"
   ]
  },
  {
   "cell_type": "markdown",
   "metadata": {},
   "source": [
    "When making a full linear regression analysis , the following steps should be included:\n",
    "\n",
    "1.Plot x and y data to confirm some sort of linear relationship\n",
    "\n",
    "2.Remove outliers if there is any. This is a qualitative assessment\n",
    "\n",
    "3.Determine the slope ß and the intersection α. \n",
    "\n",
    "4.Test the assumption that the errors/residuals are normally distributed:\n",
    "\n",
    "    1.Plot the residuals against the x-values. Is the error independent of time?\n",
    "    2.Make the probability plot, to test whether the error is normal distributed. Are the points on a straight line?\n",
    "\n",
    "5.Test the adequacy of the model \n",
    "    \n",
    "    1.Could the Slope ß = 0?  Calculate the P-value for that\n",
    "    2.Calculate the correlation coefficient r, and the coefficient of determination R**2. Discuss the result. \n",
    "    \n",
    "6.Calculate the confidence interval for the slope, ß and the intersection,α."
   ]
  },
  {
   "cell_type": "code",
   "execution_count": 6,
   "metadata": {},
   "outputs": [
    {
     "data": {
      "image/png": "[encoded data removed]",
      "text/plain": [
       "<Figure size 432x288 with 1 Axes>"
      ]
     },
     "metadata": {
      "needs_background": "light"
     },
     "output_type": "display_data"
    }
   ],
   "source": [
    "#1.Plot x and y data to confirm some sort of linear relationship\n",
    "plt.plot(U,I,'*')   # the plot plots x, y respectively. In this case U is x and I is y (Doesn't mateer in this case)\n",
    "plt.show()"
   ]
  },
  {
   "cell_type": "code",
   "execution_count": 7,
   "metadata": {},
   "outputs": [],
   "source": [
    "# 2. Remove outliers if there is any. This is a qualitative assessment"
   ]
  },
  {
   "cell_type": "code",
   "execution_count": 9,
   "metadata": {},
   "outputs": [
    {
     "data": {
      "image/png": "[encoded data removed]",
      "text/plain": [
       "<Figure size 432x288 with 1 Axes>"
      ]
     },
     "metadata": {
      "needs_background": "light"
     },
     "output_type": "display_data"
    }
   ],
   "source": [
    "I = [0.15, -0.1 , -0.1 ,  0.1 ,  0.15,  0.25,  0.25,  0.4 ,  0.4 , 0.55,  0.35,  0.35,  0.65,  0.7  #,  4.2  the outlier is removed\n",
    "     ,  0.75,  0.6, 0.7,  0.9 ] \n",
    "U = [-10,-5, 0, 5, 10, 15, 20, 25, 30, 35, 40, 45, 50, 55\n",
    "     #, 60 REMOVING THE CORRESPONDING POINT IN X\n",
    "     , 65, 70, 75, 100] \n",
    "\n",
    "plt.plot(U,I,'*')  \n",
    "plt.show()"
   ]
  },
  {
   "cell_type": "code",
   "execution_count": 11,
   "metadata": {},
   "outputs": [
    {
     "name": "stdout",
     "output_type": "stream",
     "text": [
      "beta1 =  0.008860703941016413\n",
      "beta2 =  0.008860703941016413\n",
      "beta3 =  0.008860703941016413\n",
      "alfa =  0.08400333538137461\n"
     ]
    }
   ],
   "source": [
    "#3.Determine the slope ß and the intersection α.\n",
    "\n",
    "#These are 3 different ways of calculating beta:\n",
    "beta = sum((U-U.mean())*(I-I.mean()))/sum((U-U.mean())**2) \n",
    "print('beta1 = ', beta)   \n",
    "beta = sum((U*I-U.mean()*I.mean()))/sum((U-U.mean())**2) \n",
    "print('beta2 = ', beta) \n",
    "beta = np.cov(U,I)[0,1]/np.var(U, ddof=1) \n",
    "print('beta3 = ', beta) \n",
    "\n",
    "#Claulating alfa:\n",
    "alfa = I.mean()-beta*U.mean() \n",
    "print('alfa = ', alfa)   "
   ]
  },
  {
   "cell_type": "code",
   "execution_count": 12,
   "metadata": {},
   "outputs": [
    {
     "data": {
      "text/plain": [
       "<matplotlib.legend.Legend at 0x1cea8755358>"
      ]
     },
     "execution_count": 12,
     "metadata": {},
     "output_type": "execute_result"
    },
    {
     "data": {
      "image/png": "[encoded data removed]",
      "text/plain": [
       "<Figure size 432x288 with 1 Axes>"
      ]
     },
     "metadata": {
      "needs_background": "light"
     },
     "output_type": "display_data"
    }
   ],
   "source": [
    "#OPTIONAL:\n",
    "# I plot the line, together with the data, to see if it makes sense. \n",
    "I_pred = alfa + beta*U # predicts the current, I based on alfa and beta \n",
    "plt.plot(U,I, '*', label='Measurements') \n",
    "plt.plot(U,I_pred, label='Linear regression') \n",
    "plt.legend(loc=0) # show the labels in the top left corner plt.show() "
   ]
  },
  {
   "cell_type": "code",
   "execution_count": 14,
   "metadata": {},
   "outputs": [
    {
     "data": {
      "image/png": "[encoded data removed]",
      "text/plain": [
       "<Figure size 432x288 with 1 Axes>"
      ]
     },
     "metadata": {
      "needs_background": "light"
     },
     "output_type": "display_data"
    }
   ],
   "source": [
    "#4.Test the assumption that the errors/residuals are normally distributed:\n",
    "#    1.Plot the residuals against the x-values. Is the error independent of time?\n",
    "\n",
    "#I think we don't consider time here so we ignore the question is the error independent of time.\n",
    "\n",
    "# error = yi - y hat i\n",
    "e = I-I_pred # calculates the residuals/error of the model \n",
    "plt.plot(U,e, '*') \n",
    "plt.show() "
   ]
  },
  {
   "cell_type": "code",
   "execution_count": 18,
   "metadata": {},
   "outputs": [
    {
     "data": {
      "text/plain": [
       "<matplotlib.legend.Legend at 0x1cea8c2a0f0>"
      ]
     },
     "execution_count": 18,
     "metadata": {},
     "output_type": "execute_result"
    },
    {
     "data": {
      "image/png": "[encoded data removed]",
      "text/plain": [
       "<Figure size 432x288 with 1 Axes>"
      ]
     },
     "metadata": {
      "needs_background": "light"
     },
     "output_type": "display_data"
    }
   ],
   "source": [
    "#4.2.Make the probability plot, to test whether the error is normal distributed. Are the points on a straight line?\n",
    "n=len(U)   #number of samples\n",
    "e_sort=np.sort(e)    #the observations are ranked from smallest to largest\n",
    "j = np.arange(1,n+1) #j is the numbering of/for the errors from 1 to n\n",
    "ocf = (j-0.5)/n       #observed cumulative frequency, ocf = (j-0.5)/n\n",
    "plt.plot(e_sort,stats.norm.ppf(ocf),'+', label = 'calculated manually')  #the ordered errors are plotted against the appropiate\n",
    "#percentile (norm.ppf,uniform.ppf, t.ppf ....) of the ocf.\n",
    "\n",
    "osm, osr =stats.probplot(e, dist=stats.norm) \n",
    "plt.plot(osm[1],osm[0],'x', label = 'python function used') \n",
    "plt.legend(loc=0) # show the labels in the top left corner \n",
    "plt.show() "
   ]
  },
  {
   "cell_type": "code",
   "execution_count": 19,
   "metadata": {},
   "outputs": [
    {
     "name": "stdout",
     "output_type": "stream",
     "text": [
      "It is somewhat on a straight line. Its a fine approximation, that the error is normally distributed. \n"
     ]
    }
   ],
   "source": [
    "#We can see the points try to follow a straight line. If it is a straight line is normally distributed\n",
    "print('It is somewhat on a straight line. Its a fine approximation, that the error is normally distributed. ') "
   ]
  },
  {
   "cell_type": "code",
   "execution_count": 22,
   "metadata": {},
   "outputs": [
    {
     "name": "stdout",
     "output_type": "stream",
     "text": [
      "p_val =  2.7594123430674244e-08\n",
      "p_val =  2.7594123269945478e-08\n",
      "As this value is lower than 0.05, we can reject the hypothesis that the slope is 0.\n"
     ]
    }
   ],
   "source": [
    "#5.Test the adequacy of the model\n",
    "#5.1.Could the Slope ß = 0?  Calculate the P-value for that\n",
    "\n",
    "#We make a hypothesis to check that:\n",
    "# H0 : ß = 0\n",
    "# H1 : ß != 0\n",
    "\n",
    "#We calculate the p-value:\n",
    "SSE = sum(e**2) #sum of square error\n",
    "s2  = SSE/(n-2) # the Estimated variance of the error \n",
    "Sxx = sum((U-U.mean())**2) \n",
    "t0=beta/np.sqrt(s2/Sxx)   \n",
    "p_val = 2*(1-stats.t.cdf(abs(t0), df=n-2)) \n",
    "print('p_val = ', p_val)\n",
    "\n",
    "\n",
    "#Another way of calculating the p-value: \n",
    "p_val = 2*stats.t.cdf(0, df=n-2, loc=beta, scale=np.sqrt(s2/Sxx))  \n",
    "# the function can also take care of the scale and location \n",
    "print('p_val = ', p_val) # same value as before. \n",
    "\n",
    "print('As this value is lower than 0.05, we can reject the hypothesis that the slope is 0.') "
   ]
  },
  {
   "cell_type": "code",
   "execution_count": 23,
   "metadata": {},
   "outputs": [
    {
     "name": "stdout",
     "output_type": "stream",
     "text": [
      "r =  0.9284347053334747\n",
      "r =  0.9284347053334747\n",
      "r =  0.9284347053334748\n",
      "R^2 =  0.8619910020676562\n"
     ]
    }
   ],
   "source": [
    "#5.2.Calculate the correlation coefficient r, and the coefficient of determination R**2. Discuss the result.\n",
    "\n",
    "#There are 3 ways of calculating r\n",
    "\n",
    "#1 using covariance and variance of X and Y ( U and I in this case)\n",
    "r = np.cov(U,I)[0,1]/np.sqrt(U.var(ddof=1)*I.var(ddof=1)) \n",
    "print('r = ', r) \n",
    "\n",
    "#2 using SSr and SSt\n",
    "SSE = sum(e**2) \n",
    "SSR = sum((I_pred-I.mean())**2) \n",
    "SST=SSR+SSE  # or,   SST=sum((I-I.mean())**2) r = np.sqrt(SSR/SST) \n",
    "print('r = ', r) \n",
    "\n",
    "#3 using SSe and SSt\n",
    "r = np.sqrt(1-SSE/SST) \n",
    "print('r = ', r) \n",
    "\n",
    "#the coefficient of determination R**2 is r**2\n",
    "print('R^2 = ', r**2)   "
   ]
  },
  {
   "cell_type": "markdown",
   "metadata": {},
   "source": [
    "I think the discussion would be:\n",
    "r is bigger than 0.8 so there is a high correlation, if it is bigger than 0.6 it would be just a good correlation"
   ]
  },
  {
   "cell_type": "code",
   "execution_count": 24,
   "metadata": {},
   "outputs": [
    {
     "name": "stdout",
     "output_type": "stream",
     "text": [
      "beta_low =  0.006981702859402251 \n",
      "beta_high =  0.010739705022630577\n",
      "alfa_low =  -0.0017895211113095472 \n",
      "alfa_high =  0.16979619187405876\n"
     ]
    }
   ],
   "source": [
    "#6.Calculate the confidence interval for the slope, ß and the intersection,α.\n",
    "\n",
    "s  = np.sqrt(s2)  # estimated standard deviation \n",
    "t0 = stats.t.ppf(0.975,n-2) \n",
    "beta_low = beta-t0*s/np.sqrt(Sxx) \n",
    "beta_high = beta+t0*s/np.sqrt(Sxx) \n",
    "print('beta_low = ', beta_low, '\\nbeta_high = ', beta_high)   \n",
    "alfa_low  = alfa-t0*s* np.sqrt(1/n + U.mean()**2/Sxx) \n",
    "alfa_high = alfa+t0*s* np.sqrt(1/n + U.mean()**2/Sxx) \n",
    "print('alfa_low = ', alfa_low, '\\nalfa_high = ', alfa_high) "
   ]
  },
  {
   "cell_type": "code",
   "execution_count": 26,
   "metadata": {},
   "outputs": [
    {
     "data": {
      "image/png": "[encoded data removed]",
      "text/plain": [
       "<Figure size 432x288 with 1 Axes>"
      ]
     },
     "metadata": {
      "needs_background": "light"
     },
     "output_type": "display_data"
    }
   ],
   "source": [
    "# I plot the 3 slopes, to see what they look like.  \n",
    "plt.plot(U, alfa+beta_low*U, label = 'beta_low') \n",
    "plt.plot(U, alfa+beta*U, label = 'beta') \n",
    "plt.plot(U, alfa+beta_high*U, label = 'beta_high') \n",
    "plt.legend(loc=0) \n",
    "plt.show()   "
   ]
  },
  {
   "cell_type": "markdown",
   "metadata": {},
   "source": [
    "# Assignment 2"
   ]
  },
  {
   "cell_type": "markdown",
   "metadata": {},
   "source": [
    "Number: is mortality of boys under 1 year in Denmark from 1901 to 1991. \n",
    "It is given in the following table: "
   ]
  },
  {
   "cell_type": "markdown",
   "metadata": {},
   "source": [
    "a) Plot the data from the table, and draw the best straight line through the points, by determining the intersection with the y-axis and the slope of the linear model. "
   ]
  },
  {
   "cell_type": "code",
   "execution_count": 30,
   "metadata": {},
   "outputs": [
    {
     "data": {
      "image/png": "[encoded data removed]",
      "text/plain": [
       "<Figure size 432x288 with 1 Axes>"
      ]
     },
     "metadata": {
      "needs_background": "light"
     },
     "output_type": "display_data"
    }
   ],
   "source": [
    "#Number of mortality\n",
    "# Year\n",
    "Year= np.array([1901,1911,1921,1931,1941,1951,1961,1971,1981,1991])\n",
    "Death = np.array([5562,4357,3471,3078,2309,1285,969,602,238,268])\n",
    "plt.plot(Year,Death,'*')   # the plot plots x, y respectively. In this case year is x and death is y \n",
    "plt.show()"
   ]
  },
  {
   "cell_type": "code",
   "execution_count": 31,
   "metadata": {},
   "outputs": [
    {
     "name": "stdout",
     "output_type": "stream",
     "text": [
      "beta1 =  -59.5\n",
      "beta2 =  -59.500000000000455\n",
      "beta3 =  -59.5\n",
      "alfa =  118000.9\n"
     ]
    }
   ],
   "source": [
    "#These are 3 different ways of calculating beta:\n",
    "beta = sum((Year-Year.mean())*(Death-Death.mean()))/sum((Year-Year.mean())**2) \n",
    "print('beta1 = ', beta)   \n",
    "beta = sum((Year*Death-Year.mean()*Death.mean()))/sum((Year-Year.mean())**2) \n",
    "print('beta2 = ', beta) \n",
    "beta = np.cov(Year,Death)[0,1]/np.var(Year, ddof=1) \n",
    "print('beta3 = ', beta) \n",
    "\n",
    "#Claulating alfa:\n",
    "alfa = Death.mean()-beta*Year.mean() \n",
    "print('alfa = ', alfa)   "
   ]
  },
  {
   "cell_type": "code",
   "execution_count": 32,
   "metadata": {},
   "outputs": [
    {
     "data": {
      "text/plain": [
       "<matplotlib.legend.Legend at 0x1cea901beb8>"
      ]
     },
     "execution_count": 32,
     "metadata": {},
     "output_type": "execute_result"
    },
    {
     "data": {
      "image/png": "[encoded data removed]",
      "text/plain": [
       "<Figure size 432x288 with 1 Axes>"
      ]
     },
     "metadata": {
      "needs_background": "light"
     },
     "output_type": "display_data"
    }
   ],
   "source": [
    "# I plot the line, together with the data, to see if it makes sense. \n",
    "Death_pred = alfa + beta*Year # predicts the current, I based on alfa and beta \n",
    "plt.plot(Year,Death, '*', label='Measurements') \n",
    "plt.plot(Year,Death_pred, label='Linear regression') \n",
    "plt.legend(loc=0) # show the labels in the top left corner plt.show() "
   ]
  },
  {
   "cell_type": "code",
   "execution_count": 36,
   "metadata": {},
   "outputs": [
    {
     "data": {
      "text/plain": [
       "LinregressResult(slope=-59.5, intercept=118000.9, rvalue=-0.9731620661173196, pvalue=2.197447324421469e-06, stderr=4.974423066897789)"
      ]
     },
     "metadata": {},
     "output_type": "display_data"
    }
   ],
   "source": [
    "#We can use this to check the slope and intersection\n",
    "import IPython.display \n",
    "IPython.display.display(stats.linregress(Year, Death)) "
   ]
  },
  {
   "cell_type": "markdown",
   "metadata": {},
   "source": [
    "b) Make a residual plot, and a probability plot of the residuals."
   ]
  },
  {
   "cell_type": "code",
   "execution_count": 39,
   "metadata": {},
   "outputs": [
    {
     "data": {
      "image/png": "[encoded data removed]",
      "text/plain": [
       "<Figure size 432x288 with 1 Axes>"
      ]
     },
     "metadata": {
      "needs_background": "light"
     },
     "output_type": "display_data"
    }
   ],
   "source": [
    "#that is step 4 (4.1 is the residual and 4.2 is the probability)\n",
    "e = Death-Death_pred # calculates the residuals/error of the model \n",
    "plt.plot(Year,e, '*') \n",
    "plt.show() "
   ]
  },
  {
   "cell_type": "code",
   "execution_count": 40,
   "metadata": {},
   "outputs": [
    {
     "data": {
      "text/plain": [
       "<matplotlib.legend.Legend at 0x1ceaa504eb8>"
      ]
     },
     "execution_count": 40,
     "metadata": {},
     "output_type": "execute_result"
    },
    {
     "data": {
      "image/png": "[encoded data removed]",
      "text/plain": [
       "<Figure size 432x288 with 1 Axes>"
      ]
     },
     "metadata": {
      "needs_background": "light"
     },
     "output_type": "display_data"
    }
   ],
   "source": [
    "#probability plot:\n",
    "n=len(Year)   #number of samples\n",
    "e_sort=np.sort(e)    #the observations are ranked from smallest to largest\n",
    "j = np.arange(1,n+1) #j is the numbering of/for the errors from 1 to n\n",
    "ocf = (j-0.5)/n       #observed cumulative frequency, ocf = (j-0.5)/n\n",
    "plt.plot(e_sort,stats.norm.ppf(ocf),'+', label = 'calculated manually')  #the ordered errors are plotted against the appropiate\n",
    "#percentile (norm.ppf,uniform.ppf, t.ppf ....) of the ocf.\n",
    "\n",
    "osm, osr =stats.probplot(e, dist=stats.norm) \n",
    "plt.plot(osm[1],osm[0],'x', label = 'python function used') \n",
    "plt.legend(loc=0) # show the labels in the top left corner plt.show() "
   ]
  },
  {
   "cell_type": "markdown",
   "metadata": {},
   "source": [
    "c) Calculate a 95% confidence interval for the slope. "
   ]
  },
  {
   "cell_type": "code",
   "execution_count": 41,
   "metadata": {},
   "outputs": [
    {
     "name": "stdout",
     "output_type": "stream",
     "text": [
      "beta_low =  -70.97104016167215 \n",
      "beta_high =  -48.02895983832876\n"
     ]
    }
   ],
   "source": [
    "SSE = sum(e**2) #sum of square error\n",
    "s2  = SSE/(n-2) # the Estimated variance of the error \n",
    "Sxx = sum((Year-Year.mean())**2) \n",
    "\n",
    "s  = np.sqrt(s2)  # estimated standard deviation \n",
    "t0 = stats.t.ppf(0.975,n-2) \n",
    "beta_low = beta-t0*s/np.sqrt(Sxx) \n",
    "beta_high = beta+t0*s/np.sqrt(Sxx) \n",
    "print('beta_low = ', beta_low, '\\nbeta_high = ', beta_high)   "
   ]
  },
  {
   "cell_type": "markdown",
   "metadata": {},
   "source": [
    "d) Based on your answers in b) and c), would you conclude that the assumption of linearity between mortality and year is reasonable? "
   ]
  },
  {
   "cell_type": "code",
   "execution_count": 44,
   "metadata": {},
   "outputs": [
    {
     "name": "stdout",
     "output_type": "stream",
     "text": [
      "There is a linear tendency as a slope of 0, is not included in the 95% confidence interval - however more datapoint should be included to make a better model. The residual from 1920 to 1970 is all below zero, meaning that the error is not very normal distributed. Further more we don not expect that this \"linear\" tendency can continue, as it cannot become negative in the future (negative number of death makes no sense)\n"
     ]
    }
   ],
   "source": [
    "print('There is a linear tendency as a slope of 0, is not included in the 95% confidence interval - however more datapoint should be included to make a better model. The residual from 1920 to 1970 is all below zero, meaning that the error is not very normal distributed. Further more we don not expect that this \\\"linear\\\" tendency can continue, as it cannot become negative in the future (negative number of death makes no sense)' ) "
   ]
  },
  {
   "cell_type": "markdown",
   "metadata": {},
   "source": [
    "e) What do you think the mortality of boys were in 1966?"
   ]
  },
  {
   "cell_type": "code",
   "execution_count": 47,
   "metadata": {},
   "outputs": [
    {
     "name": "stdout",
     "output_type": "stream",
     "text": [
      "The regression model estimates that the mortality of boys in 1966 is = 1023.8999999999942\n"
     ]
    }
   ],
   "source": [
    "#y hat =  alfa + (beta * x) -- x in this case is the year.\n",
    "print('The regression model estimates that the mortality of boys in 1966 is =',alfa+1966*beta) # 1023.8 "
   ]
  },
  {
   "cell_type": "markdown",
   "metadata": {},
   "source": [
    "# Assignment 3"
   ]
  },
  {
   "cell_type": "markdown",
   "metadata": {},
   "source": [
    "The average age for 1st time married men in Denmark is given by the following table:"
   ]
  },
  {
   "cell_type": "code",
   "execution_count": 49,
   "metadata": {},
   "outputs": [],
   "source": [
    "Age   = np.array([25.2,26.5,27.9,29.2,30.2,31.7,32.8,34.0,34.3]) \n",
    "Year  = np.array([1971,1976,1981,1986,1991,1996,2001,2006,2011]) "
   ]
  },
  {
   "cell_type": "markdown",
   "metadata": {},
   "source": [
    "a) Plot data from the table. Use linear regression to determine a model for the data. \n",
    "State how the parameters of the model have been calculated (state also the formulas used for the calculation).\n",
    "Draw also the linear model on the plot. \n"
   ]
  },
  {
   "cell_type": "code",
   "execution_count": 50,
   "metadata": {},
   "outputs": [
    {
     "data": {
      "image/png": "[encoded data removed]",
      "text/plain": [
       "<Figure size 432x288 with 1 Axes>"
      ]
     },
     "metadata": {
      "needs_background": "light"
     },
     "output_type": "display_data"
    }
   ],
   "source": [
    "#Year is going to be X (because you can put a year)\n",
    "#Marriage age is Y because is what you can to know.\n",
    "\n",
    "#Plotting the data:\n",
    "plt.plot(Year,Age,'*')   # the plot plots x, y respectively. In this case year is x and death is y \n",
    "plt.show()"
   ]
  },
  {
   "cell_type": "code",
   "execution_count": 54,
   "metadata": {},
   "outputs": [
    {
     "name": "stdout",
     "output_type": "stream",
     "text": [
      "beta1 =  0.23733333333333329\n",
      "alfa =  -442.33066666666656\n"
     ]
    },
    {
     "data": {
      "text/plain": [
       "<matplotlib.legend.Legend at 0x1ceaa683b00>"
      ]
     },
     "execution_count": 54,
     "metadata": {},
     "output_type": "execute_result"
    },
    {
     "data": {
      "image/png": "[encoded data removed]",
      "text/plain": [
       "<Figure size 432x288 with 1 Axes>"
      ]
     },
     "metadata": {
      "needs_background": "light"
     },
     "output_type": "display_data"
    }
   ],
   "source": [
    "#calculating beta:\n",
    "beta = sum((Year-Year.mean())*(Age-Age.mean()))/sum((Year-Year.mean())**2) \n",
    "print('beta1 = ', beta)   \n",
    "\n",
    "#Claulating alfa:\n",
    "alfa = Age.mean()-beta*Year.mean() \n",
    "print('alfa = ', alfa)   \n",
    "\n",
    "# I plot the line, together with the data, to see if it makes sense. \n",
    "Age_pred = alfa + beta*Year # predicts the current, I based on alfa and beta \n",
    "plt.plot(Year,Age, '*', label='Measurements') \n",
    "plt.plot(Year,Age_pred, label='Linear regression') \n",
    "plt.legend(loc=0) # show the labels in the top left corner plt.show() "
   ]
  },
  {
   "cell_type": "code",
   "execution_count": 55,
   "metadata": {},
   "outputs": [
    {
     "data": {
      "text/plain": [
       "LinregressResult(slope=0.2373333333333333, intercept=-442.3306666666666, rvalue=0.9955948648880211, pvalue=1.8600855077502336e-08, stderr=0.008447785471061538)"
      ]
     },
     "metadata": {},
     "output_type": "display_data"
    }
   ],
   "source": [
    "#We can use this to check the slope and intersection\n",
    "import IPython.display \n",
    "IPython.display.display(stats.linregress(Year, Age)) "
   ]
  },
  {
   "cell_type": "markdown",
   "metadata": {},
   "source": [
    "b) Plot the residuals and a probability plot of the residuals. Discuss what the plots tells you. "
   ]
  },
  {
   "cell_type": "code",
   "execution_count": 58,
   "metadata": {},
   "outputs": [
    {
     "data": {
      "image/png": "[encoded data removed]",
      "text/plain": [
       "<Figure size 432x288 with 1 Axes>"
      ]
     },
     "metadata": {
      "needs_background": "light"
     },
     "output_type": "display_data"
    },
    {
     "name": "stdout",
     "output_type": "stream",
     "text": [
      "The error does seem to vary with time, as there are only positive errors from 1981 to 2006. It means that the error is not independent of time. \n"
     ]
    }
   ],
   "source": [
    "#that is step 4 (4.1 is the residual and 4.2 is the probability)\n",
    "e = Age-Age_pred # calculates the residuals/error of the model \n",
    "plt.plot(Year,e, '*') \n",
    "plt.show() \n",
    "print('The error does seem to vary with time, as there are only positive errors from 1981 to 2006. It means that the error is not independent of time. ') "
   ]
  },
  {
   "cell_type": "code",
   "execution_count": 60,
   "metadata": {},
   "outputs": [
    {
     "name": "stdout",
     "output_type": "stream",
     "text": [
      "The error does not seem to be normal distributed as the probability plot does not show a straight line\n"
     ]
    },
    {
     "data": {
      "image/png": "[encoded data removed]",
      "text/plain": [
       "<Figure size 432x288 with 1 Axes>"
      ]
     },
     "metadata": {
      "needs_background": "light"
     },
     "output_type": "display_data"
    }
   ],
   "source": [
    "#probability plot:\n",
    "n=len(Year)   #number of samples\n",
    "e_sort=np.sort(e)    #the observations are ranked from smallest to largest\n",
    "j = np.arange(1,n+1) #j is the numbering of/for the errors from 1 to n\n",
    "ocf = (j-0.5)/n       #observed cumulative frequency, ocf = (j-0.5)/n\n",
    "plt.plot(e_sort,stats.norm.ppf(ocf),'+', label = 'calculated manually')  #the ordered errors are plotted against the appropiate\n",
    "#percentile (norm.ppf,uniform.ppf, t.ppf ....) of the ocf.\n",
    "\n",
    "osm, osr =stats.probplot(e, dist=stats.norm) \n",
    "plt.plot(osm[1],osm[0],'x', label = 'python function used') \n",
    "plt.legend(loc=0) # show the labels in the top left corner plt.show()\n",
    "print('The error does not seem to be normal distributed as the probability plot does not show a straight line') "
   ]
  },
  {
   "cell_type": "markdown",
   "metadata": {},
   "source": [
    "c) Calculate a 95% confidence interval for the slope and the interception. What does the slope interval tell you?  \n"
   ]
  },
  {
   "cell_type": "code",
   "execution_count": 62,
   "metadata": {},
   "outputs": [
    {
     "name": "stdout",
     "output_type": "stream",
     "text": [
      "beta_low =  0.21735749494112855 \n",
      "beta_high =  0.257309171725538\n",
      "alfa_low =  -482.10339698575837 \n",
      "alfa_high =  -402.55793634757475\n"
     ]
    }
   ],
   "source": [
    "SSE = sum(e**2) #sum of square error\n",
    "s2  = SSE/(n-2) # the Estimated variance of the error \n",
    "Sxx = sum((Year-Year.mean())**2) \n",
    "\n",
    "s  = np.sqrt(s2)  # estimated standard deviation \n",
    "t0 = stats.t.ppf(0.975,n-2) \n",
    "beta_low = beta-t0*s/np.sqrt(Sxx) \n",
    "beta_high = beta+t0*s/np.sqrt(Sxx) \n",
    "print('beta_low = ', beta_low, '\\nbeta_high = ', beta_high)   \n",
    "alfa_low  = alfa-t0*s* np.sqrt(1/n + Year.mean()**2/Sxx) \n",
    "alfa_high = alfa+t0*s* np.sqrt(1/n + Year.mean()**2/Sxx) \n",
    "print('alfa_low = ', alfa_low, '\\nalfa_high = ', alfa_high) "
   ]
  },
  {
   "cell_type": "code",
   "execution_count": 69,
   "metadata": {},
   "outputs": [
    {
     "name": "stdout",
     "output_type": "stream",
     "text": [
      "As the slope=0, is not inside the slope interval, it can be rejected that there is no tendency between the year and marrige age.\n"
     ]
    }
   ],
   "source": [
    "print('As the slope=0, is not inside the slope interval, it can be rejected that there is no tendency between the year and marrige age.') \n",
    "#That means the is a tendency between the year and marriage age."
   ]
  },
  {
   "cell_type": "markdown",
   "metadata": {},
   "source": [
    "d) What do you think the average age for 1st time married men, was in 2003?"
   ]
  },
  {
   "cell_type": "code",
   "execution_count": 72,
   "metadata": {},
   "outputs": [
    {
     "name": "stdout",
     "output_type": "stream",
     "text": [
      "33.048\n"
     ]
    }
   ],
   "source": [
    "print(alfa+beta*2003) "
   ]
  },
  {
   "cell_type": "markdown",
   "metadata": {},
   "source": [
    "# Assignment 4"
   ]
  },
  {
   "cell_type": "markdown",
   "metadata": {},
   "source": [
    "The number of patients who died of AIDS in DK between 1985 – 1994 are stated in the table. \n",
    "The number of deaths are given by ”Number” and the year is given by “Year”. "
   ]
  },
  {
   "cell_type": "markdown",
   "metadata": {},
   "source": [
    "a) What is the empirical mean value and the empirical variance for the number of dead AIDS patients? \n",
    "\n",
    "b) Plot the data from the table. Use linear regression to determine a model for the data, state how the parameters of the model are calculated (the slope of the linear model and the intersection with the y-axis). Draw also the linear model on the plot.\n",
    "\n",
    "c) Make a residual drawing for the model from 2) on a graph. State also how the residuals are calculated. \n",
    "\n",
    "d) Calculate a 95% confidence interval for the slope.  \n",
    "\n",
    "e) What is the Coefficient of Determination (𝑅**2). What does this value tell about the model? \n",
    "\n",
    "f) How many are going to die from AIDS in 2020 according to your model? "
   ]
  },
  {
   "cell_type": "code",
   "execution_count": 73,
   "metadata": {},
   "outputs": [
    {
     "name": "stdout",
     "output_type": "stream",
     "text": [
      "Emperical (sample) mean =  125.1\n",
      "Emperical (sample) var =  6111.433333333334\n"
     ]
    }
   ],
   "source": [
    "Death = np.array([28,46,44,63,104,148,172,187,223,236]) \n",
    "Year  = np.array([1985,1986,1987,1988,1989,1990,1991,1992,1993,1994]) \n",
    "#a) \n",
    "print('Emperical (sample) mean = ', Death.mean()) # =  125.1 \n",
    "print('Emperical (sample) var = ', Death.var(ddof=1)) # =  6111.4 "
   ]
  },
  {
   "cell_type": "code",
   "execution_count": 76,
   "metadata": {},
   "outputs": [
    {
     "name": "stdout",
     "output_type": "stream",
     "text": [
      "slope, beta =  25.436363636367165\n",
      "intersection, alfa =  -50480.54545455248\n"
     ]
    },
    {
     "data": {
      "image/png": "[encoded data removed]",
      "text/plain": [
       "<Figure size 432x288 with 1 Axes>"
      ]
     },
     "metadata": {
      "needs_background": "light"
     },
     "output_type": "display_data"
    },
    {
     "data": {
      "text/plain": [
       "LinregressResult(slope=25.436363636363637, intercept=-50480.545454545456, rvalue=0.9851201565098828, pvalue=2.1066656157853373e-07, stderr=1.5689655485580252)"
      ]
     },
     "metadata": {},
     "output_type": "display_data"
    }
   ],
   "source": [
    "#b) \n",
    "plt.plot(Year,Death, '*') \n",
    "beta = sum(Year*Death-Year.mean()*Death.mean())/sum((Year-Year.mean())**2) \n",
    "alfa = Death.mean()-beta*Year.mean() \n",
    "print('slope, beta = ', beta) \n",
    "print('intersection, alfa = ',alfa)   \n",
    "Death_estimated = Year*beta+alfa \n",
    "plt.plot(Year,Death_estimated) \n",
    "plt.show()   \n",
    "#can also be calculated using the linregress-method: \n",
    "import IPython.display \n",
    "IPython.display.display(stats.linregress(Year, Death)) "
   ]
  },
  {
   "cell_type": "code",
   "execution_count": 77,
   "metadata": {},
   "outputs": [
    {
     "data": {
      "image/png": "[encoded data removed]",
      "text/plain": [
       "<Figure size 432x288 with 1 Axes>"
      ]
     },
     "metadata": {
      "needs_background": "light"
     },
     "output_type": "display_data"
    },
    {
     "name": "stdout",
     "output_type": "stream",
     "text": [
      "The error seems random and independet of time.  \n"
     ]
    }
   ],
   "source": [
    "#c) \n",
    "error = Death-Death_estimated \n",
    "plt.plot(Year,error,'*') \n",
    "plt.show() \n",
    "print('The error seems random and independet of time.  ') "
   ]
  },
  {
   "cell_type": "code",
   "execution_count": 81,
   "metadata": {},
   "outputs": [
    {
     "name": "stdout",
     "output_type": "stream",
     "text": [
      "95% confidence interval:\n",
      "Beta_low =  21.818322593667386\n",
      "Beta_high =  29.054404679066945\n",
      "As the slope=0, is not inside the slope interval, it can be rejected that the variables are independent. The variables are dependent.\n"
     ]
    }
   ],
   "source": [
    "#d ) \n",
    "s2_r = sum(error**2)/(len(Year)-2) \n",
    "Sxx = sum((Year-Year.mean())**2) \n",
    "Beta_low = beta+stats.t.ppf(0.025, df=len(Year)-2)*np.sqrt(s2_r)/np.sqrt(Sxx) \n",
    "Beta_high = beta+stats.t.ppf(0.975, df=len(Year)-2)*np.sqrt(s2_r)/np.sqrt(Sxx) \n",
    "print('95% confidence interval:') \n",
    "print('Beta_low = ',Beta_low) \n",
    "print('Beta_high = ',Beta_high) \n",
    "print('As the slope=0, is not inside the slope interval, it can be rejected that the variables are independent. The variables are dependent.') "
   ]
  },
  {
   "cell_type": "code",
   "execution_count": 84,
   "metadata": {},
   "outputs": [
    {
     "name": "stdout",
     "output_type": "stream",
     "text": [
      "0.9851201565098826\n",
      "R2 =  0.9704617227620556\n"
     ]
    }
   ],
   "source": [
    "#e) \n",
    "r_xy =  np.cov(Year, Death)[0,1]/(Death.std(ddof=1)*Year.std(ddof=1)) \n",
    "print(r_xy)\n",
    "print('R2 = ',r_xy**2) "
   ]
  },
  {
   "cell_type": "code",
   "execution_count": 83,
   "metadata": {},
   "outputs": [
    {
     "name": "stdout",
     "output_type": "stream",
     "text": [
      "It seems like the model is a good fit, on the sample, since R2 is close to 1. \n"
     ]
    }
   ],
   "source": [
    "# R2 =  0.97 \n",
    "print('It seems like the model is a good fit, on the sample, since R2 is close to 1. ') "
   ]
  },
  {
   "cell_type": "code",
   "execution_count": 85,
   "metadata": {},
   "outputs": [
    {
     "name": "stdout",
     "output_type": "stream",
     "text": [
      "The model indicate that  900.9090909091974  will die from AIDS in 2020\n"
     ]
    }
   ],
   "source": [
    "#f) \n",
    "print('The model indicate that ',alfa+beta*2020, ' will die from AIDS in 2020') # 900.9   "
   ]
  },
  {
   "cell_type": "markdown",
   "metadata": {},
   "source": [
    "# Assignment 5"
   ]
  },
  {
   "cell_type": "markdown",
   "metadata": {},
   "source": [
    "a strain gauge needs to be calibrated and for this purpose the following measurements are measured. Make a full linear regression analysis.  "
   ]
  },
  {
   "cell_type": "code",
   "execution_count": 86,
   "metadata": {},
   "outputs": [],
   "source": [
    "#The same as assignment 1"
   ]
  },
  {
   "cell_type": "code",
   "execution_count": 87,
   "metadata": {},
   "outputs": [
    {
     "data": {
      "image/png": "[encoded data removed]",
      "text/plain": [
       "<Figure size 432x288 with 1 Axes>"
      ]
     },
     "metadata": {
      "needs_background": "light"
     },
     "output_type": "display_data"
    }
   ],
   "source": [
    "Weight = np.arange(10,110,10) \n",
    "Voltage = np.array([3.11,5.68,9.41,11.58,15.42,18.18,20.87,24.25,26.58,30.42]) \n",
    "#1) \n",
    "plt.plot(Weight, Voltage,'*') \n",
    "plt.show() "
   ]
  },
  {
   "cell_type": "code",
   "execution_count": 89,
   "metadata": {},
   "outputs": [],
   "source": [
    "#2) print('There is no outliers. ')   "
   ]
  },
  {
   "cell_type": "code",
   "execution_count": 91,
   "metadata": {},
   "outputs": [
    {
     "name": "stdout",
     "output_type": "stream",
     "text": [
      "alfa =  -0.014000000000002899 \n",
      "beta =  0.3011636363636364\n"
     ]
    },
    {
     "data": {
      "image/png": "[encoded data removed]",
      "text/plain": [
       "<Figure size 432x288 with 1 Axes>"
      ]
     },
     "metadata": {
      "needs_background": "light"
     },
     "output_type": "display_data"
    }
   ],
   "source": [
    "#3) \n",
    "beta = np.cov(Weight,Voltage)[0,1]/Weight.var(ddof=1) \n",
    "alfa = Voltage.mean()-beta*Weight.mean() \n",
    "print('alfa = ', alfa, '\\nbeta = ', beta)   \n",
    "Voltage_estimated = alfa+beta*Weight \n",
    "plt.plot(Weight, Voltage_estimated) \n",
    "plt.plot(Weight, Voltage,'*') \n",
    "plt.show()"
   ]
  },
  {
   "cell_type": "code",
   "execution_count": 92,
   "metadata": {},
   "outputs": [
    {
     "data": {
      "image/png": "[encoded data removed]",
      "text/plain": [
       "<Figure size 432x288 with 1 Axes>"
      ]
     },
     "metadata": {
      "needs_background": "light"
     },
     "output_type": "display_data"
    },
    {
     "name": "stdout",
     "output_type": "stream",
     "text": [
      "The error seams independent of the weight\n"
     ]
    }
   ],
   "source": [
    "#4.1) \n",
    "error = Voltage-Voltage_estimated \n",
    "plt.plot(Weight, error, '*') \n",
    "plt.show() \n",
    "print('The error seams independent of the weight')  "
   ]
  },
  {
   "cell_type": "code",
   "execution_count": 93,
   "metadata": {},
   "outputs": [
    {
     "data": {
      "image/png": "[encoded data removed]",
      "text/plain": [
       "<Figure size 432x288 with 1 Axes>"
      ]
     },
     "metadata": {
      "needs_background": "light"
     },
     "output_type": "display_data"
    }
   ],
   "source": [
    "#4.2) \n",
    "osm , osr= stats.probplot(error, dist=stats.norm)   \n",
    "plt.plot(osm[1], osm[0], '*') \n",
    "plt.show()"
   ]
  },
  {
   "cell_type": "code",
   "execution_count": 96,
   "metadata": {},
   "outputs": [
    {
     "name": "stdout",
     "output_type": "stream",
     "text": [
      "p_val =  2.352914273828276e-15\n",
      "p_val =  2.352914273828276e-15\n"
     ]
    }
   ],
   "source": [
    "#5.1) \n",
    "SSe = sum(error**2) \n",
    "Sxx = sum(Weight**2) \n",
    "se_beta = np.sqrt(error.var(ddof=2)/Sxx)   #standard error\n",
    "t=beta/se_beta \n",
    "prob = stats.t.sf(t, df=10-2 ) \n",
    "print('p_val = ', 2*prob)   \n",
    "\n",
    "# OR \n",
    "var_e = SSe/(len(Weight)-2) \n",
    "se_beta = np.sqrt(var_e/Sxx) \n",
    "t=beta/se_beta \n",
    "prob = stats.t.sf(t, df=10-2 ) \n",
    "print('p_val = ', 2*prob) "
   ]
  },
  {
   "cell_type": "code",
   "execution_count": 97,
   "metadata": {},
   "outputs": [
    {
     "name": "stdout",
     "output_type": "stream",
     "text": [
      "r_xy =  0.9992898990851429\n",
      "R^2 =  0.9985803024135951\n",
      "Because this is bigger than 0.8 there is a high correlation\n"
     ]
    }
   ],
   "source": [
    "#5.2) \n",
    "r_xy = np.cov(Weight, Voltage)[0,1]/(Weight.std(ddof=1)*Voltage.std(ddof=1)) \n",
    "print('r_xy = ', r_xy) \n",
    "print('R^2 = ', r_xy**2) \n",
    "print('Because this is bigger than 0.8 there is a high correlation') "
   ]
  },
  {
   "cell_type": "code",
   "execution_count": 100,
   "metadata": {},
   "outputs": [
    {
     "name": "stdout",
     "output_type": "stream",
     "text": [
      "beta_low =  0.296877947342169\n",
      "beta_high =  0.30544932538510383\n",
      "alfa_low =  -0.2818127035224022\n",
      "alfa_high =  0.2538127035223963\n"
     ]
    }
   ],
   "source": [
    "#6) \n",
    "beta_low = beta+stats.t.ppf(0.025,df=len(error)-2)*error.std(ddof=2)/np.sqrt(Sxx) \n",
    "print('beta_low = ', beta_low) \n",
    "beta_high = beta+stats.t.ppf(0.975,df=len(error)-2)*np.sqrt(var_e/Sxx) \n",
    "print('beta_high = ', beta_high)   \n",
    "\n",
    "alfa_low = alfa+stats.t.ppf(0.025,df=len(error)-2)*np.sqrt(var_e*(1/len(error) + Weight.mean()/Sxx)) \n",
    "print('alfa_low = ', alfa_low) \n",
    "alfa_high = alfa+stats.t.ppf(0.975,df=len(error)-2)*np.sqrt(var_e*(1/len(error) + Weight.mean()/Sxx)) \n",
    "print('alfa_high = ', alfa_high)"
   ]
  }
 ],
 "metadata": {
  "kernelspec": {
   "display_name": "Python 3",
   "language": "python",
   "name": "python3"
  },
  "language_info": {
   "codemirror_mode": {
    "name": "ipython",
    "version": 3
   },
   "file_extension": ".py",
   "mimetype": "text/x-python",
   "name": "python",
   "nbconvert_exporter": "python",
   "pygments_lexer": "ipython3",
   "version": "3.7.3"
  }
 },
 "nbformat": 4,
 "nbformat_minor": 2
}
