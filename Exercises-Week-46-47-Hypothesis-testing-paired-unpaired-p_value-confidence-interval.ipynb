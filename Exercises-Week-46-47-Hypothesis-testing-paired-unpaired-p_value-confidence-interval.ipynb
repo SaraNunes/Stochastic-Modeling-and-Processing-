{
 "cells": [
  {
   "cell_type": "code",
   "execution_count": 1,
   "metadata": {},
   "outputs": [],
   "source": [
    "from scipy.stats import binom\n",
    "from scipy.stats import geom\n",
    "from scipy.stats import hypergeom\n",
    "from scipy.stats import poisson\n",
    "from scipy.stats import nbinom\n",
    "from scipy.stats import expon\n",
    "from scipy.stats import norm\n",
    "from scipy import stats\n",
    "import pandas as pd\n",
    "import sympy as sp\n",
    "from sympy import *\n",
    "sp.init_printing()\n",
    "import matplotlib.pyplot as plt\n",
    "import scipy.integrate as integrate\n",
    "import scipy.special as special\n",
    "from scipy.integrate import quad\n",
    "import numpy as np\n",
    "from scipy.misc import derivative\n",
    "import math\n",
    "from math import *\n",
    "from fractions import Fraction\n",
    "import fractions\n",
    "from IPython.display import display, Math, Latex\n",
    "from sympy.abc import x\n",
    "from sympy import Poly\n",
    "from sympy.solvers.inequalities import solve_rational_inequalities\n",
    "%matplotlib inline "
   ]
  },
  {
   "cell_type": "markdown",
   "metadata": {},
   "source": [
    "# Assignment 1"
   ]
  },
  {
   "cell_type": "markdown",
   "metadata": {},
   "source": [
    "We measure the height of students in a class; the class consists of 19 women and 35 men. The heights are assumed to be Gaussian distributed. \n",
    "The mean value for women in the class is (sample mean) 𝜇𝑤 ̂  = 1.68 𝑚, with an estimated variance of 𝑠**2 = 0.1 𝑚2 \n",
    "\n",
    "The mean value for men in the class is 𝜇𝑚 = 1.78 with an estimated variance of s**2 = 0.2 m2\n",
    "\n",
    "a) Set up a hypothesis test, to determine whether the mean value for men and woman are the same"
   ]
  },
  {
   "cell_type": "code",
   "execution_count": 2,
   "metadata": {},
   "outputs": [
    {
     "name": "stdout",
     "output_type": "stream",
     "text": [
      "H0: Diff = 0 \n",
      "H1: Diff != 0\n"
     ]
    }
   ],
   "source": [
    "print('H0: Diff = 0 \\nH1: Diff != 0')"
   ]
  },
  {
   "cell_type": "code",
   "execution_count": 7,
   "metadata": {},
   "outputs": [
    {
     "name": "stdout",
     "output_type": "stream",
     "text": [
      "It is unpaired because the sample size is different and the measures of the women dont correspond to the measures of the men\n",
      "A t-test is used because the variances are estimated\n"
     ]
    }
   ],
   "source": [
    "#b) State which statistic test, you would use to reject your null-hypothesis test\n",
    "\n",
    "#Paired or unpaired? t-test or z-test?)\n",
    "print('It is unpaired because the sample size is different and the measures of the women dont correspond to the measures of'\n",
    "     +' the men')\n",
    "print('A t-test is used because the variances are estimated')"
   ]
  },
  {
   "cell_type": "markdown",
   "metadata": {},
   "source": [
    "c) Estimate the difference in the mean values, and the standard deviation for the difference."
   ]
  },
  {
   "cell_type": "code",
   "execution_count": 8,
   "metadata": {},
   "outputs": [
    {
     "data": {
      "image/png": "[encoded data removed]",
      "text/latex": [
       "$$0.10000000000000009$$"
      ],
      "text/plain": [
       "0.10000000000000009"
      ]
     },
     "execution_count": 8,
     "metadata": {},
     "output_type": "execute_result"
    }
   ],
   "source": [
    "meanDiff = 1.78 - 1.68\n",
    "meanDiff"
   ]
  },
  {
   "cell_type": "code",
   "execution_count": 13,
   "metadata": {},
   "outputs": [
    {
     "data": {
      "image/png": "[encoded data removed]",
      "text/latex": [
       "$$0.40667507347342474$$"
      ],
      "text/plain": [
       "0.40667507347342474"
      ]
     },
     "execution_count": 13,
     "metadata": {},
     "output_type": "execute_result"
    }
   ],
   "source": [
    "#s**2 = (1/(n1+n2-2)) * ( (n1-1)*(s1**2)  +  (n2-1)*(s2**2))\n",
    "\n",
    "#s1 = standard dev 1\n",
    "#s2 = standard dev 2\n",
    "\n",
    "s2_pooled = 1/(19+35-2) * ( (19-1)*0.1 + (35-1)*0.2) \n",
    "s_pooled = sqrt(s2_pooled)\n",
    "s_pooled"
   ]
  },
  {
   "cell_type": "markdown",
   "metadata": {},
   "source": [
    "d) Calculate the p-value. Can the null-hypothesis be rejected?"
   ]
  },
  {
   "cell_type": "code",
   "execution_count": 20,
   "metadata": {},
   "outputs": [
    {
     "data": {
      "image/png": "[encoded data removed]",
      "text/latex": [
       "$$-0.86291176242591$$"
      ],
      "text/plain": [
       "-0.86291176242591"
      ]
     },
     "execution_count": 20,
     "metadata": {},
     "output_type": "execute_result"
    }
   ],
   "source": [
    "# t = (x1 - x2) / (sqrt( (s**2)*(1/n1+1/n2) )\n",
    "t=(1.68-1.78)/(s_pooled*np.sqrt(1/19+1/35)) \n",
    "t"
   ]
  },
  {
   "cell_type": "code",
   "execution_count": 23,
   "metadata": {},
   "outputs": [
    {
     "name": "stdout",
     "output_type": "stream",
     "text": [
      "P_value =  0.39214847798451213\n"
     ]
    }
   ],
   "source": [
    "#Unpaired = 2 tail test so use df = n1 + n2 -2\n",
    "prob = stats.t.cdf(t, df=19+35-2)           #in the powerpoint the teacher uses as sample size: n1 + n2 -2\n",
    "print('P_value = ',2*min(prob,1-prob)) "
   ]
  },
  {
   "cell_type": "code",
   "execution_count": 29,
   "metadata": {},
   "outputs": [
    {
     "name": "stdout",
     "output_type": "stream",
     "text": [
      "p-value =  0.39214847798451213\n",
      "As the p-value> significance level ( 0.392>0.05), we cannot reject the null hypothesis.  That means the mean value for men and women might be the same \n"
     ]
    }
   ],
   "source": [
    "prob = stats.t.cdf(1.78-1.68, df=19+35-2, loc=0, scale=s_pooled*np.sqrt(1/19+1/35)) \n",
    "print('p-value = ', 2*min(prob,1-prob))\n",
    "#p-value =  0.392 \n",
    "print('As the p-value> significance level ( 0.392>0.05), we cannot reject the null hypothesis. '\n",
    "      +' That means the mean value for men and women might be the same ') "
   ]
  },
  {
   "cell_type": "markdown",
   "metadata": {},
   "source": [
    "e) Calculate the 95% confidence interval on the difference in height between med and women. "
   ]
  },
  {
   "cell_type": "code",
   "execution_count": 31,
   "metadata": {},
   "outputs": [
    {
     "name": "stdout",
     "output_type": "stream",
     "text": [
      "The height difference between men and woman is between  -0.13254368412604697 m and  0.33254368412604707 m with 95% certainty\n"
     ]
    }
   ],
   "source": [
    "# THE CONFIDENCE INTERVAL IS TRICKY TRY TO SEARCH FOR THE MOST SIMILAR EXERCISE!! The formulas change for each distribution\n",
    "#AND df IS DIFFERENT FOR PAIRED AND UNPAIRED (PAIRED: LENGHT OF SAMPLE -1) UNPAIRED: N1 + N2-2\n",
    "diff_low = stats.t.ppf(0.025,  df=19+35-2,loc=1.78-1.68, scale=s_pooled*np.sqrt(1/19+1/35))   \n",
    "diff_high = stats.t.ppf(0.975, loc=1.78-1.68, df=19+35-2,  scale=s_pooled*np.sqrt(1/19+1/35)) \n",
    "print('The height difference between men and woman is between ', diff_low, 'm and ', diff_high, 'm with 95% certainty') "
   ]
  },
  {
   "cell_type": "markdown",
   "metadata": {},
   "source": [
    "# Assignment 2"
   ]
  },
  {
   "cell_type": "markdown",
   "metadata": {},
   "source": [
    "In a study of a recognized weight loss method, 10 patients are examined before treatment and one year after treatment. "
   ]
  },
  {
   "cell_type": "code",
   "execution_count": 32,
   "metadata": {},
   "outputs": [],
   "source": [
    "before = np.array([140,138,110,154,125,169,142,162,131,122]); \n",
    "after  = np.array([130,121,127,101, 92,170,143,170,134, 85]); "
   ]
  },
  {
   "cell_type": "markdown",
   "metadata": {},
   "source": [
    "a) Setup a NULL and an Alternative hypothesis to determine whether the treatment has changed the patient’s weights"
   ]
  },
  {
   "cell_type": "code",
   "execution_count": 33,
   "metadata": {},
   "outputs": [],
   "source": [
    "#a) #H0: The mean difference in weight =0 \n",
    "#H1: The mean difference in weight !=0 "
   ]
  },
  {
   "cell_type": "markdown",
   "metadata": {},
   "source": [
    "b) Should the test carried out be paired or unpaired? State the reason for your answer"
   ]
  },
  {
   "cell_type": "code",
   "execution_count": 34,
   "metadata": {},
   "outputs": [],
   "source": [
    "#b) #Paired, as the 2 datapoints belongs to the same patient."
   ]
  },
  {
   "cell_type": "markdown",
   "metadata": {},
   "source": [
    "c) Estimate the mean for the difference in the patient’s weights before and after the treatment."
   ]
  },
  {
   "cell_type": "code",
   "execution_count": 35,
   "metadata": {},
   "outputs": [
    {
     "name": "stdout",
     "output_type": "stream",
     "text": [
      "weight loss during the treatment =  [ 10  17 -17  53  33  -1  -1  -8  -3  37]\n",
      "mean wight loss =  12.0\n",
      "mean wight loss =  12.000000000000014\n"
     ]
    }
   ],
   "source": [
    "diff=before-after \n",
    "print('weight loss during the treatment = ',diff)   \n",
    "print('mean wight loss = ', diff.mean()) \n",
    "#Another way:\n",
    "print('mean wight loss = ', before.mean()-after.mean()) "
   ]
  },
  {
   "cell_type": "markdown",
   "metadata": {},
   "source": [
    "d) Estimate the variance for the difference in the patient’s weights before and after the treatment."
   ]
  },
  {
   "cell_type": "code",
   "execution_count": 36,
   "metadata": {},
   "outputs": [
    {
     "name": "stdout",
     "output_type": "stream",
     "text": [
      "The estimated variance of the difference =  508.8888888888889\n"
     ]
    }
   ],
   "source": [
    "print('The estimated variance of the difference = ', diff.var(ddof=1))   "
   ]
  },
  {
   "cell_type": "markdown",
   "metadata": {},
   "source": [
    "e) Test your hypothesis. Can the null-hypothesis be rejected with a significance level of 0.05? "
   ]
  },
  {
   "cell_type": "code",
   "execution_count": 38,
   "metadata": {},
   "outputs": [
    {
     "name": "stdout",
     "output_type": "stream",
     "text": [
      "p-value =  0.12683026892326343\n",
      "p-value =  0.12683026892326343\n",
      "As the p-value> significance level (0.127>0.05), we cannot reject the null hypothesis. \n",
      "The treatment might not work. so the weight is independent of the treatment \n"
     ]
    }
   ],
   "source": [
    "# a paired t-test should be performed as we dont know the true variance: \n",
    "t=diff.mean()/(diff.std(ddof=1)/np.sqrt(len(diff))) \n",
    "prob = stats.t.cdf(t, df=len(diff)-1) \n",
    "print('p-value = ', 2*min(prob,1-prob)) \n",
    "#p-value =  0.12683   \n",
    "# could also be calculated this way: \n",
    "prob = stats.t.cdf(diff.mean(), df=len(diff)-1, loc=0, scale=diff.std(ddof=1)/np.sqrt(len(diff))) \n",
    "print('p-value = ', 2*min(prob,1-prob))#p-value =  0.12683   \n",
    "print('As the p-value> significance level (0.127>0.05), we cannot reject the null hypothesis. \\nThe treatment might not work. so the weight is independent of the treatment ')   "
   ]
  },
  {
   "cell_type": "markdown",
   "metadata": {},
   "source": [
    "f) Find the confidence interval for the weight difference before and after the treatment."
   ]
  },
  {
   "cell_type": "code",
   "execution_count": 40,
   "metadata": {},
   "outputs": [
    {
     "name": "stdout",
     "output_type": "stream",
     "text": [
      "The true average weight loss due to the treatment is between  -4.137425800689016  and  28.137425800689012  with 95% certainty\n"
     ]
    }
   ],
   "source": [
    "diff_low = stats.t.ppf(0.025, df=len(diff)-1, loc=diff.mean(), scale=diff.std(ddof=1)/np.sqrt(len(diff))) \n",
    "diff_high = stats.t.ppf(0.975, df=len(diff)-1, loc=diff.mean(), scale=diff.std(ddof=1)/np.sqrt(len(diff))) \n",
    "#Answer from the teacher\n",
    "print('The true average weight loss due to the treatment is between ', diff_low, ' and ', diff_high, ' with 95% certainty') "
   ]
  },
  {
   "cell_type": "markdown",
   "metadata": {},
   "source": [
    "# Assignment 3"
   ]
  },
  {
   "cell_type": "markdown",
   "metadata": {},
   "source": [
    "In a study of the expected lifespan of cetaceans, the cause of death of individual cetaceans was registered. In the study, 10 cetaceans that died in captivity were registered and 10 cetaceans that died in the wild were registered. "
   ]
  },
  {
   "cell_type": "code",
   "execution_count": 41,
   "metadata": {},
   "outputs": [],
   "source": [
    "wild      = np.array([50,43,11,35, 7,62,70,67,25,1]) \n",
    "captivity = np.array([ 7, 2, 1, 3,15, 6,14, 1, 5,9]) "
   ]
  },
  {
   "cell_type": "markdown",
   "metadata": {},
   "source": [
    "a) Set up a NULL hypothesis and an alternative hypothesis to determine whether the mean values are the same for the two groups."
   ]
  },
  {
   "cell_type": "code",
   "execution_count": 42,
   "metadata": {},
   "outputs": [],
   "source": [
    "#a) #H0: The mean difference in lifespan is = 0 #H1: The mean difference in lifespan is !=0 "
   ]
  },
  {
   "cell_type": "markdown",
   "metadata": {},
   "source": [
    "b) Should the test carried out be paired or unpaired? State the reason for your answer. \n"
   ]
  },
  {
   "cell_type": "code",
   "execution_count": 43,
   "metadata": {},
   "outputs": [],
   "source": [
    "#b) # Unpaired, as each sample denote different whales "
   ]
  },
  {
   "cell_type": "markdown",
   "metadata": {},
   "source": [
    "c) Estimate the mean lifespan for both groups of cetaceans. "
   ]
  },
  {
   "cell_type": "code",
   "execution_count": 44,
   "metadata": {},
   "outputs": [
    {
     "name": "stdout",
     "output_type": "stream",
     "text": [
      "sample mean lifespan in the wild =  37.1  years\n",
      "sample mean lifespan in the captivity =  6.3  years\n"
     ]
    }
   ],
   "source": [
    "print('sample mean lifespan in the wild = ', wild.mean(), ' years') \n",
    "print('sample mean lifespan in the captivity = ', captivity.mean(), ' years')   #"
   ]
  },
  {
   "cell_type": "markdown",
   "metadata": {},
   "source": [
    "d) Estimate the variances for both groups and the pooled variance. \n"
   ]
  },
  {
   "cell_type": "code",
   "execution_count": 46,
   "metadata": {},
   "outputs": [
    {
     "name": "stdout",
     "output_type": "stream",
     "text": [
      "wild variance =  648.7666666666667\n",
      "variance captivity =  25.566666666666666\n",
      "pooled variance =  337.16666666666663\n"
     ]
    }
   ],
   "source": [
    "#d) \n",
    "print('wild variance = ', wild.var(ddof=1)) \n",
    "print('variance captivity = ', captivity.var(ddof=1)) \n",
    "#s**2 = (1/(n1+n2-2)) * ( (n1-1)*(s1**2)  +  (n2-1)*(s2**2))\n",
    "s2_pool = 1/(10+10-2) * ((10-1)*wild.var(ddof=1)+(10-1)*captivity.var(ddof=1)) \n",
    "print('pooled variance = ', s2_pool)"
   ]
  },
  {
   "cell_type": "markdown",
   "metadata": {},
   "source": [
    "e) Calculate the p-value. Can the NULL hypothesis be rejected with a significance level of 0.05?  "
   ]
  },
  {
   "cell_type": "code",
   "execution_count": 48,
   "metadata": {},
   "outputs": [
    {
     "name": "stdout",
     "output_type": "stream",
     "text": [
      "p-value 0.0014636288663021357\n"
     ]
    }
   ],
   "source": [
    "# t = (x1 - x2) / (sqrt( (s**2)*(1/n1+1/n2) )\n",
    "t=(wild.mean()-captivity.mean())/(np.sqrt(s2_pool)*np.sqrt(1/10+1/10)) \n",
    "prob = stats.t.cdf(t, df=10+10-2) \n",
    "print('p-value', 2*min(prob, 1-prob)) #p-value 0.00146 \n",
    "#yes as the p-value is smaller than significance level the hypothesis test can be rejected. "
   ]
  },
  {
   "cell_type": "markdown",
   "metadata": {},
   "source": [
    "f) Calculate the 95% confidence interval for the difference in the mean values."
   ]
  },
  {
   "cell_type": "code",
   "execution_count": 50,
   "metadata": {},
   "outputs": [
    {
     "name": "stdout",
     "output_type": "stream",
     "text": [
      "13.547690080280663\n",
      "48.052309919719335\n"
     ]
    }
   ],
   "source": [
    "# THE CONFIDENCE INTERVAL IS TRICKY TRY TO SEARCH FOR THE MOST SIMILAR EXERCISE!! The formulas change for each distribution\n",
    "#AND df IS DIFFERENT FOR PAIRED AND UNPAIRED (PAIRED: LENGHT OF SAMPLE -1) UNPAIRED: N1 + N2-2\n",
    "mu_low = stats.t.ppf(0.025,df=10+10-2, loc=wild.mean()-captivity.mean(), scale=np.sqrt(s2_pool)*np.sqrt(1/10+1/10)) \n",
    "mu_high = stats.t.ppf(0.975,df=10+10-2, loc=wild.mean()-captivity.mean(), scale=np.sqrt(s2_pool)*np.sqrt(1/10+1/10)) \n",
    "print(mu_low) \n",
    "print(mu_high) "
   ]
  },
  {
   "cell_type": "code",
   "execution_count": null,
   "metadata": {},
   "outputs": [],
   "source": []
  }
 ],
 "metadata": {
  "kernelspec": {
   "display_name": "Python 3",
   "language": "python",
   "name": "python3"
  },
  "language_info": {
   "codemirror_mode": {
    "name": "ipython",
    "version": 3
   },
   "file_extension": ".py",
   "mimetype": "text/x-python",
   "name": "python",
   "nbconvert_exporter": "python",
   "pygments_lexer": "ipython3",
   "version": "3.7.4"
  }
 },
 "nbformat": 4,
 "nbformat_minor": 2
}
